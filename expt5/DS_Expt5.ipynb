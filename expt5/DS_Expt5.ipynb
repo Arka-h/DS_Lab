{
 "cells": [
  {
   "cell_type": "code",
   "execution_count": 32,
   "metadata": {
    "_cell_guid": "b1076dfc-b9ad-4769-8c92-a6c4dae69d19",
    "_uuid": "8f2839f25d086af736a60e9eeb907d3b93b6e0e5",
    "execution": {
     "iopub.execute_input": "2022-03-02T19:34:00.729007Z",
     "iopub.status.busy": "2022-03-02T19:34:00.728712Z",
     "iopub.status.idle": "2022-03-02T19:34:00.738895Z",
     "shell.execute_reply": "2022-03-02T19:34:00.73825Z",
     "shell.execute_reply.started": "2022-03-02T19:34:00.728977Z"
    }
   },
   "outputs": [],
   "source": [
    "import numpy as np # linear algebra\n",
    "import pandas as pd # data processing, CSV file I/O (e.g. pd.read_csv)\n",
    "import missingno as msno\n",
    "import math\n",
    "from sklearn.model_selection import train_test_split\n",
    "from sklearn.linear_model import LinearRegression\n",
    "from sklearn.metrics import accuracy_score  \n",
    "from sklearn.preprocessing import StandardScaler, OrdinalEncoder\n",
    "from sklearn.metrics import roc_auc_score\n",
    "from sklearn.metrics import classification_report\n",
    "import matplotlib.pyplot as plt\n",
    "%matplotlib inline"
   ]
  },
  {
   "cell_type": "code",
   "execution_count": 33,
   "metadata": {
    "execution": {
     "iopub.execute_input": "2022-03-02T19:34:00.741175Z",
     "iopub.status.busy": "2022-03-02T19:34:00.740686Z",
     "iopub.status.idle": "2022-03-02T19:34:00.754436Z",
     "shell.execute_reply": "2022-03-02T19:34:00.753474Z",
     "shell.execute_reply.started": "2022-03-02T19:34:00.741117Z"
    }
   },
   "outputs": [],
   "source": [
    "import os\n",
    "for dirname, _, filenames in os.walk('/kaggle/input'):\n",
    "    for filename in filenames:\n",
    "        print(os.path.join(dirname, filename))"
   ]
  },
  {
   "cell_type": "markdown",
   "metadata": {},
   "source": [
    "### Importing the datasets"
   ]
  },
  {
   "cell_type": "code",
   "execution_count": 34,
   "metadata": {
    "execution": {
     "iopub.execute_input": "2022-03-02T19:34:00.756969Z",
     "iopub.status.busy": "2022-03-02T19:34:00.756286Z",
     "iopub.status.idle": "2022-03-02T19:34:00.814654Z",
     "shell.execute_reply": "2022-03-02T19:34:00.813734Z",
     "shell.execute_reply.started": "2022-03-02T19:34:00.756915Z"
    }
   },
   "outputs": [
    {
     "data": {
      "text/html": [
       "<div>\n",
       "<style scoped>\n",
       "    .dataframe tbody tr th:only-of-type {\n",
       "        vertical-align: middle;\n",
       "    }\n",
       "\n",
       "    .dataframe tbody tr th {\n",
       "        vertical-align: top;\n",
       "    }\n",
       "\n",
       "    .dataframe thead th {\n",
       "        text-align: right;\n",
       "    }\n",
       "</style>\n",
       "<table border=\"1\" class=\"dataframe\">\n",
       "  <thead>\n",
       "    <tr style=\"text-align: right;\">\n",
       "      <th></th>\n",
       "      <th>Id</th>\n",
       "      <th>MSSubClass</th>\n",
       "      <th>MSZoning</th>\n",
       "      <th>LotFrontage</th>\n",
       "      <th>LotArea</th>\n",
       "      <th>Street</th>\n",
       "      <th>Alley</th>\n",
       "      <th>LotShape</th>\n",
       "      <th>LandContour</th>\n",
       "      <th>Utilities</th>\n",
       "      <th>...</th>\n",
       "      <th>PoolArea</th>\n",
       "      <th>PoolQC</th>\n",
       "      <th>Fence</th>\n",
       "      <th>MiscFeature</th>\n",
       "      <th>MiscVal</th>\n",
       "      <th>MoSold</th>\n",
       "      <th>YrSold</th>\n",
       "      <th>SaleType</th>\n",
       "      <th>SaleCondition</th>\n",
       "      <th>SalePrice</th>\n",
       "    </tr>\n",
       "  </thead>\n",
       "  <tbody>\n",
       "    <tr>\n",
       "      <th>0</th>\n",
       "      <td>1</td>\n",
       "      <td>60</td>\n",
       "      <td>RL</td>\n",
       "      <td>65.0</td>\n",
       "      <td>8450</td>\n",
       "      <td>Pave</td>\n",
       "      <td>NaN</td>\n",
       "      <td>Reg</td>\n",
       "      <td>Lvl</td>\n",
       "      <td>AllPub</td>\n",
       "      <td>...</td>\n",
       "      <td>0</td>\n",
       "      <td>NaN</td>\n",
       "      <td>NaN</td>\n",
       "      <td>NaN</td>\n",
       "      <td>0</td>\n",
       "      <td>2</td>\n",
       "      <td>2008</td>\n",
       "      <td>WD</td>\n",
       "      <td>Normal</td>\n",
       "      <td>208500</td>\n",
       "    </tr>\n",
       "    <tr>\n",
       "      <th>1</th>\n",
       "      <td>2</td>\n",
       "      <td>20</td>\n",
       "      <td>RL</td>\n",
       "      <td>80.0</td>\n",
       "      <td>9600</td>\n",
       "      <td>Pave</td>\n",
       "      <td>NaN</td>\n",
       "      <td>Reg</td>\n",
       "      <td>Lvl</td>\n",
       "      <td>AllPub</td>\n",
       "      <td>...</td>\n",
       "      <td>0</td>\n",
       "      <td>NaN</td>\n",
       "      <td>NaN</td>\n",
       "      <td>NaN</td>\n",
       "      <td>0</td>\n",
       "      <td>5</td>\n",
       "      <td>2007</td>\n",
       "      <td>WD</td>\n",
       "      <td>Normal</td>\n",
       "      <td>181500</td>\n",
       "    </tr>\n",
       "    <tr>\n",
       "      <th>2</th>\n",
       "      <td>3</td>\n",
       "      <td>60</td>\n",
       "      <td>RL</td>\n",
       "      <td>68.0</td>\n",
       "      <td>11250</td>\n",
       "      <td>Pave</td>\n",
       "      <td>NaN</td>\n",
       "      <td>IR1</td>\n",
       "      <td>Lvl</td>\n",
       "      <td>AllPub</td>\n",
       "      <td>...</td>\n",
       "      <td>0</td>\n",
       "      <td>NaN</td>\n",
       "      <td>NaN</td>\n",
       "      <td>NaN</td>\n",
       "      <td>0</td>\n",
       "      <td>9</td>\n",
       "      <td>2008</td>\n",
       "      <td>WD</td>\n",
       "      <td>Normal</td>\n",
       "      <td>223500</td>\n",
       "    </tr>\n",
       "    <tr>\n",
       "      <th>3</th>\n",
       "      <td>4</td>\n",
       "      <td>70</td>\n",
       "      <td>RL</td>\n",
       "      <td>60.0</td>\n",
       "      <td>9550</td>\n",
       "      <td>Pave</td>\n",
       "      <td>NaN</td>\n",
       "      <td>IR1</td>\n",
       "      <td>Lvl</td>\n",
       "      <td>AllPub</td>\n",
       "      <td>...</td>\n",
       "      <td>0</td>\n",
       "      <td>NaN</td>\n",
       "      <td>NaN</td>\n",
       "      <td>NaN</td>\n",
       "      <td>0</td>\n",
       "      <td>2</td>\n",
       "      <td>2006</td>\n",
       "      <td>WD</td>\n",
       "      <td>Abnorml</td>\n",
       "      <td>140000</td>\n",
       "    </tr>\n",
       "    <tr>\n",
       "      <th>4</th>\n",
       "      <td>5</td>\n",
       "      <td>60</td>\n",
       "      <td>RL</td>\n",
       "      <td>84.0</td>\n",
       "      <td>14260</td>\n",
       "      <td>Pave</td>\n",
       "      <td>NaN</td>\n",
       "      <td>IR1</td>\n",
       "      <td>Lvl</td>\n",
       "      <td>AllPub</td>\n",
       "      <td>...</td>\n",
       "      <td>0</td>\n",
       "      <td>NaN</td>\n",
       "      <td>NaN</td>\n",
       "      <td>NaN</td>\n",
       "      <td>0</td>\n",
       "      <td>12</td>\n",
       "      <td>2008</td>\n",
       "      <td>WD</td>\n",
       "      <td>Normal</td>\n",
       "      <td>250000</td>\n",
       "    </tr>\n",
       "  </tbody>\n",
       "</table>\n",
       "<p>5 rows × 81 columns</p>\n",
       "</div>"
      ],
      "text/plain": [
       "   Id  MSSubClass MSZoning  LotFrontage  LotArea Street Alley LotShape  \\\n",
       "0   1          60       RL         65.0     8450   Pave   NaN      Reg   \n",
       "1   2          20       RL         80.0     9600   Pave   NaN      Reg   \n",
       "2   3          60       RL         68.0    11250   Pave   NaN      IR1   \n",
       "3   4          70       RL         60.0     9550   Pave   NaN      IR1   \n",
       "4   5          60       RL         84.0    14260   Pave   NaN      IR1   \n",
       "\n",
       "  LandContour Utilities  ... PoolArea PoolQC Fence MiscFeature MiscVal MoSold  \\\n",
       "0         Lvl    AllPub  ...        0    NaN   NaN         NaN       0      2   \n",
       "1         Lvl    AllPub  ...        0    NaN   NaN         NaN       0      5   \n",
       "2         Lvl    AllPub  ...        0    NaN   NaN         NaN       0      9   \n",
       "3         Lvl    AllPub  ...        0    NaN   NaN         NaN       0      2   \n",
       "4         Lvl    AllPub  ...        0    NaN   NaN         NaN       0     12   \n",
       "\n",
       "  YrSold  SaleType  SaleCondition  SalePrice  \n",
       "0   2008        WD         Normal     208500  \n",
       "1   2007        WD         Normal     181500  \n",
       "2   2008        WD         Normal     223500  \n",
       "3   2006        WD        Abnorml     140000  \n",
       "4   2008        WD         Normal     250000  \n",
       "\n",
       "[5 rows x 81 columns]"
      ]
     },
     "execution_count": 34,
     "metadata": {},
     "output_type": "execute_result"
    }
   ],
   "source": [
    "train = pd.read_csv('house-prices-advanced/train.csv') # importing the dataset\n",
    "train.head()"
   ]
  },
  {
   "cell_type": "code",
   "execution_count": 35,
   "metadata": {
    "execution": {
     "iopub.execute_input": "2022-03-02T19:34:00.820194Z",
     "iopub.status.busy": "2022-03-02T19:34:00.81971Z",
     "iopub.status.idle": "2022-03-02T19:34:00.868174Z",
     "shell.execute_reply": "2022-03-02T19:34:00.867241Z",
     "shell.execute_reply.started": "2022-03-02T19:34:00.820126Z"
    }
   },
   "outputs": [
    {
     "data": {
      "text/html": [
       "<div>\n",
       "<style scoped>\n",
       "    .dataframe tbody tr th:only-of-type {\n",
       "        vertical-align: middle;\n",
       "    }\n",
       "\n",
       "    .dataframe tbody tr th {\n",
       "        vertical-align: top;\n",
       "    }\n",
       "\n",
       "    .dataframe thead th {\n",
       "        text-align: right;\n",
       "    }\n",
       "</style>\n",
       "<table border=\"1\" class=\"dataframe\">\n",
       "  <thead>\n",
       "    <tr style=\"text-align: right;\">\n",
       "      <th></th>\n",
       "      <th>Id</th>\n",
       "      <th>MSSubClass</th>\n",
       "      <th>MSZoning</th>\n",
       "      <th>LotFrontage</th>\n",
       "      <th>LotArea</th>\n",
       "      <th>Street</th>\n",
       "      <th>Alley</th>\n",
       "      <th>LotShape</th>\n",
       "      <th>LandContour</th>\n",
       "      <th>Utilities</th>\n",
       "      <th>...</th>\n",
       "      <th>ScreenPorch</th>\n",
       "      <th>PoolArea</th>\n",
       "      <th>PoolQC</th>\n",
       "      <th>Fence</th>\n",
       "      <th>MiscFeature</th>\n",
       "      <th>MiscVal</th>\n",
       "      <th>MoSold</th>\n",
       "      <th>YrSold</th>\n",
       "      <th>SaleType</th>\n",
       "      <th>SaleCondition</th>\n",
       "    </tr>\n",
       "  </thead>\n",
       "  <tbody>\n",
       "    <tr>\n",
       "      <th>0</th>\n",
       "      <td>1461</td>\n",
       "      <td>20</td>\n",
       "      <td>RH</td>\n",
       "      <td>80.0</td>\n",
       "      <td>11622</td>\n",
       "      <td>Pave</td>\n",
       "      <td>NaN</td>\n",
       "      <td>Reg</td>\n",
       "      <td>Lvl</td>\n",
       "      <td>AllPub</td>\n",
       "      <td>...</td>\n",
       "      <td>120</td>\n",
       "      <td>0</td>\n",
       "      <td>NaN</td>\n",
       "      <td>MnPrv</td>\n",
       "      <td>NaN</td>\n",
       "      <td>0</td>\n",
       "      <td>6</td>\n",
       "      <td>2010</td>\n",
       "      <td>WD</td>\n",
       "      <td>Normal</td>\n",
       "    </tr>\n",
       "    <tr>\n",
       "      <th>1</th>\n",
       "      <td>1462</td>\n",
       "      <td>20</td>\n",
       "      <td>RL</td>\n",
       "      <td>81.0</td>\n",
       "      <td>14267</td>\n",
       "      <td>Pave</td>\n",
       "      <td>NaN</td>\n",
       "      <td>IR1</td>\n",
       "      <td>Lvl</td>\n",
       "      <td>AllPub</td>\n",
       "      <td>...</td>\n",
       "      <td>0</td>\n",
       "      <td>0</td>\n",
       "      <td>NaN</td>\n",
       "      <td>NaN</td>\n",
       "      <td>Gar2</td>\n",
       "      <td>12500</td>\n",
       "      <td>6</td>\n",
       "      <td>2010</td>\n",
       "      <td>WD</td>\n",
       "      <td>Normal</td>\n",
       "    </tr>\n",
       "    <tr>\n",
       "      <th>2</th>\n",
       "      <td>1463</td>\n",
       "      <td>60</td>\n",
       "      <td>RL</td>\n",
       "      <td>74.0</td>\n",
       "      <td>13830</td>\n",
       "      <td>Pave</td>\n",
       "      <td>NaN</td>\n",
       "      <td>IR1</td>\n",
       "      <td>Lvl</td>\n",
       "      <td>AllPub</td>\n",
       "      <td>...</td>\n",
       "      <td>0</td>\n",
       "      <td>0</td>\n",
       "      <td>NaN</td>\n",
       "      <td>MnPrv</td>\n",
       "      <td>NaN</td>\n",
       "      <td>0</td>\n",
       "      <td>3</td>\n",
       "      <td>2010</td>\n",
       "      <td>WD</td>\n",
       "      <td>Normal</td>\n",
       "    </tr>\n",
       "    <tr>\n",
       "      <th>3</th>\n",
       "      <td>1464</td>\n",
       "      <td>60</td>\n",
       "      <td>RL</td>\n",
       "      <td>78.0</td>\n",
       "      <td>9978</td>\n",
       "      <td>Pave</td>\n",
       "      <td>NaN</td>\n",
       "      <td>IR1</td>\n",
       "      <td>Lvl</td>\n",
       "      <td>AllPub</td>\n",
       "      <td>...</td>\n",
       "      <td>0</td>\n",
       "      <td>0</td>\n",
       "      <td>NaN</td>\n",
       "      <td>NaN</td>\n",
       "      <td>NaN</td>\n",
       "      <td>0</td>\n",
       "      <td>6</td>\n",
       "      <td>2010</td>\n",
       "      <td>WD</td>\n",
       "      <td>Normal</td>\n",
       "    </tr>\n",
       "    <tr>\n",
       "      <th>4</th>\n",
       "      <td>1465</td>\n",
       "      <td>120</td>\n",
       "      <td>RL</td>\n",
       "      <td>43.0</td>\n",
       "      <td>5005</td>\n",
       "      <td>Pave</td>\n",
       "      <td>NaN</td>\n",
       "      <td>IR1</td>\n",
       "      <td>HLS</td>\n",
       "      <td>AllPub</td>\n",
       "      <td>...</td>\n",
       "      <td>144</td>\n",
       "      <td>0</td>\n",
       "      <td>NaN</td>\n",
       "      <td>NaN</td>\n",
       "      <td>NaN</td>\n",
       "      <td>0</td>\n",
       "      <td>1</td>\n",
       "      <td>2010</td>\n",
       "      <td>WD</td>\n",
       "      <td>Normal</td>\n",
       "    </tr>\n",
       "  </tbody>\n",
       "</table>\n",
       "<p>5 rows × 80 columns</p>\n",
       "</div>"
      ],
      "text/plain": [
       "     Id  MSSubClass MSZoning  LotFrontage  LotArea Street Alley LotShape  \\\n",
       "0  1461          20       RH         80.0    11622   Pave   NaN      Reg   \n",
       "1  1462          20       RL         81.0    14267   Pave   NaN      IR1   \n",
       "2  1463          60       RL         74.0    13830   Pave   NaN      IR1   \n",
       "3  1464          60       RL         78.0     9978   Pave   NaN      IR1   \n",
       "4  1465         120       RL         43.0     5005   Pave   NaN      IR1   \n",
       "\n",
       "  LandContour Utilities  ... ScreenPorch PoolArea PoolQC  Fence MiscFeature  \\\n",
       "0         Lvl    AllPub  ...         120        0    NaN  MnPrv         NaN   \n",
       "1         Lvl    AllPub  ...           0        0    NaN    NaN        Gar2   \n",
       "2         Lvl    AllPub  ...           0        0    NaN  MnPrv         NaN   \n",
       "3         Lvl    AllPub  ...           0        0    NaN    NaN         NaN   \n",
       "4         HLS    AllPub  ...         144        0    NaN    NaN         NaN   \n",
       "\n",
       "  MiscVal MoSold  YrSold  SaleType  SaleCondition  \n",
       "0       0      6    2010        WD         Normal  \n",
       "1   12500      6    2010        WD         Normal  \n",
       "2       0      3    2010        WD         Normal  \n",
       "3       0      6    2010        WD         Normal  \n",
       "4       0      1    2010        WD         Normal  \n",
       "\n",
       "[5 rows x 80 columns]"
      ]
     },
     "execution_count": 35,
     "metadata": {},
     "output_type": "execute_result"
    }
   ],
   "source": [
    "test = pd.read_csv('house-prices-advanced/test.csv') # importing the dataset\n",
    "test.head()"
   ]
  },
  {
   "cell_type": "markdown",
   "metadata": {},
   "source": [
    "Taking a look at the housing dataset, we see.."
   ]
  },
  {
   "cell_type": "code",
   "execution_count": 36,
   "metadata": {
    "execution": {
     "iopub.execute_input": "2022-03-02T19:34:00.885215Z",
     "iopub.status.busy": "2022-03-02T19:34:00.884904Z",
     "iopub.status.idle": "2022-03-02T19:34:00.891053Z",
     "shell.execute_reply": "2022-03-02T19:34:00.889845Z",
     "shell.execute_reply.started": "2022-03-02T19:34:00.885168Z"
    }
   },
   "outputs": [
    {
     "name": "stdout",
     "output_type": "stream",
     "text": [
      "0.5002% testing data\n",
      "0.50% training data\n"
     ]
    }
   ],
   "source": [
    "print(f\"{len(train)/(len(train)+len(test)):.4f}% testing data\\n{len(test)/(len(train)+len(test)):.2f}% training data\")"
   ]
  },
  {
   "cell_type": "code",
   "execution_count": 37,
   "metadata": {
    "execution": {
     "iopub.execute_input": "2022-03-02T19:34:00.893191Z",
     "iopub.status.busy": "2022-03-02T19:34:00.892869Z",
     "iopub.status.idle": "2022-03-02T19:34:00.927069Z",
     "shell.execute_reply": "2022-03-02T19:34:00.925838Z",
     "shell.execute_reply.started": "2022-03-02T19:34:00.893133Z"
    }
   },
   "outputs": [
    {
     "name": "stdout",
     "output_type": "stream",
     "text": [
      "<class 'pandas.core.frame.DataFrame'>\n",
      "RangeIndex: 1460 entries, 0 to 1459\n",
      "Data columns (total 81 columns):\n",
      " #   Column         Non-Null Count  Dtype  \n",
      "---  ------         --------------  -----  \n",
      " 0   Id             1460 non-null   int64  \n",
      " 1   MSSubClass     1460 non-null   int64  \n",
      " 2   MSZoning       1460 non-null   object \n",
      " 3   LotFrontage    1201 non-null   float64\n",
      " 4   LotArea        1460 non-null   int64  \n",
      " 5   Street         1460 non-null   object \n",
      " 6   Alley          91 non-null     object \n",
      " 7   LotShape       1460 non-null   object \n",
      " 8   LandContour    1460 non-null   object \n",
      " 9   Utilities      1460 non-null   object \n",
      " 10  LotConfig      1460 non-null   object \n",
      " 11  LandSlope      1460 non-null   object \n",
      " 12  Neighborhood   1460 non-null   object \n",
      " 13  Condition1     1460 non-null   object \n",
      " 14  Condition2     1460 non-null   object \n",
      " 15  BldgType       1460 non-null   object \n",
      " 16  HouseStyle     1460 non-null   object \n",
      " 17  OverallQual    1460 non-null   int64  \n",
      " 18  OverallCond    1460 non-null   int64  \n",
      " 19  YearBuilt      1460 non-null   int64  \n",
      " 20  YearRemodAdd   1460 non-null   int64  \n",
      " 21  RoofStyle      1460 non-null   object \n",
      " 22  RoofMatl       1460 non-null   object \n",
      " 23  Exterior1st    1460 non-null   object \n",
      " 24  Exterior2nd    1460 non-null   object \n",
      " 25  MasVnrType     1452 non-null   object \n",
      " 26  MasVnrArea     1452 non-null   float64\n",
      " 27  ExterQual      1460 non-null   object \n",
      " 28  ExterCond      1460 non-null   object \n",
      " 29  Foundation     1460 non-null   object \n",
      " 30  BsmtQual       1423 non-null   object \n",
      " 31  BsmtCond       1423 non-null   object \n",
      " 32  BsmtExposure   1422 non-null   object \n",
      " 33  BsmtFinType1   1423 non-null   object \n",
      " 34  BsmtFinSF1     1460 non-null   int64  \n",
      " 35  BsmtFinType2   1422 non-null   object \n",
      " 36  BsmtFinSF2     1460 non-null   int64  \n",
      " 37  BsmtUnfSF      1460 non-null   int64  \n",
      " 38  TotalBsmtSF    1460 non-null   int64  \n",
      " 39  Heating        1460 non-null   object \n",
      " 40  HeatingQC      1460 non-null   object \n",
      " 41  CentralAir     1460 non-null   object \n",
      " 42  Electrical     1459 non-null   object \n",
      " 43  1stFlrSF       1460 non-null   int64  \n",
      " 44  2ndFlrSF       1460 non-null   int64  \n",
      " 45  LowQualFinSF   1460 non-null   int64  \n",
      " 46  GrLivArea      1460 non-null   int64  \n",
      " 47  BsmtFullBath   1460 non-null   int64  \n",
      " 48  BsmtHalfBath   1460 non-null   int64  \n",
      " 49  FullBath       1460 non-null   int64  \n",
      " 50  HalfBath       1460 non-null   int64  \n",
      " 51  BedroomAbvGr   1460 non-null   int64  \n",
      " 52  KitchenAbvGr   1460 non-null   int64  \n",
      " 53  KitchenQual    1460 non-null   object \n",
      " 54  TotRmsAbvGrd   1460 non-null   int64  \n",
      " 55  Functional     1460 non-null   object \n",
      " 56  Fireplaces     1460 non-null   int64  \n",
      " 57  FireplaceQu    770 non-null    object \n",
      " 58  GarageType     1379 non-null   object \n",
      " 59  GarageYrBlt    1379 non-null   float64\n",
      " 60  GarageFinish   1379 non-null   object \n",
      " 61  GarageCars     1460 non-null   int64  \n",
      " 62  GarageArea     1460 non-null   int64  \n",
      " 63  GarageQual     1379 non-null   object \n",
      " 64  GarageCond     1379 non-null   object \n",
      " 65  PavedDrive     1460 non-null   object \n",
      " 66  WoodDeckSF     1460 non-null   int64  \n",
      " 67  OpenPorchSF    1460 non-null   int64  \n",
      " 68  EnclosedPorch  1460 non-null   int64  \n",
      " 69  3SsnPorch      1460 non-null   int64  \n",
      " 70  ScreenPorch    1460 non-null   int64  \n",
      " 71  PoolArea       1460 non-null   int64  \n",
      " 72  PoolQC         7 non-null      object \n",
      " 73  Fence          281 non-null    object \n",
      " 74  MiscFeature    54 non-null     object \n",
      " 75  MiscVal        1460 non-null   int64  \n",
      " 76  MoSold         1460 non-null   int64  \n",
      " 77  YrSold         1460 non-null   int64  \n",
      " 78  SaleType       1460 non-null   object \n",
      " 79  SaleCondition  1460 non-null   object \n",
      " 80  SalePrice      1460 non-null   int64  \n",
      "dtypes: float64(3), int64(35), object(43)\n",
      "memory usage: 924.0+ KB\n"
     ]
    }
   ],
   "source": [
    "train.info()"
   ]
  },
  {
   "cell_type": "markdown",
   "metadata": {},
   "source": [
    "## Model0 on raw data"
   ]
  },
  {
   "cell_type": "markdown",
   "metadata": {},
   "source": [
    "Without the categorical features, using only the numeric features without any preprocessing"
   ]
  },
  {
   "cell_type": "code",
   "execution_count": 38,
   "metadata": {
    "execution": {
     "iopub.execute_input": "2022-03-02T19:34:00.934802Z",
     "iopub.status.busy": "2022-03-02T19:34:00.934063Z",
     "iopub.status.idle": "2022-03-02T19:34:00.959914Z",
     "shell.execute_reply": "2022-03-02T19:34:00.959023Z",
     "shell.execute_reply.started": "2022-03-02T19:34:00.934751Z"
    }
   },
   "outputs": [
    {
     "data": {
      "text/html": [
       "<div>\n",
       "<style scoped>\n",
       "    .dataframe tbody tr th:only-of-type {\n",
       "        vertical-align: middle;\n",
       "    }\n",
       "\n",
       "    .dataframe tbody tr th {\n",
       "        vertical-align: top;\n",
       "    }\n",
       "\n",
       "    .dataframe thead th {\n",
       "        text-align: right;\n",
       "    }\n",
       "</style>\n",
       "<table border=\"1\" class=\"dataframe\">\n",
       "  <thead>\n",
       "    <tr style=\"text-align: right;\">\n",
       "      <th></th>\n",
       "      <th>Id</th>\n",
       "      <th>MSSubClass</th>\n",
       "      <th>LotFrontage</th>\n",
       "      <th>LotArea</th>\n",
       "      <th>OverallQual</th>\n",
       "      <th>OverallCond</th>\n",
       "      <th>YearBuilt</th>\n",
       "      <th>YearRemodAdd</th>\n",
       "      <th>MasVnrArea</th>\n",
       "      <th>BsmtFinSF1</th>\n",
       "      <th>...</th>\n",
       "      <th>WoodDeckSF</th>\n",
       "      <th>OpenPorchSF</th>\n",
       "      <th>EnclosedPorch</th>\n",
       "      <th>3SsnPorch</th>\n",
       "      <th>ScreenPorch</th>\n",
       "      <th>PoolArea</th>\n",
       "      <th>MiscVal</th>\n",
       "      <th>MoSold</th>\n",
       "      <th>YrSold</th>\n",
       "      <th>SalePrice</th>\n",
       "    </tr>\n",
       "  </thead>\n",
       "  <tbody>\n",
       "    <tr>\n",
       "      <th>0</th>\n",
       "      <td>1</td>\n",
       "      <td>60</td>\n",
       "      <td>65.0</td>\n",
       "      <td>8450</td>\n",
       "      <td>7</td>\n",
       "      <td>5</td>\n",
       "      <td>2003</td>\n",
       "      <td>2003</td>\n",
       "      <td>196.0</td>\n",
       "      <td>706</td>\n",
       "      <td>...</td>\n",
       "      <td>0</td>\n",
       "      <td>61</td>\n",
       "      <td>0</td>\n",
       "      <td>0</td>\n",
       "      <td>0</td>\n",
       "      <td>0</td>\n",
       "      <td>0</td>\n",
       "      <td>2</td>\n",
       "      <td>2008</td>\n",
       "      <td>208500</td>\n",
       "    </tr>\n",
       "    <tr>\n",
       "      <th>1</th>\n",
       "      <td>2</td>\n",
       "      <td>20</td>\n",
       "      <td>80.0</td>\n",
       "      <td>9600</td>\n",
       "      <td>6</td>\n",
       "      <td>8</td>\n",
       "      <td>1976</td>\n",
       "      <td>1976</td>\n",
       "      <td>0.0</td>\n",
       "      <td>978</td>\n",
       "      <td>...</td>\n",
       "      <td>298</td>\n",
       "      <td>0</td>\n",
       "      <td>0</td>\n",
       "      <td>0</td>\n",
       "      <td>0</td>\n",
       "      <td>0</td>\n",
       "      <td>0</td>\n",
       "      <td>5</td>\n",
       "      <td>2007</td>\n",
       "      <td>181500</td>\n",
       "    </tr>\n",
       "    <tr>\n",
       "      <th>2</th>\n",
       "      <td>3</td>\n",
       "      <td>60</td>\n",
       "      <td>68.0</td>\n",
       "      <td>11250</td>\n",
       "      <td>7</td>\n",
       "      <td>5</td>\n",
       "      <td>2001</td>\n",
       "      <td>2002</td>\n",
       "      <td>162.0</td>\n",
       "      <td>486</td>\n",
       "      <td>...</td>\n",
       "      <td>0</td>\n",
       "      <td>42</td>\n",
       "      <td>0</td>\n",
       "      <td>0</td>\n",
       "      <td>0</td>\n",
       "      <td>0</td>\n",
       "      <td>0</td>\n",
       "      <td>9</td>\n",
       "      <td>2008</td>\n",
       "      <td>223500</td>\n",
       "    </tr>\n",
       "    <tr>\n",
       "      <th>3</th>\n",
       "      <td>4</td>\n",
       "      <td>70</td>\n",
       "      <td>60.0</td>\n",
       "      <td>9550</td>\n",
       "      <td>7</td>\n",
       "      <td>5</td>\n",
       "      <td>1915</td>\n",
       "      <td>1970</td>\n",
       "      <td>0.0</td>\n",
       "      <td>216</td>\n",
       "      <td>...</td>\n",
       "      <td>0</td>\n",
       "      <td>35</td>\n",
       "      <td>272</td>\n",
       "      <td>0</td>\n",
       "      <td>0</td>\n",
       "      <td>0</td>\n",
       "      <td>0</td>\n",
       "      <td>2</td>\n",
       "      <td>2006</td>\n",
       "      <td>140000</td>\n",
       "    </tr>\n",
       "    <tr>\n",
       "      <th>4</th>\n",
       "      <td>5</td>\n",
       "      <td>60</td>\n",
       "      <td>84.0</td>\n",
       "      <td>14260</td>\n",
       "      <td>8</td>\n",
       "      <td>5</td>\n",
       "      <td>2000</td>\n",
       "      <td>2000</td>\n",
       "      <td>350.0</td>\n",
       "      <td>655</td>\n",
       "      <td>...</td>\n",
       "      <td>192</td>\n",
       "      <td>84</td>\n",
       "      <td>0</td>\n",
       "      <td>0</td>\n",
       "      <td>0</td>\n",
       "      <td>0</td>\n",
       "      <td>0</td>\n",
       "      <td>12</td>\n",
       "      <td>2008</td>\n",
       "      <td>250000</td>\n",
       "    </tr>\n",
       "  </tbody>\n",
       "</table>\n",
       "<p>5 rows × 38 columns</p>\n",
       "</div>"
      ],
      "text/plain": [
       "   Id  MSSubClass  LotFrontage  LotArea  OverallQual  OverallCond  YearBuilt  \\\n",
       "0   1          60         65.0     8450            7            5       2003   \n",
       "1   2          20         80.0     9600            6            8       1976   \n",
       "2   3          60         68.0    11250            7            5       2001   \n",
       "3   4          70         60.0     9550            7            5       1915   \n",
       "4   5          60         84.0    14260            8            5       2000   \n",
       "\n",
       "   YearRemodAdd  MasVnrArea  BsmtFinSF1  ...  WoodDeckSF  OpenPorchSF  \\\n",
       "0          2003       196.0         706  ...           0           61   \n",
       "1          1976         0.0         978  ...         298            0   \n",
       "2          2002       162.0         486  ...           0           42   \n",
       "3          1970         0.0         216  ...           0           35   \n",
       "4          2000       350.0         655  ...         192           84   \n",
       "\n",
       "   EnclosedPorch  3SsnPorch  ScreenPorch  PoolArea  MiscVal  MoSold  YrSold  \\\n",
       "0              0          0            0         0        0       2    2008   \n",
       "1              0          0            0         0        0       5    2007   \n",
       "2              0          0            0         0        0       9    2008   \n",
       "3            272          0            0         0        0       2    2006   \n",
       "4              0          0            0         0        0      12    2008   \n",
       "\n",
       "   SalePrice  \n",
       "0     208500  \n",
       "1     181500  \n",
       "2     223500  \n",
       "3     140000  \n",
       "4     250000  \n",
       "\n",
       "[5 rows x 38 columns]"
      ]
     },
     "execution_count": 38,
     "metadata": {},
     "output_type": "execute_result"
    }
   ],
   "source": [
    "model0_train = train.drop(columns=train.select_dtypes(include = \"object\").columns, axis=1)\n",
    "model0_train.head()"
   ]
  },
  {
   "cell_type": "code",
   "execution_count": 39,
   "metadata": {
    "execution": {
     "iopub.execute_input": "2022-03-02T19:34:00.995457Z",
     "iopub.status.busy": "2022-03-02T19:34:00.995187Z",
     "iopub.status.idle": "2022-03-02T19:34:04.796406Z",
     "shell.execute_reply": "2022-03-02T19:34:04.795523Z",
     "shell.execute_reply.started": "2022-03-02T19:34:00.995429Z"
    }
   },
   "outputs": [
    {
     "data": {
      "text/plain": [
       "<matplotlib.axes._subplots.AxesSubplot at 0x1e08877a8b0>"
      ]
     },
     "execution_count": 39,
     "metadata": {},
     "output_type": "execute_result"
    },
    {
     "data": {
      "image/png": "[encoded data removed]",
      "text/plain": [
       "<Figure size 1800x720 with 3 Axes>"
      ]
     },
     "metadata": {
      "needs_background": "light"
     },
     "output_type": "display_data"
    }
   ],
   "source": [
    "msno.bar(model0_train)"
   ]
  },
  {
   "cell_type": "markdown",
   "metadata": {},
   "source": [
    "- We see that **LotFrontage** and **GarageYrBlt** are both containing NaN and this would result in runtime error during regression prediction.\n",
    "- So, filling NA values with the median values for those columns"
   ]
  },
  {
   "cell_type": "code",
   "execution_count": 40,
   "metadata": {
    "execution": {
     "iopub.execute_input": "2022-03-02T19:34:04.798696Z",
     "iopub.status.busy": "2022-03-02T19:34:04.798217Z",
     "iopub.status.idle": "2022-03-02T19:34:04.82027Z",
     "shell.execute_reply": "2022-03-02T19:34:04.819016Z",
     "shell.execute_reply.started": "2022-03-02T19:34:04.798652Z"
    }
   },
   "outputs": [
    {
     "data": {
      "text/html": [
       "<div>\n",
       "<style scoped>\n",
       "    .dataframe tbody tr th:only-of-type {\n",
       "        vertical-align: middle;\n",
       "    }\n",
       "\n",
       "    .dataframe tbody tr th {\n",
       "        vertical-align: top;\n",
       "    }\n",
       "\n",
       "    .dataframe thead th {\n",
       "        text-align: right;\n",
       "    }\n",
       "</style>\n",
       "<table border=\"1\" class=\"dataframe\">\n",
       "  <thead>\n",
       "    <tr style=\"text-align: right;\">\n",
       "      <th></th>\n",
       "      <th>LotFrontage</th>\n",
       "      <th>GarageYrBlt</th>\n",
       "    </tr>\n",
       "  </thead>\n",
       "  <tbody>\n",
       "    <tr>\n",
       "      <th>count</th>\n",
       "      <td>1201.000000</td>\n",
       "      <td>1379.000000</td>\n",
       "    </tr>\n",
       "    <tr>\n",
       "      <th>mean</th>\n",
       "      <td>70.049958</td>\n",
       "      <td>1978.506164</td>\n",
       "    </tr>\n",
       "    <tr>\n",
       "      <th>std</th>\n",
       "      <td>24.284752</td>\n",
       "      <td>24.689725</td>\n",
       "    </tr>\n",
       "    <tr>\n",
       "      <th>min</th>\n",
       "      <td>21.000000</td>\n",
       "      <td>1900.000000</td>\n",
       "    </tr>\n",
       "    <tr>\n",
       "      <th>25%</th>\n",
       "      <td>59.000000</td>\n",
       "      <td>1961.000000</td>\n",
       "    </tr>\n",
       "    <tr>\n",
       "      <th>50%</th>\n",
       "      <td>69.000000</td>\n",
       "      <td>1980.000000</td>\n",
       "    </tr>\n",
       "    <tr>\n",
       "      <th>75%</th>\n",
       "      <td>80.000000</td>\n",
       "      <td>2002.000000</td>\n",
       "    </tr>\n",
       "    <tr>\n",
       "      <th>max</th>\n",
       "      <td>313.000000</td>\n",
       "      <td>2010.000000</td>\n",
       "    </tr>\n",
       "  </tbody>\n",
       "</table>\n",
       "</div>"
      ],
      "text/plain": [
       "       LotFrontage  GarageYrBlt\n",
       "count  1201.000000  1379.000000\n",
       "mean     70.049958  1978.506164\n",
       "std      24.284752    24.689725\n",
       "min      21.000000  1900.000000\n",
       "25%      59.000000  1961.000000\n",
       "50%      69.000000  1980.000000\n",
       "75%      80.000000  2002.000000\n",
       "max     313.000000  2010.000000"
      ]
     },
     "execution_count": 40,
     "metadata": {},
     "output_type": "execute_result"
    }
   ],
   "source": [
    "model0_train[['LotFrontage','GarageYrBlt']].describe()"
   ]
  },
  {
   "cell_type": "code",
   "execution_count": 41,
   "metadata": {
    "execution": {
     "iopub.execute_input": "2022-03-02T19:34:04.821753Z",
     "iopub.status.busy": "2022-03-02T19:34:04.821504Z",
     "iopub.status.idle": "2022-03-02T19:34:04.856651Z",
     "shell.execute_reply": "2022-03-02T19:34:04.85555Z",
     "shell.execute_reply.started": "2022-03-02T19:34:04.821722Z"
    }
   },
   "outputs": [],
   "source": [
    "model0_train = model0_train.fillna(model0_train.mode().iloc[0,:])"
   ]
  },
  {
   "cell_type": "markdown",
   "metadata": {},
   "source": [
    "### Train-Test Split"
   ]
  },
  {
   "cell_type": "code",
   "execution_count": 42,
   "metadata": {
    "execution": {
     "iopub.execute_input": "2022-03-02T19:34:04.858308Z",
     "iopub.status.busy": "2022-03-02T19:34:04.857924Z",
     "iopub.status.idle": "2022-03-02T19:34:04.867516Z",
     "shell.execute_reply": "2022-03-02T19:34:04.866741Z",
     "shell.execute_reply.started": "2022-03-02T19:34:04.858277Z"
    }
   },
   "outputs": [],
   "source": [
    "seed = 483 # found experimentally at the end\n",
    "X = model0_train.drop(columns=['SalePrice','Id'],axis=1) # features \n",
    "y = model0_train['SalePrice'] # target\n",
    "X_train, X_test, y_train, y_test = train_test_split(X, y,  test_size = 0.2, \n",
    "                                                        random_state = seed)"
   ]
  },
  {
   "cell_type": "markdown",
   "metadata": {},
   "source": [
    "### Scaling"
   ]
  },
  {
   "cell_type": "code",
   "execution_count": 43,
   "metadata": {
    "execution": {
     "iopub.execute_input": "2022-03-02T19:34:04.869862Z",
     "iopub.status.busy": "2022-03-02T19:34:04.8695Z",
     "iopub.status.idle": "2022-03-02T19:34:04.907591Z",
     "shell.execute_reply": "2022-03-02T19:34:04.906685Z",
     "shell.execute_reply.started": "2022-03-02T19:34:04.869832Z"
    }
   },
   "outputs": [
    {
     "data": {
      "text/html": [
       "<div>\n",
       "<style scoped>\n",
       "    .dataframe tbody tr th:only-of-type {\n",
       "        vertical-align: middle;\n",
       "    }\n",
       "\n",
       "    .dataframe tbody tr th {\n",
       "        vertical-align: top;\n",
       "    }\n",
       "\n",
       "    .dataframe thead th {\n",
       "        text-align: right;\n",
       "    }\n",
       "</style>\n",
       "<table border=\"1\" class=\"dataframe\">\n",
       "  <thead>\n",
       "    <tr style=\"text-align: right;\">\n",
       "      <th></th>\n",
       "      <th>MSSubClass</th>\n",
       "      <th>LotFrontage</th>\n",
       "      <th>LotArea</th>\n",
       "      <th>OverallQual</th>\n",
       "      <th>OverallCond</th>\n",
       "      <th>YearBuilt</th>\n",
       "      <th>YearRemodAdd</th>\n",
       "      <th>MasVnrArea</th>\n",
       "      <th>BsmtFinSF1</th>\n",
       "      <th>BsmtFinSF2</th>\n",
       "      <th>...</th>\n",
       "      <th>GarageArea</th>\n",
       "      <th>WoodDeckSF</th>\n",
       "      <th>OpenPorchSF</th>\n",
       "      <th>EnclosedPorch</th>\n",
       "      <th>3SsnPorch</th>\n",
       "      <th>ScreenPorch</th>\n",
       "      <th>PoolArea</th>\n",
       "      <th>MiscVal</th>\n",
       "      <th>MoSold</th>\n",
       "      <th>YrSold</th>\n",
       "    </tr>\n",
       "  </thead>\n",
       "  <tbody>\n",
       "    <tr>\n",
       "      <th>0</th>\n",
       "      <td>0.073375</td>\n",
       "      <td>-0.146189</td>\n",
       "      <td>-0.207142</td>\n",
       "      <td>0.651479</td>\n",
       "      <td>-0.517200</td>\n",
       "      <td>1.050994</td>\n",
       "      <td>0.878668</td>\n",
       "      <td>0.514104</td>\n",
       "      <td>0.575425</td>\n",
       "      <td>-0.288653</td>\n",
       "      <td>...</td>\n",
       "      <td>0.351000</td>\n",
       "      <td>-0.752176</td>\n",
       "      <td>0.216503</td>\n",
       "      <td>-0.359325</td>\n",
       "      <td>-0.116339</td>\n",
       "      <td>-0.270208</td>\n",
       "      <td>-0.068692</td>\n",
       "      <td>-0.087688</td>\n",
       "      <td>-1.599111</td>\n",
       "      <td>0.138777</td>\n",
       "    </tr>\n",
       "    <tr>\n",
       "      <th>1</th>\n",
       "      <td>-0.872563</td>\n",
       "      <td>0.524992</td>\n",
       "      <td>-0.091886</td>\n",
       "      <td>-0.071836</td>\n",
       "      <td>2.179628</td>\n",
       "      <td>0.156734</td>\n",
       "      <td>-0.429577</td>\n",
       "      <td>-0.570750</td>\n",
       "      <td>1.171992</td>\n",
       "      <td>-0.288653</td>\n",
       "      <td>...</td>\n",
       "      <td>-0.060731</td>\n",
       "      <td>1.626195</td>\n",
       "      <td>-0.704483</td>\n",
       "      <td>-0.359325</td>\n",
       "      <td>-0.116339</td>\n",
       "      <td>-0.270208</td>\n",
       "      <td>-0.068692</td>\n",
       "      <td>-0.087688</td>\n",
       "      <td>-0.489110</td>\n",
       "      <td>-0.614439</td>\n",
       "    </tr>\n",
       "    <tr>\n",
       "      <th>2</th>\n",
       "      <td>0.073375</td>\n",
       "      <td>-0.011953</td>\n",
       "      <td>0.073480</td>\n",
       "      <td>0.651479</td>\n",
       "      <td>-0.517200</td>\n",
       "      <td>0.984752</td>\n",
       "      <td>0.830215</td>\n",
       "      <td>0.325915</td>\n",
       "      <td>0.092907</td>\n",
       "      <td>-0.288653</td>\n",
       "      <td>...</td>\n",
       "      <td>0.631726</td>\n",
       "      <td>-0.752176</td>\n",
       "      <td>-0.070361</td>\n",
       "      <td>-0.359325</td>\n",
       "      <td>-0.116339</td>\n",
       "      <td>-0.270208</td>\n",
       "      <td>-0.068692</td>\n",
       "      <td>-0.087688</td>\n",
       "      <td>0.990891</td>\n",
       "      <td>0.138777</td>\n",
       "    </tr>\n",
       "    <tr>\n",
       "      <th>3</th>\n",
       "      <td>0.309859</td>\n",
       "      <td>-0.369915</td>\n",
       "      <td>-0.096897</td>\n",
       "      <td>0.651479</td>\n",
       "      <td>-0.517200</td>\n",
       "      <td>-1.863632</td>\n",
       "      <td>-0.720298</td>\n",
       "      <td>-0.570750</td>\n",
       "      <td>-0.499274</td>\n",
       "      <td>-0.288653</td>\n",
       "      <td>...</td>\n",
       "      <td>0.790804</td>\n",
       "      <td>-0.752176</td>\n",
       "      <td>-0.176048</td>\n",
       "      <td>4.092524</td>\n",
       "      <td>-0.116339</td>\n",
       "      <td>-0.270208</td>\n",
       "      <td>-0.068692</td>\n",
       "      <td>-0.087688</td>\n",
       "      <td>-1.599111</td>\n",
       "      <td>-1.367655</td>\n",
       "    </tr>\n",
       "    <tr>\n",
       "      <th>4</th>\n",
       "      <td>0.073375</td>\n",
       "      <td>0.703973</td>\n",
       "      <td>0.375148</td>\n",
       "      <td>1.374795</td>\n",
       "      <td>-0.517200</td>\n",
       "      <td>0.951632</td>\n",
       "      <td>0.733308</td>\n",
       "      <td>1.366489</td>\n",
       "      <td>0.463568</td>\n",
       "      <td>-0.288653</td>\n",
       "      <td>...</td>\n",
       "      <td>1.698485</td>\n",
       "      <td>0.780197</td>\n",
       "      <td>0.563760</td>\n",
       "      <td>-0.359325</td>\n",
       "      <td>-0.116339</td>\n",
       "      <td>-0.270208</td>\n",
       "      <td>-0.068692</td>\n",
       "      <td>-0.087688</td>\n",
       "      <td>2.100892</td>\n",
       "      <td>0.138777</td>\n",
       "    </tr>\n",
       "  </tbody>\n",
       "</table>\n",
       "<p>5 rows × 36 columns</p>\n",
       "</div>"
      ],
      "text/plain": [
       "   MSSubClass  LotFrontage   LotArea  OverallQual  OverallCond  YearBuilt  \\\n",
       "0    0.073375    -0.146189 -0.207142     0.651479    -0.517200   1.050994   \n",
       "1   -0.872563     0.524992 -0.091886    -0.071836     2.179628   0.156734   \n",
       "2    0.073375    -0.011953  0.073480     0.651479    -0.517200   0.984752   \n",
       "3    0.309859    -0.369915 -0.096897     0.651479    -0.517200  -1.863632   \n",
       "4    0.073375     0.703973  0.375148     1.374795    -0.517200   0.951632   \n",
       "\n",
       "   YearRemodAdd  MasVnrArea  BsmtFinSF1  BsmtFinSF2  ...  GarageArea  \\\n",
       "0      0.878668    0.514104    0.575425   -0.288653  ...    0.351000   \n",
       "1     -0.429577   -0.570750    1.171992   -0.288653  ...   -0.060731   \n",
       "2      0.830215    0.325915    0.092907   -0.288653  ...    0.631726   \n",
       "3     -0.720298   -0.570750   -0.499274   -0.288653  ...    0.790804   \n",
       "4      0.733308    1.366489    0.463568   -0.288653  ...    1.698485   \n",
       "\n",
       "   WoodDeckSF  OpenPorchSF  EnclosedPorch  3SsnPorch  ScreenPorch  PoolArea  \\\n",
       "0   -0.752176     0.216503      -0.359325  -0.116339    -0.270208 -0.068692   \n",
       "1    1.626195    -0.704483      -0.359325  -0.116339    -0.270208 -0.068692   \n",
       "2   -0.752176    -0.070361      -0.359325  -0.116339    -0.270208 -0.068692   \n",
       "3   -0.752176    -0.176048       4.092524  -0.116339    -0.270208 -0.068692   \n",
       "4    0.780197     0.563760      -0.359325  -0.116339    -0.270208 -0.068692   \n",
       "\n",
       "    MiscVal    MoSold    YrSold  \n",
       "0 -0.087688 -1.599111  0.138777  \n",
       "1 -0.087688 -0.489110 -0.614439  \n",
       "2 -0.087688  0.990891  0.138777  \n",
       "3 -0.087688 -1.599111 -1.367655  \n",
       "4 -0.087688  2.100892  0.138777  \n",
       "\n",
       "[5 rows x 36 columns]"
      ]
     },
     "execution_count": 43,
     "metadata": {},
     "output_type": "execute_result"
    }
   ],
   "source": [
    "scaler=StandardScaler()\n",
    "X=pd.DataFrame(scaler.fit_transform(X), columns=X.columns)\n",
    "X.head()"
   ]
  },
  {
   "cell_type": "markdown",
   "metadata": {},
   "source": [
    "### Linear Regression"
   ]
  },
  {
   "cell_type": "code",
   "execution_count": 44,
   "metadata": {
    "execution": {
     "iopub.execute_input": "2022-03-02T19:34:04.909377Z",
     "iopub.status.busy": "2022-03-02T19:34:04.908934Z",
     "iopub.status.idle": "2022-03-02T19:34:04.949953Z",
     "shell.execute_reply": "2022-03-02T19:34:04.94741Z",
     "shell.execute_reply.started": "2022-03-02T19:34:04.909322Z"
    }
   },
   "outputs": [
    {
     "name": "stdout",
     "output_type": "stream",
     "text": [
      "The accuracy for Model0 is : 0.5259\n"
     ]
    }
   ],
   "source": [
    "model0=LinearRegression()\n",
    "model0.fit(X_train, y_train)\n",
    "print(f'The accuracy for Model0 is : {model0.score(X_test, y_test):.4f}')"
   ]
  },
  {
   "cell_type": "markdown",
   "metadata": {},
   "source": [
    "The baseline accuracy without considering the categorical data for the house price prediction is about **53%**"
   ]
  },
  {
   "cell_type": "markdown",
   "metadata": {},
   "source": [
    "# Cleaning the data before training Linear Regression model"
   ]
  },
  {
   "cell_type": "markdown",
   "metadata": {},
   "source": [
    "## PreProcessing"
   ]
  },
  {
   "cell_type": "code",
   "execution_count": 45,
   "metadata": {
    "execution": {
     "iopub.execute_input": "2022-03-02T19:34:04.957063Z",
     "iopub.status.busy": "2022-03-02T19:34:04.952676Z",
     "iopub.status.idle": "2022-03-02T19:34:06.685537Z",
     "shell.execute_reply": "2022-03-02T19:34:06.684692Z",
     "shell.execute_reply.started": "2022-03-02T19:34:04.956983Z"
    }
   },
   "outputs": [
    {
     "data": {
      "text/plain": [
       "<matplotlib.axes._subplots.AxesSubplot at 0x1e08c38a1c0>"
      ]
     },
     "execution_count": 45,
     "metadata": {},
     "output_type": "execute_result"
    },
    {
     "data": {
      "image/png": "[encoded data removed]",
      "text/plain": [
       "<Figure size 1800x720 with 3 Axes>"
      ]
     },
     "metadata": {
      "needs_background": "light"
     },
     "output_type": "display_data"
    }
   ],
   "source": [
    "cols = train.columns\n",
    "# train cols[]\n",
    "null_cols_train = train[ # train with the columns have more than one null\n",
    "    cols[  # mask the columns having more than one null\n",
    "        [np.any( # If any of them is Truly NaN, captures that colm, in another boolean array\n",
    "            train[col] # returns array of [True/False]\n",
    "            .isnull()\n",
    "        ) for col in cols]\n",
    "    ]\n",
    "]\n",
    "msno.bar(null_cols_train) # Visualizing how many are NULL of each column"
   ]
  },
  {
   "cell_type": "markdown",
   "metadata": {},
   "source": [
    "Taking 80% as the minimum threshold value for keeping a column,we see that **Alley**, **FireplaceQu**, **PoolQC**, **Fence**, **MiscFeature** fall way below the threshold, and are thus removed."
   ]
  },
  {
   "cell_type": "code",
   "execution_count": 46,
   "metadata": {
    "execution": {
     "iopub.execute_input": "2022-03-02T19:34:06.68782Z",
     "iopub.status.busy": "2022-03-02T19:34:06.687209Z",
     "iopub.status.idle": "2022-03-02T19:34:06.69581Z",
     "shell.execute_reply": "2022-03-02T19:34:06.694784Z",
     "shell.execute_reply.started": "2022-03-02T19:34:06.687734Z"
    }
   },
   "outputs": [],
   "source": [
    "train_cols_cleaned = train.drop(columns=['Alley', 'FireplaceQu', 'PoolQC', 'Fence', 'MiscFeature'], axis=1)"
   ]
  },
  {
   "cell_type": "markdown",
   "metadata": {},
   "source": [
    "Now checking the correlations between the missing values among the columns in modified training data"
   ]
  },
  {
   "cell_type": "code",
   "execution_count": 47,
   "metadata": {
    "execution": {
     "iopub.execute_input": "2022-03-02T19:34:06.698217Z",
     "iopub.status.busy": "2022-03-02T19:34:06.697602Z",
     "iopub.status.idle": "2022-03-02T19:34:07.576771Z",
     "shell.execute_reply": "2022-03-02T19:34:07.575703Z",
     "shell.execute_reply.started": "2022-03-02T19:34:06.698145Z"
    }
   },
   "outputs": [
    {
     "data": {
      "text/plain": [
       "<matplotlib.axes._subplots.AxesSubplot at 0x1e08e9ca880>"
      ]
     },
     "execution_count": 47,
     "metadata": {},
     "output_type": "execute_result"
    },
    {
     "data": {
      "image/png": "[encoded data removed]",
      "text/plain": [
       "<Figure size 1440x864 with 2 Axes>"
      ]
     },
     "metadata": {
      "needs_background": "light"
     },
     "output_type": "display_data"
    }
   ],
   "source": [
    "msno.heatmap(train_cols_cleaned)"
   ]
  },
  {
   "cell_type": "markdown",
   "metadata": {},
   "source": [
    "We find that among the columns, **even the missing values are related**, thus we take high confidence that we can remove these rows and there will be lesser loss in total datapoints used for training, instead of removing all the rows with any null entry."
   ]
  },
  {
   "cell_type": "code",
   "execution_count": 48,
   "metadata": {
    "execution": {
     "iopub.execute_input": "2022-03-02T19:34:07.578507Z",
     "iopub.status.busy": "2022-03-02T19:34:07.578236Z",
     "iopub.status.idle": "2022-03-02T19:34:07.60367Z",
     "shell.execute_reply": "2022-03-02T19:34:07.602418Z",
     "shell.execute_reply.started": "2022-03-02T19:34:07.578473Z"
    }
   },
   "outputs": [
    {
     "name": "stdout",
     "output_type": "stream",
     "text": [
      "Removing all nan columns; Data Loss: 25.0685%\n",
      "Only removing correlated columns; Data Loss: 7.7397%\n"
     ]
    }
   ],
   "source": [
    "correlated_null_cols = ['BsmtCond', 'BsmtExposure', 'BsmtFinType1', 'BsmtFinType2', \n",
    "                        'GarageType', 'GarageYrBlt', 'GarageFinish', 'GarageQual', 'GarageCond']\n",
    "n = len(train_cols_cleaned)\n",
    "train_all_null_cleaned = train_cols_cleaned.dropna()\n",
    "train_null_row_col_cleaned = train_cols_cleaned.dropna(subset = correlated_null_cols)\n",
    "m = len(train_null_row_col_cleaned)\n",
    "k = len(train_all_null_cleaned)\n",
    "print(f'Removing all nan columns; Data Loss: {((n-k)/n)*100:.4f}%')\n",
    "print(f'Only removing correlated columns; Data Loss: {((n-m)/n)*100:.4f}%') # Going ahead with \"train_null_row_col_cleaned\""
   ]
  },
  {
   "cell_type": "code",
   "execution_count": 49,
   "metadata": {
    "execution": {
     "iopub.execute_input": "2022-03-02T19:34:07.60578Z",
     "iopub.status.busy": "2022-03-02T19:34:07.605279Z",
     "iopub.status.idle": "2022-03-02T19:34:07.637197Z",
     "shell.execute_reply": "2022-03-02T19:34:07.636221Z",
     "shell.execute_reply.started": "2022-03-02T19:34:07.605744Z"
    }
   },
   "outputs": [
    {
     "name": "stdout",
     "output_type": "stream",
     "text": [
      "['MasVnrType', 'Electrical'] are the only categorical columns that have null values\n"
     ]
    }
   ],
   "source": [
    "cols = train_null_row_col_cleaned.columns\n",
    "_ =train_null_row_col_cleaned[\n",
    "        cols[\n",
    "            [np.any(\n",
    "                train_null_row_col_cleaned[col]\n",
    "                .isnull()\n",
    "            ) for col in cols]\n",
    "        ]\n",
    "    ].select_dtypes(include='object').columns\n",
    "print(f'{list(_)} are the only categorical columns that have null values')"
   ]
  },
  {
   "cell_type": "code",
   "execution_count": 50,
   "metadata": {
    "execution": {
     "iopub.execute_input": "2022-03-02T19:34:07.638756Z",
     "iopub.status.busy": "2022-03-02T19:34:07.638518Z",
     "iopub.status.idle": "2022-03-02T19:34:07.653666Z",
     "shell.execute_reply": "2022-03-02T19:34:07.652352Z",
     "shell.execute_reply.started": "2022-03-02T19:34:07.638728Z"
    }
   },
   "outputs": [
    {
     "name": "stdout",
     "output_type": "stream",
     "text": [
      "<class 'pandas.core.frame.DataFrame'>\n",
      "Int64Index: 1347 entries, 0 to 1459\n",
      "Data columns (total 2 columns):\n",
      " #   Column      Non-Null Count  Dtype \n",
      "---  ------      --------------  ----- \n",
      " 0   MasVnrType  1339 non-null   object\n",
      " 1   Electrical  1346 non-null   object\n",
      "dtypes: object(2)\n",
      "memory usage: 31.6+ KB\n"
     ]
    }
   ],
   "source": [
    "train_null_row_col_cleaned[['MasVnrType', 'Electrical']].info()"
   ]
  },
  {
   "cell_type": "markdown",
   "metadata": {},
   "source": [
    "We'll fill the rest of the data using Mode values, since it can be used for both categorical and numerical cols"
   ]
  },
  {
   "cell_type": "code",
   "execution_count": 51,
   "metadata": {
    "execution": {
     "iopub.execute_input": "2022-03-02T19:34:07.656455Z",
     "iopub.status.busy": "2022-03-02T19:34:07.655716Z",
     "iopub.status.idle": "2022-03-02T19:34:07.728756Z",
     "shell.execute_reply": "2022-03-02T19:34:07.727759Z",
     "shell.execute_reply.started": "2022-03-02T19:34:07.656399Z"
    }
   },
   "outputs": [
    {
     "data": {
      "text/plain": [
       "Id                      1\n",
       "MSSubClass           20.0\n",
       "MSZoning               RL\n",
       "LotFrontage          60.0\n",
       "LotArea            9600.0\n",
       "                   ...   \n",
       "MoSold                6.0\n",
       "YrSold             2009.0\n",
       "SaleType               WD\n",
       "SaleCondition      Normal\n",
       "SalePrice        140000.0\n",
       "Name: 0, Length: 76, dtype: object"
      ]
     },
     "execution_count": 51,
     "metadata": {},
     "output_type": "execute_result"
    }
   ],
   "source": [
    "train_null_row_col_cleaned.mode().iloc[0,:] # Finding the mode for all columns"
   ]
  },
  {
   "cell_type": "code",
   "execution_count": 52,
   "metadata": {
    "execution": {
     "iopub.execute_input": "2022-03-02T19:34:07.733368Z",
     "iopub.status.busy": "2022-03-02T19:34:07.732983Z",
     "iopub.status.idle": "2022-03-02T19:34:07.821736Z",
     "shell.execute_reply": "2022-03-02T19:34:07.820717Z",
     "shell.execute_reply.started": "2022-03-02T19:34:07.733312Z"
    }
   },
   "outputs": [],
   "source": [
    "train_cleaned = train_null_row_col_cleaned.fillna(train_null_row_col_cleaned.mode().iloc[0,:])"
   ]
  },
  {
   "cell_type": "code",
   "execution_count": 53,
   "metadata": {
    "execution": {
     "iopub.execute_input": "2022-03-02T19:34:07.823725Z",
     "iopub.status.busy": "2022-03-02T19:34:07.823417Z",
     "iopub.status.idle": "2022-03-02T19:34:08.257698Z",
     "shell.execute_reply": "2022-03-02T19:34:08.256979Z",
     "shell.execute_reply.started": "2022-03-02T19:34:07.823685Z"
    }
   },
   "outputs": [
    {
     "data": {
      "text/plain": [
       "<matplotlib.axes._subplots.AxesSubplot at 0x1e08ea48460>"
      ]
     },
     "execution_count": 53,
     "metadata": {},
     "output_type": "execute_result"
    },
    {
     "data": {
      "image/png": "[encoded data removed]",
      "text/plain": [
       "<Figure size 1800x720 with 2 Axes>"
      ]
     },
     "metadata": {
      "needs_background": "light"
     },
     "output_type": "display_data"
    }
   ],
   "source": [
    "msno.matrix(train_cleaned)"
   ]
  },
  {
   "cell_type": "markdown",
   "metadata": {},
   "source": [
    "### Label Encoding\n",
    "- We need to convert string cols to ordinal cols to be able to use their values in regression\n",
    "- As we will see, this dataset has majority string field columns, and hence we choose Label Encoding for getting a practical runtime, otherwise there'll be ``38*k + 76`` columns, where constant ``k > 1``"
   ]
  },
  {
   "cell_type": "code",
   "execution_count": 54,
   "metadata": {
    "execution": {
     "iopub.execute_input": "2022-03-02T19:34:08.259214Z",
     "iopub.status.busy": "2022-03-02T19:34:08.258677Z",
     "iopub.status.idle": "2022-03-02T19:34:08.267858Z",
     "shell.execute_reply": "2022-03-02T19:34:08.267216Z",
     "shell.execute_reply.started": "2022-03-02T19:34:08.259179Z"
    }
   },
   "outputs": [
    {
     "name": "stdout",
     "output_type": "stream",
     "text": [
      "Number of Categorical Features: 38\n"
     ]
    }
   ],
   "source": [
    "print(f'Number of Categorical Features: {len(train_cleaned.select_dtypes(include = \"object\").columns)}')\n",
    "cat_cols = train_cleaned.select_dtypes(include = \"object\").columns"
   ]
  },
  {
   "cell_type": "markdown",
   "metadata": {},
   "source": [
    "Now that we have the reduced dataset with least possible null values, we convert the **38 out of 75** (majority) columns into Ordinal columns using Label Encoding"
   ]
  },
  {
   "cell_type": "code",
   "execution_count": 55,
   "metadata": {
    "execution": {
     "iopub.execute_input": "2022-03-02T19:37:20.650991Z",
     "iopub.status.busy": "2022-03-02T19:37:20.650687Z",
     "iopub.status.idle": "2022-03-02T19:37:20.658798Z",
     "shell.execute_reply": "2022-03-02T19:37:20.657635Z",
     "shell.execute_reply.started": "2022-03-02T19:37:20.650961Z"
    }
   },
   "outputs": [
    {
     "name": "stdout",
     "output_type": "stream",
     "text": [
      "<class 'pandas.core.frame.DataFrame'>\n",
      "Int64Index: 1347 entries, 0 to 1459\n",
      "Data columns (total 76 columns):\n",
      " #   Column         Non-Null Count  Dtype  \n",
      "---  ------         --------------  -----  \n",
      " 0   Id             1347 non-null   int64  \n",
      " 1   MSSubClass     1347 non-null   int64  \n",
      " 2   MSZoning       1347 non-null   float64\n",
      " 3   LotFrontage    1347 non-null   float64\n",
      " 4   LotArea        1347 non-null   int64  \n",
      " 5   Street         1347 non-null   float64\n",
      " 6   LotShape       1347 non-null   float64\n",
      " 7   LandContour    1347 non-null   float64\n",
      " 8   Utilities      1347 non-null   float64\n",
      " 9   LotConfig      1347 non-null   float64\n",
      " 10  LandSlope      1347 non-null   float64\n",
      " 11  Neighborhood   1347 non-null   float64\n",
      " 12  Condition1     1347 non-null   float64\n",
      " 13  Condition2     1347 non-null   float64\n",
      " 14  BldgType       1347 non-null   float64\n",
      " 15  HouseStyle     1347 non-null   float64\n",
      " 16  OverallQual    1347 non-null   int64  \n",
      " 17  OverallCond    1347 non-null   int64  \n",
      " 18  YearBuilt      1347 non-null   int64  \n",
      " 19  YearRemodAdd   1347 non-null   int64  \n",
      " 20  RoofStyle      1347 non-null   float64\n",
      " 21  RoofMatl       1347 non-null   float64\n",
      " 22  Exterior1st    1347 non-null   float64\n",
      " 23  Exterior2nd    1347 non-null   float64\n",
      " 24  MasVnrType     1347 non-null   float64\n",
      " 25  MasVnrArea     1347 non-null   float64\n",
      " 26  ExterQual      1347 non-null   float64\n",
      " 27  ExterCond      1347 non-null   float64\n",
      " 28  Foundation     1347 non-null   float64\n",
      " 29  BsmtQual       1347 non-null   float64\n",
      " 30  BsmtCond       1347 non-null   float64\n",
      " 31  BsmtExposure   1347 non-null   float64\n",
      " 32  BsmtFinType1   1347 non-null   float64\n",
      " 33  BsmtFinSF1     1347 non-null   int64  \n",
      " 34  BsmtFinType2   1347 non-null   float64\n",
      " 35  BsmtFinSF2     1347 non-null   int64  \n",
      " 36  BsmtUnfSF      1347 non-null   int64  \n",
      " 37  TotalBsmtSF    1347 non-null   int64  \n",
      " 38  Heating        1347 non-null   float64\n",
      " 39  HeatingQC      1347 non-null   float64\n",
      " 40  CentralAir     1347 non-null   float64\n",
      " 41  Electrical     1347 non-null   float64\n",
      " 42  1stFlrSF       1347 non-null   int64  \n",
      " 43  2ndFlrSF       1347 non-null   int64  \n",
      " 44  LowQualFinSF   1347 non-null   int64  \n",
      " 45  GrLivArea      1347 non-null   int64  \n",
      " 46  BsmtFullBath   1347 non-null   int64  \n",
      " 47  BsmtHalfBath   1347 non-null   int64  \n",
      " 48  FullBath       1347 non-null   int64  \n",
      " 49  HalfBath       1347 non-null   int64  \n",
      " 50  BedroomAbvGr   1347 non-null   int64  \n",
      " 51  KitchenAbvGr   1347 non-null   int64  \n",
      " 52  KitchenQual    1347 non-null   float64\n",
      " 53  TotRmsAbvGrd   1347 non-null   int64  \n",
      " 54  Functional     1347 non-null   float64\n",
      " 55  Fireplaces     1347 non-null   int64  \n",
      " 56  GarageType     1347 non-null   float64\n",
      " 57  GarageYrBlt    1347 non-null   float64\n",
      " 58  GarageFinish   1347 non-null   float64\n",
      " 59  GarageCars     1347 non-null   int64  \n",
      " 60  GarageArea     1347 non-null   int64  \n",
      " 61  GarageQual     1347 non-null   float64\n",
      " 62  GarageCond     1347 non-null   float64\n",
      " 63  PavedDrive     1347 non-null   float64\n",
      " 64  WoodDeckSF     1347 non-null   int64  \n",
      " 65  OpenPorchSF    1347 non-null   int64  \n",
      " 66  EnclosedPorch  1347 non-null   int64  \n",
      " 67  3SsnPorch      1347 non-null   int64  \n",
      " 68  ScreenPorch    1347 non-null   int64  \n",
      " 69  PoolArea       1347 non-null   int64  \n",
      " 70  MiscVal        1347 non-null   int64  \n",
      " 71  MoSold         1347 non-null   int64  \n",
      " 72  YrSold         1347 non-null   int64  \n",
      " 73  SaleType       1347 non-null   float64\n",
      " 74  SaleCondition  1347 non-null   float64\n",
      " 75  SalePrice      1347 non-null   int64  \n",
      "dtypes: float64(41), int64(35)\n",
      "memory usage: 810.3 KB\n"
     ]
    }
   ],
   "source": [
    "oe = OrdinalEncoder(handle_unknown='use_encoded_value', unknown_value=-1)\n",
    "train_cleaned_oe = train_cleaned.copy()\n",
    "for col in cat_cols:\n",
    "    train_cleaned_oe[col] = oe.fit_transform(train_cleaned_oe[col].astype(str).to_numpy().reshape(-1,1))\n",
    "train_cleaned_oe.info()"
   ]
  },
  {
   "cell_type": "markdown",
   "metadata": {},
   "source": [
    "### Train Test Split of Cleaned data"
   ]
  },
  {
   "cell_type": "code",
   "execution_count": 56,
   "metadata": {
    "execution": {
     "iopub.status.busy": "2022-03-02T19:28:09.861255Z",
     "iopub.status.idle": "2022-03-02T19:28:09.861582Z",
     "shell.execute_reply": "2022-03-02T19:28:09.861431Z",
     "shell.execute_reply.started": "2022-03-02T19:28:09.861412Z"
    }
   },
   "outputs": [],
   "source": [
    "y = train_cleaned_oe['SalePrice'] # Target\n",
    "X = train_cleaned_oe.drop(columns=['SalePrice','Id'],axis=1) # Features"
   ]
  },
  {
   "cell_type": "markdown",
   "metadata": {
    "execution": {
     "iopub.execute_input": "2022-03-02T18:34:15.60839Z",
     "iopub.status.busy": "2022-03-02T18:34:15.608045Z",
     "iopub.status.idle": "2022-03-02T18:34:15.615087Z",
     "shell.execute_reply": "2022-03-02T18:34:15.613819Z",
     "shell.execute_reply.started": "2022-03-02T18:34:15.608355Z"
    }
   },
   "source": [
    "Scaling the feature vectors"
   ]
  },
  {
   "cell_type": "code",
   "execution_count": 57,
   "metadata": {
    "execution": {
     "iopub.status.busy": "2022-03-02T19:28:09.862997Z",
     "iopub.status.idle": "2022-03-02T19:28:09.863348Z",
     "shell.execute_reply": "2022-03-02T19:28:09.863195Z",
     "shell.execute_reply.started": "2022-03-02T19:28:09.863173Z"
    }
   },
   "outputs": [
    {
     "data": {
      "text/html": [
       "<div>\n",
       "<style scoped>\n",
       "    .dataframe tbody tr th:only-of-type {\n",
       "        vertical-align: middle;\n",
       "    }\n",
       "\n",
       "    .dataframe tbody tr th {\n",
       "        vertical-align: top;\n",
       "    }\n",
       "\n",
       "    .dataframe thead th {\n",
       "        text-align: right;\n",
       "    }\n",
       "</style>\n",
       "<table border=\"1\" class=\"dataframe\">\n",
       "  <thead>\n",
       "    <tr style=\"text-align: right;\">\n",
       "      <th></th>\n",
       "      <th>MSSubClass</th>\n",
       "      <th>MSZoning</th>\n",
       "      <th>LotFrontage</th>\n",
       "      <th>LotArea</th>\n",
       "      <th>Street</th>\n",
       "      <th>LotShape</th>\n",
       "      <th>LandContour</th>\n",
       "      <th>Utilities</th>\n",
       "      <th>LotConfig</th>\n",
       "      <th>LandSlope</th>\n",
       "      <th>...</th>\n",
       "      <th>OpenPorchSF</th>\n",
       "      <th>EnclosedPorch</th>\n",
       "      <th>3SsnPorch</th>\n",
       "      <th>ScreenPorch</th>\n",
       "      <th>PoolArea</th>\n",
       "      <th>MiscVal</th>\n",
       "      <th>MoSold</th>\n",
       "      <th>YrSold</th>\n",
       "      <th>SaleType</th>\n",
       "      <th>SaleCondition</th>\n",
       "    </tr>\n",
       "  </thead>\n",
       "  <tbody>\n",
       "    <tr>\n",
       "      <th>0</th>\n",
       "      <td>0.094627</td>\n",
       "      <td>-0.030671</td>\n",
       "      <td>-0.169210</td>\n",
       "      <td>-0.219493</td>\n",
       "      <td>0.061039</td>\n",
       "      <td>0.771219</td>\n",
       "      <td>0.307776</td>\n",
       "      <td>-0.027257</td>\n",
       "      <td>0.611919</td>\n",
       "      <td>-0.227499</td>\n",
       "      <td>...</td>\n",
       "      <td>0.197840</td>\n",
       "      <td>-0.349638</td>\n",
       "      <td>-0.118285</td>\n",
       "      <td>-0.28218</td>\n",
       "      <td>-0.071529</td>\n",
       "      <td>-0.084251</td>\n",
       "      <td>-1.604315</td>\n",
       "      <td>0.145818</td>\n",
       "      <td>0.317818</td>\n",
       "      <td>0.182317</td>\n",
       "    </tr>\n",
       "    <tr>\n",
       "      <th>1</th>\n",
       "      <td>-0.876515</td>\n",
       "      <td>-0.030671</td>\n",
       "      <td>0.496850</td>\n",
       "      <td>-0.108038</td>\n",
       "      <td>0.061039</td>\n",
       "      <td>0.771219</td>\n",
       "      <td>0.307776</td>\n",
       "      <td>-0.027257</td>\n",
       "      <td>-0.615564</td>\n",
       "      <td>-0.227499</td>\n",
       "      <td>...</td>\n",
       "      <td>-0.732717</td>\n",
       "      <td>-0.349638</td>\n",
       "      <td>-0.118285</td>\n",
       "      <td>-0.28218</td>\n",
       "      <td>-0.071529</td>\n",
       "      <td>-0.084251</td>\n",
       "      <td>-0.494016</td>\n",
       "      <td>-0.606738</td>\n",
       "      <td>0.317818</td>\n",
       "      <td>0.182317</td>\n",
       "    </tr>\n",
       "    <tr>\n",
       "      <th>2</th>\n",
       "      <td>0.094627</td>\n",
       "      <td>-0.030671</td>\n",
       "      <td>-0.035998</td>\n",
       "      <td>0.051876</td>\n",
       "      <td>0.061039</td>\n",
       "      <td>-1.344528</td>\n",
       "      <td>0.307776</td>\n",
       "      <td>-0.027257</td>\n",
       "      <td>0.611919</td>\n",
       "      <td>-0.227499</td>\n",
       "      <td>...</td>\n",
       "      <td>-0.092006</td>\n",
       "      <td>-0.349638</td>\n",
       "      <td>-0.118285</td>\n",
       "      <td>-0.28218</td>\n",
       "      <td>-0.071529</td>\n",
       "      <td>-0.084251</td>\n",
       "      <td>0.986383</td>\n",
       "      <td>0.145818</td>\n",
       "      <td>0.317818</td>\n",
       "      <td>0.182317</td>\n",
       "    </tr>\n",
       "    <tr>\n",
       "      <th>3</th>\n",
       "      <td>0.337412</td>\n",
       "      <td>-0.030671</td>\n",
       "      <td>-0.391230</td>\n",
       "      <td>-0.112884</td>\n",
       "      <td>0.061039</td>\n",
       "      <td>-1.344528</td>\n",
       "      <td>0.307776</td>\n",
       "      <td>-0.027257</td>\n",
       "      <td>-1.843048</td>\n",
       "      <td>-0.227499</td>\n",
       "      <td>...</td>\n",
       "      <td>-0.198791</td>\n",
       "      <td>4.121467</td>\n",
       "      <td>-0.118285</td>\n",
       "      <td>-0.28218</td>\n",
       "      <td>-0.071529</td>\n",
       "      <td>-0.084251</td>\n",
       "      <td>-1.604315</td>\n",
       "      <td>-1.359294</td>\n",
       "      <td>0.317818</td>\n",
       "      <td>-3.595857</td>\n",
       "    </tr>\n",
       "    <tr>\n",
       "      <th>4</th>\n",
       "      <td>0.094627</td>\n",
       "      <td>-0.030671</td>\n",
       "      <td>0.674467</td>\n",
       "      <td>0.343597</td>\n",
       "      <td>0.061039</td>\n",
       "      <td>-1.344528</td>\n",
       "      <td>0.307776</td>\n",
       "      <td>-0.027257</td>\n",
       "      <td>-0.615564</td>\n",
       "      <td>-0.227499</td>\n",
       "      <td>...</td>\n",
       "      <td>0.548705</td>\n",
       "      <td>-0.349638</td>\n",
       "      <td>-0.118285</td>\n",
       "      <td>-0.28218</td>\n",
       "      <td>-0.071529</td>\n",
       "      <td>-0.084251</td>\n",
       "      <td>2.096682</td>\n",
       "      <td>0.145818</td>\n",
       "      <td>0.317818</td>\n",
       "      <td>0.182317</td>\n",
       "    </tr>\n",
       "  </tbody>\n",
       "</table>\n",
       "<p>5 rows × 74 columns</p>\n",
       "</div>"
      ],
      "text/plain": [
       "   MSSubClass  MSZoning  LotFrontage   LotArea    Street  LotShape  \\\n",
       "0    0.094627 -0.030671    -0.169210 -0.219493  0.061039  0.771219   \n",
       "1   -0.876515 -0.030671     0.496850 -0.108038  0.061039  0.771219   \n",
       "2    0.094627 -0.030671    -0.035998  0.051876  0.061039 -1.344528   \n",
       "3    0.337412 -0.030671    -0.391230 -0.112884  0.061039 -1.344528   \n",
       "4    0.094627 -0.030671     0.674467  0.343597  0.061039 -1.344528   \n",
       "\n",
       "   LandContour  Utilities  LotConfig  LandSlope  ...  OpenPorchSF  \\\n",
       "0     0.307776  -0.027257   0.611919  -0.227499  ...     0.197840   \n",
       "1     0.307776  -0.027257  -0.615564  -0.227499  ...    -0.732717   \n",
       "2     0.307776  -0.027257   0.611919  -0.227499  ...    -0.092006   \n",
       "3     0.307776  -0.027257  -1.843048  -0.227499  ...    -0.198791   \n",
       "4     0.307776  -0.027257  -0.615564  -0.227499  ...     0.548705   \n",
       "\n",
       "   EnclosedPorch  3SsnPorch  ScreenPorch  PoolArea   MiscVal    MoSold  \\\n",
       "0      -0.349638  -0.118285     -0.28218 -0.071529 -0.084251 -1.604315   \n",
       "1      -0.349638  -0.118285     -0.28218 -0.071529 -0.084251 -0.494016   \n",
       "2      -0.349638  -0.118285     -0.28218 -0.071529 -0.084251  0.986383   \n",
       "3       4.121467  -0.118285     -0.28218 -0.071529 -0.084251 -1.604315   \n",
       "4      -0.349638  -0.118285     -0.28218 -0.071529 -0.084251  2.096682   \n",
       "\n",
       "     YrSold  SaleType  SaleCondition  \n",
       "0  0.145818  0.317818       0.182317  \n",
       "1 -0.606738  0.317818       0.182317  \n",
       "2  0.145818  0.317818       0.182317  \n",
       "3 -1.359294  0.317818      -3.595857  \n",
       "4  0.145818  0.317818       0.182317  \n",
       "\n",
       "[5 rows x 74 columns]"
      ]
     },
     "execution_count": 57,
     "metadata": {},
     "output_type": "execute_result"
    }
   ],
   "source": [
    "scaler=StandardScaler()\n",
    "X=pd.DataFrame(scaler.fit_transform(X), columns=X.columns)\n",
    "X.head()"
   ]
  },
  {
   "cell_type": "code",
   "execution_count": 58,
   "metadata": {
    "execution": {
     "iopub.status.busy": "2022-03-02T19:28:09.86532Z",
     "iopub.status.idle": "2022-03-02T19:28:09.865806Z",
     "shell.execute_reply": "2022-03-02T19:28:09.865568Z",
     "shell.execute_reply.started": "2022-03-02T19:28:09.865542Z"
    }
   },
   "outputs": [
    {
     "name": "stdout",
     "output_type": "stream",
     "text": [
      "The accuracy of our new Model is : 0.8935941669745997\n"
     ]
    }
   ],
   "source": [
    "X_train, X_test, y_train, y_test = train_test_split(X, y, test_size=0.2, random_state=483)\n",
    "model=LinearRegression()\n",
    "model.fit(X_train, y_train)\n",
    "print(f'The accuracy of our new Model is : {model.score(X_test, y_test)}')"
   ]
  },
  {
   "cell_type": "markdown",
   "metadata": {},
   "source": [
    "# Creating the model for submission"
   ]
  },
  {
   "cell_type": "code",
   "execution_count": 59,
   "metadata": {
    "execution": {
     "iopub.status.busy": "2022-03-02T19:28:09.867562Z",
     "iopub.status.idle": "2022-03-02T19:28:09.868042Z",
     "shell.execute_reply": "2022-03-02T19:28:09.867813Z",
     "shell.execute_reply.started": "2022-03-02T19:28:09.867785Z"
    }
   },
   "outputs": [
    {
     "data": {
      "text/html": [
       "<div>\n",
       "<style scoped>\n",
       "    .dataframe tbody tr th:only-of-type {\n",
       "        vertical-align: middle;\n",
       "    }\n",
       "\n",
       "    .dataframe tbody tr th {\n",
       "        vertical-align: top;\n",
       "    }\n",
       "\n",
       "    .dataframe thead th {\n",
       "        text-align: right;\n",
       "    }\n",
       "</style>\n",
       "<table border=\"1\" class=\"dataframe\">\n",
       "  <thead>\n",
       "    <tr style=\"text-align: right;\">\n",
       "      <th></th>\n",
       "      <th>Id</th>\n",
       "      <th>MSSubClass</th>\n",
       "      <th>MSZoning</th>\n",
       "      <th>LotFrontage</th>\n",
       "      <th>LotArea</th>\n",
       "      <th>Street</th>\n",
       "      <th>Alley</th>\n",
       "      <th>LotShape</th>\n",
       "      <th>LandContour</th>\n",
       "      <th>Utilities</th>\n",
       "      <th>...</th>\n",
       "      <th>ScreenPorch</th>\n",
       "      <th>PoolArea</th>\n",
       "      <th>PoolQC</th>\n",
       "      <th>Fence</th>\n",
       "      <th>MiscFeature</th>\n",
       "      <th>MiscVal</th>\n",
       "      <th>MoSold</th>\n",
       "      <th>YrSold</th>\n",
       "      <th>SaleType</th>\n",
       "      <th>SaleCondition</th>\n",
       "    </tr>\n",
       "  </thead>\n",
       "  <tbody>\n",
       "    <tr>\n",
       "      <th>0</th>\n",
       "      <td>1461</td>\n",
       "      <td>20</td>\n",
       "      <td>RH</td>\n",
       "      <td>80.0</td>\n",
       "      <td>11622</td>\n",
       "      <td>Pave</td>\n",
       "      <td>NaN</td>\n",
       "      <td>Reg</td>\n",
       "      <td>Lvl</td>\n",
       "      <td>AllPub</td>\n",
       "      <td>...</td>\n",
       "      <td>120</td>\n",
       "      <td>0</td>\n",
       "      <td>NaN</td>\n",
       "      <td>MnPrv</td>\n",
       "      <td>NaN</td>\n",
       "      <td>0</td>\n",
       "      <td>6</td>\n",
       "      <td>2010</td>\n",
       "      <td>WD</td>\n",
       "      <td>Normal</td>\n",
       "    </tr>\n",
       "    <tr>\n",
       "      <th>1</th>\n",
       "      <td>1462</td>\n",
       "      <td>20</td>\n",
       "      <td>RL</td>\n",
       "      <td>81.0</td>\n",
       "      <td>14267</td>\n",
       "      <td>Pave</td>\n",
       "      <td>NaN</td>\n",
       "      <td>IR1</td>\n",
       "      <td>Lvl</td>\n",
       "      <td>AllPub</td>\n",
       "      <td>...</td>\n",
       "      <td>0</td>\n",
       "      <td>0</td>\n",
       "      <td>NaN</td>\n",
       "      <td>NaN</td>\n",
       "      <td>Gar2</td>\n",
       "      <td>12500</td>\n",
       "      <td>6</td>\n",
       "      <td>2010</td>\n",
       "      <td>WD</td>\n",
       "      <td>Normal</td>\n",
       "    </tr>\n",
       "    <tr>\n",
       "      <th>2</th>\n",
       "      <td>1463</td>\n",
       "      <td>60</td>\n",
       "      <td>RL</td>\n",
       "      <td>74.0</td>\n",
       "      <td>13830</td>\n",
       "      <td>Pave</td>\n",
       "      <td>NaN</td>\n",
       "      <td>IR1</td>\n",
       "      <td>Lvl</td>\n",
       "      <td>AllPub</td>\n",
       "      <td>...</td>\n",
       "      <td>0</td>\n",
       "      <td>0</td>\n",
       "      <td>NaN</td>\n",
       "      <td>MnPrv</td>\n",
       "      <td>NaN</td>\n",
       "      <td>0</td>\n",
       "      <td>3</td>\n",
       "      <td>2010</td>\n",
       "      <td>WD</td>\n",
       "      <td>Normal</td>\n",
       "    </tr>\n",
       "    <tr>\n",
       "      <th>3</th>\n",
       "      <td>1464</td>\n",
       "      <td>60</td>\n",
       "      <td>RL</td>\n",
       "      <td>78.0</td>\n",
       "      <td>9978</td>\n",
       "      <td>Pave</td>\n",
       "      <td>NaN</td>\n",
       "      <td>IR1</td>\n",
       "      <td>Lvl</td>\n",
       "      <td>AllPub</td>\n",
       "      <td>...</td>\n",
       "      <td>0</td>\n",
       "      <td>0</td>\n",
       "      <td>NaN</td>\n",
       "      <td>NaN</td>\n",
       "      <td>NaN</td>\n",
       "      <td>0</td>\n",
       "      <td>6</td>\n",
       "      <td>2010</td>\n",
       "      <td>WD</td>\n",
       "      <td>Normal</td>\n",
       "    </tr>\n",
       "    <tr>\n",
       "      <th>4</th>\n",
       "      <td>1465</td>\n",
       "      <td>120</td>\n",
       "      <td>RL</td>\n",
       "      <td>43.0</td>\n",
       "      <td>5005</td>\n",
       "      <td>Pave</td>\n",
       "      <td>NaN</td>\n",
       "      <td>IR1</td>\n",
       "      <td>HLS</td>\n",
       "      <td>AllPub</td>\n",
       "      <td>...</td>\n",
       "      <td>144</td>\n",
       "      <td>0</td>\n",
       "      <td>NaN</td>\n",
       "      <td>NaN</td>\n",
       "      <td>NaN</td>\n",
       "      <td>0</td>\n",
       "      <td>1</td>\n",
       "      <td>2010</td>\n",
       "      <td>WD</td>\n",
       "      <td>Normal</td>\n",
       "    </tr>\n",
       "  </tbody>\n",
       "</table>\n",
       "<p>5 rows × 80 columns</p>\n",
       "</div>"
      ],
      "text/plain": [
       "     Id  MSSubClass MSZoning  LotFrontage  LotArea Street Alley LotShape  \\\n",
       "0  1461          20       RH         80.0    11622   Pave   NaN      Reg   \n",
       "1  1462          20       RL         81.0    14267   Pave   NaN      IR1   \n",
       "2  1463          60       RL         74.0    13830   Pave   NaN      IR1   \n",
       "3  1464          60       RL         78.0     9978   Pave   NaN      IR1   \n",
       "4  1465         120       RL         43.0     5005   Pave   NaN      IR1   \n",
       "\n",
       "  LandContour Utilities  ... ScreenPorch PoolArea PoolQC  Fence MiscFeature  \\\n",
       "0         Lvl    AllPub  ...         120        0    NaN  MnPrv         NaN   \n",
       "1         Lvl    AllPub  ...           0        0    NaN    NaN        Gar2   \n",
       "2         Lvl    AllPub  ...           0        0    NaN  MnPrv         NaN   \n",
       "3         Lvl    AllPub  ...           0        0    NaN    NaN         NaN   \n",
       "4         HLS    AllPub  ...         144        0    NaN    NaN         NaN   \n",
       "\n",
       "  MiscVal MoSold  YrSold  SaleType  SaleCondition  \n",
       "0       0      6    2010        WD         Normal  \n",
       "1   12500      6    2010        WD         Normal  \n",
       "2       0      3    2010        WD         Normal  \n",
       "3       0      6    2010        WD         Normal  \n",
       "4       0      1    2010        WD         Normal  \n",
       "\n",
       "[5 rows x 80 columns]"
      ]
     },
     "execution_count": 59,
     "metadata": {},
     "output_type": "execute_result"
    }
   ],
   "source": [
    "test.head()"
   ]
  },
  {
   "cell_type": "markdown",
   "metadata": {},
   "source": [
    "Applying same preprocessing steps to the test data"
   ]
  },
  {
   "cell_type": "code",
   "execution_count": 60,
   "metadata": {
    "execution": {
     "iopub.status.busy": "2022-03-02T19:28:09.869363Z",
     "iopub.status.idle": "2022-03-02T19:28:09.869946Z",
     "shell.execute_reply": "2022-03-02T19:28:09.869598Z",
     "shell.execute_reply.started": "2022-03-02T19:28:09.869572Z"
    }
   },
   "outputs": [
    {
     "data": {
      "text/plain": [
       "array([150074.63955849, 182491.91199701, 195972.49454894, ...,\n",
       "       185918.9877614 , 127454.11635244, 265541.58456332])"
      ]
     },
     "execution_count": 60,
     "metadata": {},
     "output_type": "execute_result"
    }
   ],
   "source": [
    "test_cols_cleaned = test.drop(columns=['Alley', 'FireplaceQu', 'PoolQC', 'Fence', 'MiscFeature'], axis=1) # drop columns\n",
    "test_cleaned = test_cols_cleaned.fillna(test_cols_cleaned.mode().iloc[0,:]) # Fill na values with the mode for all columns\n",
    "\n",
    "cat_cols = test_cleaned.select_dtypes(include = \"object\").columns # Find the categorical cols\n",
    "test_cleaned_oe = test_cleaned.copy() # use label encoding to transform the test data into label encoding\n",
    "for col in cat_cols: \n",
    "    test_cleaned_oe[col] = oe.transform(test_cleaned_oe[col].astype(str).to_numpy().reshape(-1,1))\n",
    "\n",
    "X = test_cleaned_oe.drop(columns=['Id'],axis=1) # Features\n",
    "X = pd.DataFrame(scaler.transform(X), columns=X.columns)"
   ]
  },
  {
   "cell_type": "code",
   "execution_count": 64,
   "metadata": {
    "execution": {
     "iopub.status.busy": "2022-03-02T19:28:09.877909Z",
     "iopub.status.idle": "2022-03-02T19:28:09.87842Z",
     "shell.execute_reply": "2022-03-02T19:28:09.878186Z",
     "shell.execute_reply.started": "2022-03-02T19:28:09.87814Z"
    }
   },
   "outputs": [],
   "source": [
    "df = pd.DataFrame()\n",
    "df['Id'] = test['Id'] \n",
    "df['SalePrice'] = model.predict(X)\n",
    "df.to_csv('house-prices-advanced/submission_sample_model.csv', index=False)"
   ]
  },
  {
   "cell_type": "markdown",
   "metadata": {
    "execution": {
     "iopub.status.busy": "2022-03-02T19:28:09.879819Z",
     "iopub.status.idle": "2022-03-02T19:28:09.880344Z",
     "shell.execute_reply": "2022-03-02T19:28:09.880094Z",
     "shell.execute_reply.started": "2022-03-02T19:28:09.880057Z"
    }
   },
   "source": [
    "# Using whole Training data"
   ]
  },
  {
   "cell_type": "code",
   "execution_count": 65,
   "metadata": {},
   "outputs": [
    {
     "name": "stdout",
     "output_type": "stream",
     "text": [
      "The accuracy of our new Model is : 0.8935941669745997\n"
     ]
    }
   ],
   "source": [
    "y = train_cleaned_oe['SalePrice'] # Target\n",
    "X = train_cleaned_oe.drop(columns=['SalePrice','Id'],axis=1) # Features\n",
    "\n",
    "scaler=StandardScaler()\n",
    "X=pd.DataFrame(scaler.fit_transform(X), columns=X.columns)\n",
    "X.head()\n",
    "model=LinearRegression()\n",
    "model.fit(X_train, y_train)\n",
    "print(f'The accuracy of our new Model is : {model.score(X_test, y_test)}')"
   ]
  },
  {
   "cell_type": "code",
   "execution_count": 69,
   "metadata": {},
   "outputs": [],
   "source": [
    "test_cols_cleaned = test.drop(columns=['Alley', 'FireplaceQu', 'PoolQC', 'Fence', 'MiscFeature'], axis=1) # drop columns\n",
    "test_cleaned = test_cols_cleaned.fillna(test_cols_cleaned.mode().iloc[0,:]) # Fill na values with the mode for all columns\n",
    "\n",
    "cat_cols = test_cleaned.select_dtypes(include = \"object\").columns # Find the categorical cols\n",
    "test_cleaned_oe = test_cleaned.copy() # use label encoding to transform the test data into label encoding\n",
    "for col in cat_cols: \n",
    "    test_cleaned_oe[col] = oe.transform(test_cleaned_oe[col].astype(str).to_numpy().reshape(-1,1))\n",
    "\n",
    "X = test_cleaned_oe.drop(columns=['Id'],axis=1) # Features\n",
    "X = pd.DataFrame(scaler.transform(X), columns=X.columns)\n",
    "\n",
    "df = pd.DataFrame()\n",
    "df['Id'] = test['Id']\n",
    "df['SalePrice'] = model.predict(X)\n",
    "df.to_csv('house-prices-advanced/submission.csv', index=False)"
   ]
  }
 ],
 "metadata": {
  "kernelspec": {
   "display_name": "Python 3",
   "language": "python",
   "name": "python3"
  },
  "language_info": {
   "codemirror_mode": {
    "name": "ipython",
    "version": 3
   },
   "file_extension": ".py",
   "mimetype": "text/x-python",
   "name": "python",
   "nbconvert_exporter": "python",
   "pygments_lexer": "ipython3",
   "version": "3.8.3"
  }
 },
 "nbformat": 4,
 "nbformat_minor": 4
}
