{
 "cells": [
  {
   "cell_type": "markdown",
   "metadata": {
    "id": "SxntwFWKg7ZL"
   },
   "source": [
    "# CEEL82B Expt 7: Text Analysis\n",
    "\n",
    "### Objective:\n",
    "Separating Spam From Ham\n",
    "1. Build and evaluate spam filter using publicly available dataset.\n",
    "2. Prepare the corpus by performing various data preprocessing such as converting to lowercase, removing punctuations, stopwords, tokenization.\n",
    "3. Build ML models like Random Forest and CART on this document term matrix.\n",
    "4. Compare the results of both the models."
   ]
  },
  {
   "cell_type": "code",
   "execution_count": 46,
   "metadata": {
    "id": "Ksh61P9Yg7ZO"
   },
   "outputs": [],
   "source": [
    "import re\n",
    "import pandas as pd\n",
    "import numpy as np\n",
    "from nltk.stem import SnowballStemmer\n",
    "\n",
    "from sklearn.feature_extraction.text import CountVectorizer\n",
    "from sklearn.metrics import mean_squared_error, confusion_matrix, classification_report, auc, accuracy_score, roc_curve\n",
    "from sklearn.tree import DecisionTreeClassifier\n",
    "from sklearn.preprocessing import LabelEncoder\n",
    "from sklearn.model_selection import train_test_split\n",
    "from sklearn.ensemble import RandomForestClassifier\n",
    "\n",
    "import seaborn as sns    \n",
    "import matplotlib.pyplot as plt\n",
    "%matplotlib inline "
   ]
  },
  {
   "cell_type": "markdown",
   "metadata": {
    "id": "1pVYuFUlg7ZQ"
   },
   "source": [
    "### Problem 1.1 - Loading the dataset"
   ]
  },
  {
   "cell_type": "code",
   "execution_count": 4,
   "metadata": {
    "colab": {
     "base_uri": "https://localhost:8080/"
    },
    "executionInfo": {
     "elapsed": 13,
     "status": "ok",
     "timestamp": 1648624640705,
     "user": {
      "displayName": "Arka -h",
      "userId": "01873960014260766132"
     },
     "user_tz": -330
    },
    "id": "yok6rSo6g7ZQ",
    "outputId": "c093ac4d-1dd0-471b-9876-3a596f0c44df"
   },
   "outputs": [
    {
     "data": {
      "text/html": [
       "<div>\n",
       "<style scoped>\n",
       "    .dataframe tbody tr th:only-of-type {\n",
       "        vertical-align: middle;\n",
       "    }\n",
       "\n",
       "    .dataframe tbody tr th {\n",
       "        vertical-align: top;\n",
       "    }\n",
       "\n",
       "    .dataframe thead th {\n",
       "        text-align: right;\n",
       "    }\n",
       "</style>\n",
       "<table border=\"1\" class=\"dataframe\">\n",
       "  <thead>\n",
       "    <tr style=\"text-align: right;\">\n",
       "      <th></th>\n",
       "      <th>text</th>\n",
       "      <th>spam</th>\n",
       "    </tr>\n",
       "  </thead>\n",
       "  <tbody>\n",
       "    <tr>\n",
       "      <th>0</th>\n",
       "      <td>Subject: naturally irresistible your corporate...</td>\n",
       "      <td>1</td>\n",
       "    </tr>\n",
       "    <tr>\n",
       "      <th>1</th>\n",
       "      <td>Subject: the stock trading gunslinger  fanny i...</td>\n",
       "      <td>1</td>\n",
       "    </tr>\n",
       "    <tr>\n",
       "      <th>2</th>\n",
       "      <td>Subject: unbelievable new homes made easy  im ...</td>\n",
       "      <td>1</td>\n",
       "    </tr>\n",
       "    <tr>\n",
       "      <th>3</th>\n",
       "      <td>Subject: 4 color printing special  request add...</td>\n",
       "      <td>1</td>\n",
       "    </tr>\n",
       "    <tr>\n",
       "      <th>4</th>\n",
       "      <td>Subject: do not have money , get software cds ...</td>\n",
       "      <td>1</td>\n",
       "    </tr>\n",
       "  </tbody>\n",
       "</table>\n",
       "</div>"
      ],
      "text/plain": [
       "                                                text  spam\n",
       "0  Subject: naturally irresistible your corporate...     1\n",
       "1  Subject: the stock trading gunslinger  fanny i...     1\n",
       "2  Subject: unbelievable new homes made easy  im ...     1\n",
       "3  Subject: 4 color printing special  request add...     1\n",
       "4  Subject: do not have money , get software cds ...     1"
      ]
     },
     "execution_count": 4,
     "metadata": {},
     "output_type": "execute_result"
    }
   ],
   "source": [
    "emails = pd.read_csv('emails.csv')\n",
    "n = emails.count()[0]\n",
    "emails.head()"
   ]
  },
  {
   "cell_type": "markdown",
   "metadata": {
    "id": "nV3luUbbg7ZS"
   },
   "source": [
    "**Q1. How many emails are in the dataset?**\n",
    "\n",
    "5728 emails are present in the dataset"
   ]
  },
  {
   "cell_type": "code",
   "execution_count": 5,
   "metadata": {
    "colab": {
     "base_uri": "https://localhost:8080/"
    },
    "executionInfo": {
     "elapsed": 11,
     "status": "ok",
     "timestamp": 1648624640705,
     "user": {
      "displayName": "Arka -h",
      "userId": "01873960014260766132"
     },
     "user_tz": -330
    },
    "id": "vjfx5Cogg7ZT",
    "outputId": "8e2159c6-025e-42fb-816c-782a68378c71"
   },
   "outputs": [
    {
     "data": {
      "text/html": [
       "<div>\n",
       "<style scoped>\n",
       "    .dataframe tbody tr th:only-of-type {\n",
       "        vertical-align: middle;\n",
       "    }\n",
       "\n",
       "    .dataframe tbody tr th {\n",
       "        vertical-align: top;\n",
       "    }\n",
       "\n",
       "    .dataframe thead th {\n",
       "        text-align: right;\n",
       "    }\n",
       "</style>\n",
       "<table border=\"1\" class=\"dataframe\">\n",
       "  <thead>\n",
       "    <tr style=\"text-align: right;\">\n",
       "      <th></th>\n",
       "      <th>spam</th>\n",
       "    </tr>\n",
       "  </thead>\n",
       "  <tbody>\n",
       "    <tr>\n",
       "      <th>count</th>\n",
       "      <td>5728.000000</td>\n",
       "    </tr>\n",
       "    <tr>\n",
       "      <th>mean</th>\n",
       "      <td>0.238827</td>\n",
       "    </tr>\n",
       "    <tr>\n",
       "      <th>std</th>\n",
       "      <td>0.426404</td>\n",
       "    </tr>\n",
       "    <tr>\n",
       "      <th>min</th>\n",
       "      <td>0.000000</td>\n",
       "    </tr>\n",
       "    <tr>\n",
       "      <th>25%</th>\n",
       "      <td>0.000000</td>\n",
       "    </tr>\n",
       "    <tr>\n",
       "      <th>50%</th>\n",
       "      <td>0.000000</td>\n",
       "    </tr>\n",
       "    <tr>\n",
       "      <th>75%</th>\n",
       "      <td>0.000000</td>\n",
       "    </tr>\n",
       "    <tr>\n",
       "      <th>max</th>\n",
       "      <td>1.000000</td>\n",
       "    </tr>\n",
       "  </tbody>\n",
       "</table>\n",
       "</div>"
      ],
      "text/plain": [
       "              spam\n",
       "count  5728.000000\n",
       "mean      0.238827\n",
       "std       0.426404\n",
       "min       0.000000\n",
       "25%       0.000000\n",
       "50%       0.000000\n",
       "75%       0.000000\n",
       "max       1.000000"
      ]
     },
     "execution_count": 5,
     "metadata": {},
     "output_type": "execute_result"
    }
   ],
   "source": [
    "emails.describe()"
   ]
  },
  {
   "cell_type": "markdown",
   "metadata": {
    "id": "dgMavojlg7ZT"
   },
   "source": [
    "**Q2. How many of the emails are spam?**\n",
    "\n",
    "There are 1368 spam emails, roughly 24% of the dataset is spam and rest are ham datapoints, as seen by the mean, as well as the countplot of the spam column"
   ]
  },
  {
   "cell_type": "code",
   "execution_count": 6,
   "metadata": {
    "colab": {
     "base_uri": "https://localhost:8080/"
    },
    "executionInfo": {
     "elapsed": 12,
     "status": "ok",
     "timestamp": 1648624640706,
     "user": {
      "displayName": "Arka -h",
      "userId": "01873960014260766132"
     },
     "user_tz": -330
    },
    "id": "ufPiTKyIg7ZT",
    "outputId": "88928bc2-d30d-4c41-9e1f-b5b99947cfbd"
   },
   "outputs": [
    {
     "name": "stdout",
     "output_type": "stream",
     "text": [
      "The dataset has 1368 spam emails out of 5728, roughly 23.88%\n"
     ]
    },
    {
     "name": "stderr",
     "output_type": "stream",
     "text": [
      "C:\\Users\\aurko\\anaconda3\\lib\\site-packages\\seaborn\\_decorators.py:36: FutureWarning: Pass the following variable as a keyword arg: x. From version 0.12, the only valid positional argument will be `data`, and passing other arguments without an explicit keyword will result in an error or misinterpretation.\n",
      "  warnings.warn(\n"
     ]
    },
    {
     "data": {
      "image/png": "[encoded data removed]",
      "text/plain": [
       "<Figure size 432x288 with 1 Axes>"
      ]
     },
     "metadata": {
      "needs_background": "light"
     },
     "output_type": "display_data"
    }
   ],
   "source": [
    "sns.countplot(emails['spam'])\n",
    "plt.legend(['Not spam', 'Spam'])\n",
    "nspam=emails.query('spam == 1').count()[0]\n",
    "print(f\"The dataset has {nspam} spam emails out of {emails.count()[0]}, roughly 23.88%\")"
   ]
  },
  {
   "cell_type": "markdown",
   "metadata": {
    "id": "80gDtneCg7ZU"
   },
   "source": [
    "There are total 2 columns, text is of string type and spam is of int type each containing the content of the email and it's status, if it's spam or ham"
   ]
  },
  {
   "cell_type": "code",
   "execution_count": 7,
   "metadata": {
    "colab": {
     "base_uri": "https://localhost:8080/"
    },
    "executionInfo": {
     "elapsed": 10,
     "status": "ok",
     "timestamp": 1648624640706,
     "user": {
      "displayName": "Arka -h",
      "userId": "01873960014260766132"
     },
     "user_tz": -330
    },
    "id": "y_BZARcbg7ZU",
    "outputId": "b3a81355-c707-405f-a0d9-4598c255b35a"
   },
   "outputs": [
    {
     "name": "stdout",
     "output_type": "stream",
     "text": [
      "<class 'pandas.core.frame.DataFrame'>\n",
      "RangeIndex: 5728 entries, 0 to 5727\n",
      "Data columns (total 2 columns):\n",
      " #   Column  Non-Null Count  Dtype \n",
      "---  ------  --------------  ----- \n",
      " 0   text    5728 non-null   object\n",
      " 1   spam    5728 non-null   int64 \n",
      "dtypes: int64(1), object(1)\n",
      "memory usage: 89.6+ KB\n"
     ]
    }
   ],
   "source": [
    "emails.info()"
   ]
  },
  {
   "cell_type": "markdown",
   "metadata": {
    "id": "eROD3uHbg7ZV"
   },
   "source": [
    "**Q3. Which word appears at the beginning of every email in the dataset?**\n",
    "\n",
    "Subject"
   ]
  },
  {
   "cell_type": "code",
   "execution_count": 8,
   "metadata": {
    "colab": {
     "base_uri": "https://localhost:8080/"
    },
    "executionInfo": {
     "elapsed": 10,
     "status": "ok",
     "timestamp": 1648624640706,
     "user": {
      "displayName": "Arka -h",
      "userId": "01873960014260766132"
     },
     "user_tz": -330
    },
    "id": "56TbCnKEg7ZV",
    "outputId": "3f3f407c-3152-41cd-fd92-53b2a71cd3e1"
   },
   "outputs": [
    {
     "data": {
      "text/plain": [
       "0       Subject: naturally irresistible your corporate...\n",
       "1       Subject: the stock trading gunslinger  fanny i...\n",
       "2       Subject: unbelievable new homes made easy  im ...\n",
       "3       Subject: 4 color printing special  request add...\n",
       "4       Subject: do not have money , get software cds ...\n",
       "                              ...                        \n",
       "5723    Subject: re : research and development charges...\n",
       "5724    Subject: re : receipts from visit  jim ,  than...\n",
       "5725    Subject: re : enron case study update  wow ! a...\n",
       "5726    Subject: re : interest  david ,  please , call...\n",
       "5727    Subject: news : aurora 5 . 2 update  aurora ve...\n",
       "Name: text, Length: 5728, dtype: object"
      ]
     },
     "execution_count": 8,
     "metadata": {},
     "output_type": "execute_result"
    }
   ],
   "source": [
    "emails['text']"
   ]
  },
  {
   "cell_type": "code",
   "execution_count": 9,
   "metadata": {
    "colab": {
     "base_uri": "https://localhost:8080/"
    },
    "executionInfo": {
     "elapsed": 10,
     "status": "ok",
     "timestamp": 1648624640707,
     "user": {
      "displayName": "Arka -h",
      "userId": "01873960014260766132"
     },
     "user_tz": -330
    },
    "id": "pMhZHceUg7ZW",
    "outputId": "31f80f96-fa49-4c6e-a64c-f7905766d236"
   },
   "outputs": [
    {
     "name": "stdout",
     "output_type": "stream",
     "text": [
      "Checking if all the emails contain first word as `Subject:`\n",
      "We see that all the emails contain the word subject\n"
     ]
    }
   ],
   "source": [
    "print(f\"Checking if all the emails contain first word as `Subject:`\")\n",
    "emails[emails['text'].apply(lambda x: x.startswith('Subject:'))].count()[0]\n",
    "print(\"We see that all the emails contain the word subject\")"
   ]
  },
  {
   "cell_type": "markdown",
   "metadata": {
    "id": "eUvIS4u8g7ZW"
   },
   "source": [
    "**Q4. Could a spam classifier potentially benefit from including the frequency of the word that appears in every email?**\n",
    "\n",
    "**Current Hypothesis**\n",
    "\n",
    "Since all emails have a subject, including the frequency of the word appearing in every email would not give us any useful information about the nature of the email/ it's contents that contain the spam, and should hence be removed\n",
    "\n",
    "**No** : The word appears in every email so this variable would not help us differentiate spam from ham."
   ]
  },
  {
   "cell_type": "markdown",
   "metadata": {
    "id": "QLT0FE80g7ZW"
   },
   "source": [
    "**Q5. How many characters are in the longest email in the dataset (where longest is measured in terms of the maximum number of characters)?**\n",
    "\n",
    "43952"
   ]
  },
  {
   "cell_type": "code",
   "execution_count": 10,
   "metadata": {
    "colab": {
     "base_uri": "https://localhost:8080/"
    },
    "executionInfo": {
     "elapsed": 1109,
     "status": "ok",
     "timestamp": 1648624641806,
     "user": {
      "displayName": "Arka -h",
      "userId": "01873960014260766132"
     },
     "user_tz": -330
    },
    "id": "pnT2vZ9mg7ZX",
    "outputId": "570f9b0b-91bb-43df-be50-30ec5fdbd6cc"
   },
   "outputs": [
    {
     "name": "stderr",
     "output_type": "stream",
     "text": [
      "C:\\Users\\aurko\\anaconda3\\lib\\site-packages\\seaborn\\distributions.py:2619: FutureWarning: `distplot` is a deprecated function and will be removed in a future version. Please adapt your code to use either `displot` (a figure-level function with similar flexibility) or `histplot` (an axes-level function for histograms).\n",
      "  warnings.warn(msg, FutureWarning)\n"
     ]
    },
    {
     "data": {
      "image/png": "[encoded data removed]",
      "text/plain": [
       "<Figure size 432x288 with 1 Axes>"
      ]
     },
     "metadata": {
      "needs_background": "light"
     },
     "output_type": "display_data"
    }
   ],
   "source": [
    "subject_len = emails.apply(lambda x: len(x['text']), axis=1)\n",
    "sns.distplot(subject_len)\n",
    "plt.title('Distribution of email lengths')\n",
    "plt.xlabel('email lengths(char)')\n",
    "plt.ylabel('length frequencies')\n",
    "plt.show()"
   ]
  },
  {
   "cell_type": "code",
   "execution_count": 11,
   "metadata": {
    "colab": {
     "base_uri": "https://localhost:8080/"
    },
    "executionInfo": {
     "elapsed": 11,
     "status": "ok",
     "timestamp": 1648624641807,
     "user": {
      "displayName": "Arka -h",
      "userId": "01873960014260766132"
     },
     "user_tz": -330
    },
    "id": "-x8s4ZpRg7ZX",
    "outputId": "cc6ec591-708c-4207-d302-0497feee1b14"
   },
   "outputs": [
    {
     "name": "stdout",
     "output_type": "stream",
     "text": [
      "The maximum email length is 43952\n"
     ]
    }
   ],
   "source": [
    "print(f'The maximum email length is {max(subject_len)}')"
   ]
  },
  {
   "cell_type": "markdown",
   "metadata": {
    "id": "aQsW9q5Ng7ZX"
   },
   "source": [
    "### Problem 2.1 - Preparing the corpus"
   ]
  },
  {
   "cell_type": "markdown",
   "metadata": {
    "id": "iC60c4s1g7ZX"
   },
   "source": [
    "Before proceeding, we make changes to the original text column of the dataset:\n",
    "* Remove all the punctutaions \n",
    "* Make our 'text' column into lowercase\n",
    "* Remove the stopwords\n",
    "* Apply Stemming on the corpus"
   ]
  },
  {
   "cell_type": "markdown",
   "metadata": {
    "id": "8i1TzavbjW9q"
   },
   "source": [
    "### a. Remove Punctuations"
   ]
  },
  {
   "cell_type": "code",
   "execution_count": 12,
   "metadata": {
    "colab": {
     "base_uri": "https://localhost:8080/"
    },
    "executionInfo": {
     "elapsed": 11,
     "status": "ok",
     "timestamp": 1648624641807,
     "user": {
      "displayName": "Arka -h",
      "userId": "01873960014260766132"
     },
     "user_tz": -330
    },
    "id": "AAZUI8Xbg7ZY",
    "outputId": "db4dcc48-c9f9-4c61-8c48-d3384bba5c86"
   },
   "outputs": [
    {
     "data": {
      "text/html": [
       "<div>\n",
       "<style scoped>\n",
       "    .dataframe tbody tr th:only-of-type {\n",
       "        vertical-align: middle;\n",
       "    }\n",
       "\n",
       "    .dataframe tbody tr th {\n",
       "        vertical-align: top;\n",
       "    }\n",
       "\n",
       "    .dataframe thead th {\n",
       "        text-align: right;\n",
       "    }\n",
       "</style>\n",
       "<table border=\"1\" class=\"dataframe\">\n",
       "  <thead>\n",
       "    <tr style=\"text-align: right;\">\n",
       "      <th></th>\n",
       "      <th>text</th>\n",
       "      <th>spam</th>\n",
       "    </tr>\n",
       "  </thead>\n",
       "  <tbody>\n",
       "    <tr>\n",
       "      <th>0</th>\n",
       "      <td>naturally irresistible your corporate identit...</td>\n",
       "      <td>1</td>\n",
       "    </tr>\n",
       "    <tr>\n",
       "      <th>1</th>\n",
       "      <td>the stock trading gunslinger  fanny is merril...</td>\n",
       "      <td>1</td>\n",
       "    </tr>\n",
       "    <tr>\n",
       "      <th>2</th>\n",
       "      <td>unbelievable new homes made easy  im wanting ...</td>\n",
       "      <td>1</td>\n",
       "    </tr>\n",
       "    <tr>\n",
       "      <th>3</th>\n",
       "      <td>4 color printing special  request additional ...</td>\n",
       "      <td>1</td>\n",
       "    </tr>\n",
       "    <tr>\n",
       "      <th>4</th>\n",
       "      <td>do not have money  get software cds from here...</td>\n",
       "      <td>1</td>\n",
       "    </tr>\n",
       "  </tbody>\n",
       "</table>\n",
       "</div>"
      ],
      "text/plain": [
       "                                                text  spam\n",
       "0   naturally irresistible your corporate identit...     1\n",
       "1   the stock trading gunslinger  fanny is merril...     1\n",
       "2   unbelievable new homes made easy  im wanting ...     1\n",
       "3   4 color printing special  request additional ...     1\n",
       "4   do not have money  get software cds from here...     1"
      ]
     },
     "execution_count": 12,
     "metadata": {},
     "output_type": "execute_result"
    }
   ],
   "source": [
    "punc = '''!()-[]{};:'\"\\,<>./?@#$%^&*_~'''\n",
    "def fn(text):\n",
    "    # Removing punctuations in stripped and lowercased string using regex\n",
    "    return re.sub(r'[^\\w\\s]', '', text.strip()[8:].lower())\n",
    "\n",
    "emails['text'] = emails['text'].apply(func=fn)\n",
    "emails.head()"
   ]
  },
  {
   "cell_type": "code",
   "execution_count": 15,
   "metadata": {
    "colab": {
     "base_uri": "https://localhost:8080/"
    },
    "executionInfo": {
     "elapsed": 11,
     "status": "ok",
     "timestamp": 1648624641808,
     "user": {
      "displayName": "Arka -h",
      "userId": "01873960014260766132"
     },
     "user_tz": -330
    },
    "id": "x2LOtdeLg7ZY",
    "outputId": "ff6a635f-ba6c-41e3-dc63-7ed93c0e85db",
    "scrolled": true
   },
   "outputs": [
    {
     "data": {
      "text/plain": [
       "{'a',\n",
       " 'about',\n",
       " 'above',\n",
       " 'after',\n",
       " 'again',\n",
       " 'against',\n",
       " 'all',\n",
       " 'am',\n",
       " 'an',\n",
       " 'and',\n",
       " 'any',\n",
       " 'are',\n",
       " \"aren't\",\n",
       " 'as',\n",
       " 'at',\n",
       " 'be',\n",
       " 'because',\n",
       " 'been',\n",
       " 'before',\n",
       " 'being',\n",
       " 'below',\n",
       " 'between',\n",
       " 'both',\n",
       " 'but',\n",
       " 'by',\n",
       " \"can't\",\n",
       " 'cannot',\n",
       " 'could',\n",
       " \"couldn't\",\n",
       " 'did',\n",
       " \"didn't\",\n",
       " 'do',\n",
       " 'does',\n",
       " \"doesn't\",\n",
       " 'doing',\n",
       " \"don't\",\n",
       " 'down',\n",
       " 'during',\n",
       " 'each',\n",
       " 'few',\n",
       " 'for',\n",
       " 'from',\n",
       " 'further',\n",
       " 'had',\n",
       " \"hadn't\",\n",
       " 'has',\n",
       " \"hasn't\",\n",
       " 'have',\n",
       " \"haven't\",\n",
       " 'having',\n",
       " 'he',\n",
       " \"he'd\",\n",
       " \"he'll\",\n",
       " \"he's\",\n",
       " 'her',\n",
       " 'here',\n",
       " \"here's\",\n",
       " 'hers',\n",
       " 'herself',\n",
       " 'him',\n",
       " 'himself',\n",
       " 'his',\n",
       " 'how',\n",
       " \"how's\",\n",
       " 'i',\n",
       " \"i'd\",\n",
       " \"i'll\",\n",
       " \"i'm\",\n",
       " \"i've\",\n",
       " 'if',\n",
       " 'in',\n",
       " 'into',\n",
       " 'is',\n",
       " \"isn't\",\n",
       " 'it',\n",
       " \"it's\",\n",
       " 'its',\n",
       " 'itself',\n",
       " \"let's\",\n",
       " 'me',\n",
       " 'more',\n",
       " 'most',\n",
       " \"mustn't\",\n",
       " 'my',\n",
       " 'myself',\n",
       " 'no',\n",
       " 'nor',\n",
       " 'not',\n",
       " 'of',\n",
       " 'off',\n",
       " 'on',\n",
       " 'once',\n",
       " 'only',\n",
       " 'or',\n",
       " 'other',\n",
       " 'ought',\n",
       " 'our',\n",
       " 'ours',\n",
       " 'ourselves',\n",
       " 'out',\n",
       " 'over',\n",
       " 'own',\n",
       " 'same',\n",
       " \"shan't\",\n",
       " 'she',\n",
       " \"she'd\",\n",
       " \"she'll\",\n",
       " \"she's\",\n",
       " 'should',\n",
       " \"shouldn't\",\n",
       " 'so',\n",
       " 'some',\n",
       " 'such',\n",
       " 'than',\n",
       " 'that',\n",
       " \"that's\",\n",
       " 'the',\n",
       " 'their',\n",
       " 'theirs',\n",
       " 'them',\n",
       " 'themselves',\n",
       " 'then',\n",
       " 'there',\n",
       " \"there's\",\n",
       " 'these',\n",
       " 'they',\n",
       " \"they'd\",\n",
       " \"they'll\",\n",
       " \"they're\",\n",
       " \"they've\",\n",
       " 'this',\n",
       " 'those',\n",
       " 'through',\n",
       " 'to',\n",
       " 'too',\n",
       " 'under',\n",
       " 'until',\n",
       " 'up',\n",
       " 'very',\n",
       " 'was',\n",
       " \"wasn't\",\n",
       " 'we',\n",
       " \"we'd\",\n",
       " \"we'll\",\n",
       " \"we're\",\n",
       " \"we've\",\n",
       " 'were',\n",
       " \"weren't\",\n",
       " 'what',\n",
       " \"what's\",\n",
       " 'when',\n",
       " \"when's\",\n",
       " 'where',\n",
       " \"where's\",\n",
       " 'which',\n",
       " 'while',\n",
       " 'who',\n",
       " \"who's\",\n",
       " 'whom',\n",
       " 'why',\n",
       " \"why's\",\n",
       " 'with',\n",
       " \"won't\",\n",
       " 'would',\n",
       " \"wouldn't\",\n",
       " 'you',\n",
       " \"you'd\",\n",
       " \"you'll\",\n",
       " \"you're\",\n",
       " \"you've\",\n",
       " 'your',\n",
       " 'yours',\n",
       " 'yourself',\n",
       " 'yourselves'}"
      ]
     },
     "execution_count": 15,
     "metadata": {},
     "output_type": "execute_result"
    }
   ],
   "source": [
    "with open('stopwords.txt') as f:\n",
    "    exec(f.read())\n",
    "sw"
   ]
  },
  {
   "cell_type": "markdown",
   "metadata": {
    "id": "KNTr3oY8jUgq"
   },
   "source": [
    "### b. Remove Stopwords"
   ]
  },
  {
   "cell_type": "code",
   "execution_count": 16,
   "metadata": {
    "colab": {
     "base_uri": "https://localhost:8080/"
    },
    "executionInfo": {
     "elapsed": 10,
     "status": "ok",
     "timestamp": 1648624641808,
     "user": {
      "displayName": "Arka -h",
      "userId": "01873960014260766132"
     },
     "user_tz": -330
    },
    "id": "OT8nW4uRg7ZZ",
    "outputId": "04aaff46-9df3-49e7-8d48-1425b4c0735c"
   },
   "outputs": [
    {
     "data": {
      "text/html": [
       "<div>\n",
       "<style scoped>\n",
       "    .dataframe tbody tr th:only-of-type {\n",
       "        vertical-align: middle;\n",
       "    }\n",
       "\n",
       "    .dataframe tbody tr th {\n",
       "        vertical-align: top;\n",
       "    }\n",
       "\n",
       "    .dataframe thead th {\n",
       "        text-align: right;\n",
       "    }\n",
       "</style>\n",
       "<table border=\"1\" class=\"dataframe\">\n",
       "  <thead>\n",
       "    <tr style=\"text-align: right;\">\n",
       "      <th></th>\n",
       "      <th>text</th>\n",
       "      <th>spam</th>\n",
       "    </tr>\n",
       "  </thead>\n",
       "  <tbody>\n",
       "    <tr>\n",
       "      <th>0</th>\n",
       "      <td>naturally irresistible corporate identity lt r...</td>\n",
       "      <td>1</td>\n",
       "    </tr>\n",
       "    <tr>\n",
       "      <th>1</th>\n",
       "      <td>stock trading gunslinger fanny merrill muzo co...</td>\n",
       "      <td>1</td>\n",
       "    </tr>\n",
       "    <tr>\n",
       "      <th>2</th>\n",
       "      <td>unbelievable new homes made easy im wanting sh...</td>\n",
       "      <td>1</td>\n",
       "    </tr>\n",
       "    <tr>\n",
       "      <th>3</th>\n",
       "      <td>4 color printing special request additional in...</td>\n",
       "      <td>1</td>\n",
       "    </tr>\n",
       "    <tr>\n",
       "      <th>4</th>\n",
       "      <td>money get software cds software compatibility ...</td>\n",
       "      <td>1</td>\n",
       "    </tr>\n",
       "  </tbody>\n",
       "</table>\n",
       "</div>"
      ],
      "text/plain": [
       "                                                text  spam\n",
       "0  naturally irresistible corporate identity lt r...     1\n",
       "1  stock trading gunslinger fanny merrill muzo co...     1\n",
       "2  unbelievable new homes made easy im wanting sh...     1\n",
       "3  4 color printing special request additional in...     1\n",
       "4  money get software cds software compatibility ...     1"
      ]
     },
     "execution_count": 16,
     "metadata": {},
     "output_type": "execute_result"
    }
   ],
   "source": [
    "def remove_stopwords(text):\n",
    "    temp = ''\n",
    "    for word in text.split():\n",
    "        if word not in sw:\n",
    "            temp += (word+' ')\n",
    "    return temp.strip()\n",
    "emails['text']=emails['text'].apply(remove_stopwords)\n",
    "emails.head()"
   ]
  },
  {
   "cell_type": "markdown",
   "metadata": {
    "id": "tRUM0v-2jI_n"
   },
   "source": [
    "### c. Stemming"
   ]
  },
  {
   "cell_type": "code",
   "execution_count": 17,
   "metadata": {
    "colab": {
     "base_uri": "https://localhost:8080/",
     "height": 206
    },
    "executionInfo": {
     "elapsed": 12518,
     "status": "ok",
     "timestamp": 1648624654317,
     "user": {
      "displayName": "Arka -h",
      "userId": "01873960014260766132"
     },
     "user_tz": -330
    },
    "id": "bN-pS0Wqg7ZZ",
    "outputId": "f09caa5d-91ba-4f06-fae5-90280f898916"
   },
   "outputs": [
    {
     "data": {
      "text/html": [
       "<div>\n",
       "<style scoped>\n",
       "    .dataframe tbody tr th:only-of-type {\n",
       "        vertical-align: middle;\n",
       "    }\n",
       "\n",
       "    .dataframe tbody tr th {\n",
       "        vertical-align: top;\n",
       "    }\n",
       "\n",
       "    .dataframe thead th {\n",
       "        text-align: right;\n",
       "    }\n",
       "</style>\n",
       "<table border=\"1\" class=\"dataframe\">\n",
       "  <thead>\n",
       "    <tr style=\"text-align: right;\">\n",
       "      <th></th>\n",
       "      <th>text</th>\n",
       "      <th>spam</th>\n",
       "    </tr>\n",
       "  </thead>\n",
       "  <tbody>\n",
       "    <tr>\n",
       "      <th>0</th>\n",
       "      <td>natur irresist corpor ident lt realli hard rec...</td>\n",
       "      <td>1</td>\n",
       "    </tr>\n",
       "    <tr>\n",
       "      <th>1</th>\n",
       "      <td>stock trade gunsling fanni merril muzo colza a...</td>\n",
       "      <td>1</td>\n",
       "    </tr>\n",
       "    <tr>\n",
       "      <th>2</th>\n",
       "      <td>unbeliev new home made easi im want show homeo...</td>\n",
       "      <td>1</td>\n",
       "    </tr>\n",
       "    <tr>\n",
       "      <th>3</th>\n",
       "      <td>4 color print special request addit inform now...</td>\n",
       "      <td>1</td>\n",
       "    </tr>\n",
       "    <tr>\n",
       "      <th>4</th>\n",
       "      <td>money get softwar cds softwar compat ain t gre...</td>\n",
       "      <td>1</td>\n",
       "    </tr>\n",
       "  </tbody>\n",
       "</table>\n",
       "</div>"
      ],
      "text/plain": [
       "                                                text  spam\n",
       "0  natur irresist corpor ident lt realli hard rec...     1\n",
       "1  stock trade gunsling fanni merril muzo colza a...     1\n",
       "2  unbeliev new home made easi im want show homeo...     1\n",
       "3  4 color print special request addit inform now...     1\n",
       "4  money get softwar cds softwar compat ain t gre...     1"
      ]
     },
     "execution_count": 17,
     "metadata": {},
     "output_type": "execute_result"
    }
   ],
   "source": [
    "snowball = SnowballStemmer(language='english')\n",
    "def stem(text):\n",
    "    temp = ''\n",
    "    for word in text.split():\n",
    "        temp += ( snowball.stem(word) + ' ' )\n",
    "    return temp.strip()\n",
    "emails['text']=emails['text'].apply(stem) # Apply stemming to the text\n",
    "emails.head()"
   ]
  },
  {
   "cell_type": "markdown",
   "metadata": {
    "id": "NUs3GwWmjsx3"
   },
   "source": [
    "### Building DTM & corpus"
   ]
  },
  {
   "cell_type": "code",
   "execution_count": 30,
   "metadata": {
    "colab": {
     "base_uri": "https://localhost:8080/"
    },
    "executionInfo": {
     "elapsed": 6,
     "status": "ok",
     "timestamp": 1648624654317,
     "user": {
      "displayName": "Arka -h",
      "userId": "01873960014260766132"
     },
     "user_tz": -330
    },
    "id": "kP3SlNABjsHu",
    "outputId": "7c834280-705b-4133-dbf3-129351828a92"
   },
   "outputs": [],
   "source": [
    "cv = CountVectorizer()\n",
    "dtm = cv.fit_transform(emails['text'])"
   ]
  },
  {
   "cell_type": "code",
   "execution_count": 31,
   "metadata": {},
   "outputs": [
    {
     "data": {
      "text/plain": [
       "(5728, 29266)"
      ]
     },
     "execution_count": 31,
     "metadata": {},
     "output_type": "execute_result"
    }
   ],
   "source": [
    "dtm.shape"
   ]
  },
  {
   "cell_type": "markdown",
   "metadata": {},
   "source": [
    "There are 29266 terms in document matrix"
   ]
  },
  {
   "cell_type": "markdown",
   "metadata": {},
   "source": [
    "### Creating spdtm (atleast 5% doc terms)\n",
    "Limiting dtm to contain terms appearing in at least 5% of documents"
   ]
  },
  {
   "cell_type": "code",
   "execution_count": 32,
   "metadata": {},
   "outputs": [
    {
     "data": {
      "text/plain": [
       "(5728, 28892)"
      ]
     },
     "execution_count": 32,
     "metadata": {},
     "output_type": "execute_result"
    }
   ],
   "source": [
    "cv_sp = CountVectorizer(max_df = 0.05)\n",
    "spdtm = cv_sp.fit_transform(emails['text'])\n",
    "spdtm.shape"
   ]
  },
  {
   "cell_type": "markdown",
   "metadata": {},
   "source": [
    "There are 28892 terms in spdtm"
   ]
  },
  {
   "cell_type": "markdown",
   "metadata": {
    "id": "yFl4Z-timyKt"
   },
   "source": [
    "### Problem 3.1 – Building machine learning models"
   ]
  },
  {
   "cell_type": "code",
   "execution_count": 36,
   "metadata": {
    "colab": {
     "base_uri": "https://localhost:8080/"
    },
    "executionInfo": {
     "elapsed": 3228,
     "status": "ok",
     "timestamp": 1648625444409,
     "user": {
      "displayName": "Arka -h",
      "userId": "01873960014260766132"
     },
     "user_tz": -330
    },
    "id": "7v40o9MRmgJh",
    "outputId": "dda566de-4866-4751-9f5b-2397a655a79d"
   },
   "outputs": [
    {
     "name": "stdout",
     "output_type": "stream",
     "text": [
      "There are 4009 items in train and 1719 items in test\n"
     ]
    }
   ],
   "source": [
    "X = spdtm\n",
    "y = np.array(emails['spam']).reshape(-1, 1)\n",
    "X_train, X_test, y_train, y_test = train_test_split(X, y, test_size=0.3)\n",
    "print(f'There are {len(list(X_train))} items in train and {len(list(X_test))} items in test')"
   ]
  },
  {
   "cell_type": "markdown",
   "metadata": {},
   "source": [
    "### CART model\n",
    "Training the CART model"
   ]
  },
  {
   "cell_type": "code",
   "execution_count": 42,
   "metadata": {},
   "outputs": [
    {
     "data": {
      "text/plain": [
       "DecisionTreeClassifier()"
      ]
     },
     "execution_count": 42,
     "metadata": {},
     "output_type": "execute_result"
    }
   ],
   "source": [
    "spamCART = DecisionTreeClassifier(criterion=\"gini\")\n",
    "spamCART.fit(X_train, y_train)"
   ]
  },
  {
   "cell_type": "markdown",
   "metadata": {},
   "source": [
    "### Random Forest model\n",
    "Training the CART model"
   ]
  },
  {
   "cell_type": "code",
   "execution_count": 50,
   "metadata": {},
   "outputs": [
    {
     "name": "stderr",
     "output_type": "stream",
     "text": [
      "<ipython-input-50-1dd573f5ac03>:2: DataConversionWarning: A column-vector y was passed when a 1d array was expected. Please change the shape of y to (n_samples,), for example using ravel().\n",
      "  spamRF.fit(X_train, y_train)\n"
     ]
    },
    {
     "data": {
      "text/plain": [
       "RandomForestClassifier()"
      ]
     },
     "execution_count": 50,
     "metadata": {},
     "output_type": "execute_result"
    }
   ],
   "source": [
    "spamRF = RandomForestClassifier()\n",
    "spamRF.fit(X_train, y_train)"
   ]
  },
  {
   "cell_type": "markdown",
   "metadata": {},
   "source": [
    "#### What is the training set accuracy of spamCART ?"
   ]
  },
  {
   "cell_type": "code",
   "execution_count": 51,
   "metadata": {
    "scrolled": true
   },
   "outputs": [
    {
     "name": "stdout",
     "output_type": "stream",
     "text": [
      "Accuracy(CART) on training data: 1.0\n"
     ]
    }
   ],
   "source": [
    "y_train_cart = spamCART.predict(X_train.toarray())\n",
    "print(f'Accuracy(CART) on training data: {accuracy_score(y_train, y_train_cart)}')"
   ]
  },
  {
   "cell_type": "markdown",
   "metadata": {},
   "source": [
    "#### What is the training set AUC of spamCART ?"
   ]
  },
  {
   "cell_type": "code",
   "execution_count": 52,
   "metadata": {},
   "outputs": [
    {
     "name": "stdout",
     "output_type": "stream",
     "text": [
      "AUC(CART) on training data: 1.0\n"
     ]
    }
   ],
   "source": [
    "fpr, tpr, thresholds = roc_curve(y_train, y_train_cart)\n",
    "print(f'AUC(CART) on training data: {auc(fpr, tpr)}')"
   ]
  },
  {
   "cell_type": "markdown",
   "metadata": {},
   "source": [
    "#### What is the training set accuracy of spamRF ?"
   ]
  },
  {
   "cell_type": "code",
   "execution_count": 53,
   "metadata": {},
   "outputs": [
    {
     "name": "stdout",
     "output_type": "stream",
     "text": [
      "Accuracy(RF) on training data: 1.0\n"
     ]
    }
   ],
   "source": [
    "y_train_rf = spamRF.predict(X_train.toarray())\n",
    "print(f'Accuracy(RF) on training data: {accuracy_score(y_train, y_train_rf)}')"
   ]
  },
  {
   "cell_type": "markdown",
   "metadata": {},
   "source": [
    "#### What is the training set AUC of spamRF ?"
   ]
  },
  {
   "cell_type": "code",
   "execution_count": 54,
   "metadata": {},
   "outputs": [
    {
     "name": "stdout",
     "output_type": "stream",
     "text": [
      "AUC(RF) on training data: 1.0\n"
     ]
    }
   ],
   "source": [
    "fpr, tpr, thresholds = roc_curve(y_train, y_train_rf)\n",
    "print(f'AUC(RF) on training data: {auc(fpr, tpr)}')"
   ]
  },
  {
   "cell_type": "markdown",
   "metadata": {},
   "source": [
    "### Problem 4.1 – Evaluating on the Test Set"
   ]
  },
  {
   "cell_type": "markdown",
   "metadata": {},
   "source": [
    "#### What is the testing set accuracy of spamCART ?"
   ]
  },
  {
   "cell_type": "code",
   "execution_count": 55,
   "metadata": {},
   "outputs": [
    {
     "name": "stdout",
     "output_type": "stream",
     "text": [
      "Accuracy on training data: 0.9232111692844677\n"
     ]
    }
   ],
   "source": [
    "y_test_cart = spamCART.predict(X_test.toarray())\n",
    "print(f'Accuracy on training data: {accuracy_score(y_test, y_test_cart)}')"
   ]
  },
  {
   "cell_type": "markdown",
   "metadata": {},
   "source": [
    "#### What is the testing set AUC of spamCART ?"
   ]
  },
  {
   "cell_type": "code",
   "execution_count": 56,
   "metadata": {},
   "outputs": [
    {
     "name": "stdout",
     "output_type": "stream",
     "text": [
      "AUC on training data: 0.8930612898633257\n"
     ]
    }
   ],
   "source": [
    "fpr, tpr, thresholds = roc_curve(y_test, y_test_cart)\n",
    "print(f'AUC on training data: {auc(fpr, tpr)}')"
   ]
  },
  {
   "cell_type": "code",
   "execution_count": 65,
   "metadata": {},
   "outputs": [
    {
     "name": "stdout",
     "output_type": "stream",
     "text": [
      "              precision    recall  f1-score   support\n",
      "\n",
      "           0       0.94      0.95      0.95      1280\n",
      "           1       0.86      0.83      0.85       439\n",
      "\n",
      "    accuracy                           0.92      1719\n",
      "   macro avg       0.90      0.89      0.90      1719\n",
      "weighted avg       0.92      0.92      0.92      1719\n",
      "\n"
     ]
    }
   ],
   "source": [
    "print(classification_report(y_test, y_test_cart))"
   ]
  },
  {
   "cell_type": "markdown",
   "metadata": {},
   "source": [
    "#### What is the testing set accuracy of spamRF ?"
   ]
  },
  {
   "cell_type": "code",
   "execution_count": 57,
   "metadata": {},
   "outputs": [
    {
     "name": "stdout",
     "output_type": "stream",
     "text": [
      "Accuracy on training data: 0.956369982547993\n"
     ]
    }
   ],
   "source": [
    "y_test_rf = spamRF.predict(X_test.toarray())\n",
    "print(f'Accuracy on training data: {accuracy_score(y_test, y_test_rf)}')"
   ]
  },
  {
   "cell_type": "markdown",
   "metadata": {},
   "source": [
    "#### What is the testing set AUC of spamRF ?"
   ]
  },
  {
   "cell_type": "code",
   "execution_count": 58,
   "metadata": {},
   "outputs": [
    {
     "name": "stdout",
     "output_type": "stream",
     "text": [
      "AUC on training data: 0.9235585136674259\n"
     ]
    }
   ],
   "source": [
    "fpr, tpr, thresholds = roc_curve(y_test, y_test_rf)\n",
    "print(f'AUC on training data: {auc(fpr, tpr)}')"
   ]
  },
  {
   "cell_type": "code",
   "execution_count": 64,
   "metadata": {},
   "outputs": [
    {
     "name": "stdout",
     "output_type": "stream",
     "text": [
      "              precision    recall  f1-score   support\n",
      "\n",
      "           0       0.95      0.99      0.97      1280\n",
      "           1       0.97      0.86      0.91       439\n",
      "\n",
      "    accuracy                           0.96      1719\n",
      "   macro avg       0.96      0.92      0.94      1719\n",
      "weighted avg       0.96      0.96      0.96      1719\n",
      "\n"
     ]
    }
   ],
   "source": [
    "print(classification_report(y_test, y_test_rf))"
   ]
  },
  {
   "cell_type": "markdown",
   "metadata": {},
   "source": [
    "### Which model had the best testing set performance, in terms of accuracy and AUC? "
   ]
  },
  {
   "cell_type": "markdown",
   "metadata": {},
   "source": [
    "Comparing ROC and accuracy scores "
   ]
  },
  {
   "cell_type": "code",
   "execution_count": 62,
   "metadata": {},
   "outputs": [
    {
     "data": {
      "image/png": "[encoded data removed]",
      "text/plain": [
       "<Figure size 432x288 with 1 Axes>"
      ]
     },
     "metadata": {
      "needs_background": "light"
     },
     "output_type": "display_data"
    },
    {
     "data": {
      "text/html": [
       "<div>\n",
       "<style scoped>\n",
       "    .dataframe tbody tr th:only-of-type {\n",
       "        vertical-align: middle;\n",
       "    }\n",
       "\n",
       "    .dataframe tbody tr th {\n",
       "        vertical-align: top;\n",
       "    }\n",
       "\n",
       "    .dataframe thead th {\n",
       "        text-align: right;\n",
       "    }\n",
       "</style>\n",
       "<table border=\"1\" class=\"dataframe\">\n",
       "  <thead>\n",
       "    <tr style=\"text-align: right;\">\n",
       "      <th></th>\n",
       "      <th>Model</th>\n",
       "      <th>Testing Accuracy</th>\n",
       "    </tr>\n",
       "  </thead>\n",
       "  <tbody>\n",
       "    <tr>\n",
       "      <th>0</th>\n",
       "      <td>CART</td>\n",
       "      <td>92.321117</td>\n",
       "    </tr>\n",
       "    <tr>\n",
       "      <th>1</th>\n",
       "      <td>Random Forest</td>\n",
       "      <td>95.636998</td>\n",
       "    </tr>\n",
       "  </tbody>\n",
       "</table>\n",
       "</div>"
      ],
      "text/plain": [
       "           Model  Testing Accuracy\n",
       "0           CART         92.321117\n",
       "1  Random Forest         95.636998"
      ]
     },
     "execution_count": 62,
     "metadata": {},
     "output_type": "execute_result"
    }
   ],
   "source": [
    "y_pred_proba_rf = spamRF.predict_proba(X_test)[::,1]\n",
    "fpr, tpr, _ = roc_curve(y_test,  y_pred_proba_rf)\n",
    "roc_auc = auc(fpr, tpr)\n",
    "\n",
    "#create ROC curve\n",
    "plt.plot(fpr,tpr, label='Random Forest (area = %0.2f)' % roc_auc)\n",
    "plt.ylabel('True Positive Rate')\n",
    "plt.xlabel('False Positive Rate')\n",
    "\n",
    "y_pred_proba_cart = spamCART.predict_proba(X_test)[::,1]\n",
    "fpr, tpr, _ = roc_curve(y_test,  y_pred_proba_cart)\n",
    "roc_auc = auc(fpr, tpr)\n",
    "plt.plot(fpr,tpr, label='Cart (area = %0.2f)' % roc_auc)\n",
    "plt.plot([0,1],[0,1],color=\"navy\",lw=2,linestyle=\"--\")\n",
    "\n",
    "\n",
    "plt.legend()\n",
    "plt.show()\n",
    "\n",
    "pd.DataFrame([['CART',(accuracy_score(y_test, y_test_cart) * 100)],\n",
    "              ['Random Forest', (accuracy_score(y_test, y_test_rf) * 100)]],\n",
    "             columns=['Model','Testing Accuracy'])"
   ]
  },
  {
   "cell_type": "markdown",
   "metadata": {},
   "source": [
    "### Conclusion:\n",
    "1. We first observed that there are 1368 spam emails, roughly 24% of the dataset is spam and rest are ham data. We observed that all the emails had their first word as subject, and established that it's frequency in an email doesn't have any significant influence on the decision of it being spam or ham.\n",
    "2. Then the corpus was prepared and all the words were pooled in after the sentences were stemmed, lowercased, stopwords were removed etc. Subsequently from the corpus, dtm was formed and each sentence was transformed into a vector. We found that it was better to form a spdtm, limiting dtm to contain terms appearing in at least 5% of documents.\n",
    "3. CART model, i.e. DecisionTreeClassifier with gini criteria, vs RandomForestClassifier were built, and their training and testing accuracies and AUC's were measured, in which both gave excellent training accuracy/AUC score, but RandomForest performed better in testing accuracy/AUC both. And uniformly performed better in terms of precision, recall and f1 score. Thus the best among the 2 mdoels is RandomForest as it is able to take the best output out of multiple trees. "
   ]
  }
 ],
 "metadata": {
  "colab": {
   "collapsed_sections": [],
   "name": "DS Expt7.ipynb",
   "provenance": []
  },
  "kernelspec": {
   "display_name": "Python 3",
   "language": "python",
   "name": "python3"
  },
  "language_info": {
   "codemirror_mode": {
    "name": "ipython",
    "version": 3
   },
   "file_extension": ".py",
   "mimetype": "text/x-python",
   "name": "python",
   "nbconvert_exporter": "python",
   "pygments_lexer": "ipython3",
   "version": "3.8.3"
  }
 },
 "nbformat": 4,
 "nbformat_minor": 1
}
