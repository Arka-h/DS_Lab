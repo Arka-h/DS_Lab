{
  "nbformat": 4,
  "nbformat_minor": 0,
  "metadata": {
    "colab": {
      "name": "DS Lab4.ipynb",
      "provenance": [],
      "collapsed_sections": []
    },
    "kernelspec": {
      "name": "python3",
      "display_name": "Python 3"
    },
    "language_info": {
      "name": "python"
    }
  },
  "cells": [
    {
      "cell_type": "markdown",
      "source": [
        "# CEEL82B Expt 4: Statistical Analysis\n",
        "\n",
        "### Objective: \n",
        "Perform statistical data analysis such as: \n",
        "* Estimators of the main statistical measures (mean, variance, standard deviation, covariance correlation), \n",
        "* Main distributions ( Normal distribution, chi-square distribution), \n",
        "* Hypothesis testing,  \n",
        "* pair-wise association (Pearson correlation test, t-test, ANOVA), \n",
        "* Non-parametric test (Spearman rank etc)"
      ],
      "metadata": {
        "id": "wxfutvNKRw1b"
      }
    },
    {
      "cell_type": "code",
      "source": [
        "from google.colab import drive\n",
        "drive.mount('/content/drive')"
      ],
      "metadata": {
        "colab": {
          "base_uri": "https://localhost:8080/"
        },
        "id": "-dK4dOqQfFN7",
        "outputId": "d199a797-9b9c-48a5-a8e4-348642f69213"
      },
      "execution_count": 1,
      "outputs": [
        {
          "output_type": "stream",
          "name": "stdout",
          "text": [
            "Mounted at /content/drive\n"
          ]
        }
      ]
    },
    {
      "cell_type": "code",
      "source": [
        "%cd drive/MyDrive"
      ],
      "metadata": {
        "colab": {
          "base_uri": "https://localhost:8080/"
        },
        "id": "MqQa-f1Bf-Ct",
        "outputId": "a2dc6c1f-481b-4c06-fa0e-95c6325d8520"
      },
      "execution_count": 2,
      "outputs": [
        {
          "output_type": "stream",
          "name": "stdout",
          "text": [
            "/content/drive/MyDrive\n"
          ]
        }
      ]
    },
    {
      "cell_type": "code",
      "source": [
        "import pandas as pd\n",
        "import pylab\n",
        "import matplotlib.pyplot as plt\n",
        "import seaborn as sns\n",
        "from scipy.stats import pearsonr, ttest_ind, probplot, spearmanr, chi2_contingency, f_oneway\n",
        "import pylab as py\n",
        "%matplotlib inline"
      ],
      "metadata": {
        "id": "unmydIPdgYsq"
      },
      "execution_count": 68,
      "outputs": []
    },
    {
      "cell_type": "code",
      "source": [
        "df = pd.read_csv(\"Height_of_Male_and_Female_by_Country_2022.csv\").drop(['Rank', 'Country Name', 'Male Height in Ft',\t'Female Height in Ft'],axis='columns')\n",
        "df.head()"
      ],
      "metadata": {
        "colab": {
          "base_uri": "https://localhost:8080/",
          "height": 206
        },
        "id": "wIIHOcp7gg4t",
        "outputId": "fe78e2d6-f23f-494b-fcb9-7c00afc656c6"
      },
      "execution_count": 9,
      "outputs": [
        {
          "output_type": "execute_result",
          "data": {
            "text/plain": [
              "   Male Height in Cm  Female Height in Cm\n",
              "0             183.78               170.36\n",
              "1             183.30               169.96\n",
              "2             182.79               168.66\n",
              "3             182.47               167.47\n",
              "4             182.10               168.91"
            ],
            "text/html": [
              "\n",
              "  <div id=\"df-35082b02-d52b-4040-bcbb-0ddf073937c1\">\n",
              "    <div class=\"colab-df-container\">\n",
              "      <div>\n",
              "<style scoped>\n",
              "    .dataframe tbody tr th:only-of-type {\n",
              "        vertical-align: middle;\n",
              "    }\n",
              "\n",
              "    .dataframe tbody tr th {\n",
              "        vertical-align: top;\n",
              "    }\n",
              "\n",
              "    .dataframe thead th {\n",
              "        text-align: right;\n",
              "    }\n",
              "</style>\n",
              "<table border=\"1\" class=\"dataframe\">\n",
              "  <thead>\n",
              "    <tr style=\"text-align: right;\">\n",
              "      <th></th>\n",
              "      <th>Male Height in Cm</th>\n",
              "      <th>Female Height in Cm</th>\n",
              "    </tr>\n",
              "  </thead>\n",
              "  <tbody>\n",
              "    <tr>\n",
              "      <th>0</th>\n",
              "      <td>183.78</td>\n",
              "      <td>170.36</td>\n",
              "    </tr>\n",
              "    <tr>\n",
              "      <th>1</th>\n",
              "      <td>183.30</td>\n",
              "      <td>169.96</td>\n",
              "    </tr>\n",
              "    <tr>\n",
              "      <th>2</th>\n",
              "      <td>182.79</td>\n",
              "      <td>168.66</td>\n",
              "    </tr>\n",
              "    <tr>\n",
              "      <th>3</th>\n",
              "      <td>182.47</td>\n",
              "      <td>167.47</td>\n",
              "    </tr>\n",
              "    <tr>\n",
              "      <th>4</th>\n",
              "      <td>182.10</td>\n",
              "      <td>168.91</td>\n",
              "    </tr>\n",
              "  </tbody>\n",
              "</table>\n",
              "</div>\n",
              "      <button class=\"colab-df-convert\" onclick=\"convertToInteractive('df-35082b02-d52b-4040-bcbb-0ddf073937c1')\"\n",
              "              title=\"Convert this dataframe to an interactive table.\"\n",
              "              style=\"display:none;\">\n",
              "        \n",
              "  <svg xmlns=\"http://www.w3.org/2000/svg\" height=\"24px\"viewBox=\"0 0 24 24\"\n",
              "       width=\"24px\">\n",
              "    <path d=\"M0 0h24v24H0V0z\" fill=\"none\"/>\n",
              "    <path d=\"M18.56 5.44l.94 2.06.94-2.06 2.06-.94-2.06-.94-.94-2.06-.94 2.06-2.06.94zm-11 1L8.5 8.5l.94-2.06 2.06-.94-2.06-.94L8.5 2.5l-.94 2.06-2.06.94zm10 10l.94 2.06.94-2.06 2.06-.94-2.06-.94-.94-2.06-.94 2.06-2.06.94z\"/><path d=\"M17.41 7.96l-1.37-1.37c-.4-.4-.92-.59-1.43-.59-.52 0-1.04.2-1.43.59L10.3 9.45l-7.72 7.72c-.78.78-.78 2.05 0 2.83L4 21.41c.39.39.9.59 1.41.59.51 0 1.02-.2 1.41-.59l7.78-7.78 2.81-2.81c.8-.78.8-2.07 0-2.86zM5.41 20L4 18.59l7.72-7.72 1.47 1.35L5.41 20z\"/>\n",
              "  </svg>\n",
              "      </button>\n",
              "      \n",
              "  <style>\n",
              "    .colab-df-container {\n",
              "      display:flex;\n",
              "      flex-wrap:wrap;\n",
              "      gap: 12px;\n",
              "    }\n",
              "\n",
              "    .colab-df-convert {\n",
              "      background-color: #E8F0FE;\n",
              "      border: none;\n",
              "      border-radius: 50%;\n",
              "      cursor: pointer;\n",
              "      display: none;\n",
              "      fill: #1967D2;\n",
              "      height: 32px;\n",
              "      padding: 0 0 0 0;\n",
              "      width: 32px;\n",
              "    }\n",
              "\n",
              "    .colab-df-convert:hover {\n",
              "      background-color: #E2EBFA;\n",
              "      box-shadow: 0px 1px 2px rgba(60, 64, 67, 0.3), 0px 1px 3px 1px rgba(60, 64, 67, 0.15);\n",
              "      fill: #174EA6;\n",
              "    }\n",
              "\n",
              "    [theme=dark] .colab-df-convert {\n",
              "      background-color: #3B4455;\n",
              "      fill: #D2E3FC;\n",
              "    }\n",
              "\n",
              "    [theme=dark] .colab-df-convert:hover {\n",
              "      background-color: #434B5C;\n",
              "      box-shadow: 0px 1px 3px 1px rgba(0, 0, 0, 0.15);\n",
              "      filter: drop-shadow(0px 1px 2px rgba(0, 0, 0, 0.3));\n",
              "      fill: #FFFFFF;\n",
              "    }\n",
              "  </style>\n",
              "\n",
              "      <script>\n",
              "        const buttonEl =\n",
              "          document.querySelector('#df-35082b02-d52b-4040-bcbb-0ddf073937c1 button.colab-df-convert');\n",
              "        buttonEl.style.display =\n",
              "          google.colab.kernel.accessAllowed ? 'block' : 'none';\n",
              "\n",
              "        async function convertToInteractive(key) {\n",
              "          const element = document.querySelector('#df-35082b02-d52b-4040-bcbb-0ddf073937c1');\n",
              "          const dataTable =\n",
              "            await google.colab.kernel.invokeFunction('convertToInteractive',\n",
              "                                                     [key], {});\n",
              "          if (!dataTable) return;\n",
              "\n",
              "          const docLinkHtml = 'Like what you see? Visit the ' +\n",
              "            '<a target=\"_blank\" href=https://colab.research.google.com/notebooks/data_table.ipynb>data table notebook</a>'\n",
              "            + ' to learn more about interactive tables.';\n",
              "          element.innerHTML = '';\n",
              "          dataTable['output_type'] = 'display_data';\n",
              "          await google.colab.output.renderOutput(dataTable, element);\n",
              "          const docLink = document.createElement('div');\n",
              "          docLink.innerHTML = docLinkHtml;\n",
              "          element.appendChild(docLink);\n",
              "        }\n",
              "      </script>\n",
              "    </div>\n",
              "  </div>\n",
              "  "
            ]
          },
          "metadata": {},
          "execution_count": 9
        }
      ]
    },
    {
      "cell_type": "code",
      "source": [
        "df.describe()"
      ],
      "metadata": {
        "colab": {
          "base_uri": "https://localhost:8080/",
          "height": 300
        },
        "id": "JtYNj4y8ji8p",
        "outputId": "05e28f88-5097-4aeb-b803-a6bf85b2a186"
      },
      "execution_count": 10,
      "outputs": [
        {
          "output_type": "execute_result",
          "data": {
            "text/plain": [
              "       Male Height in Cm  Female Height in Cm\n",
              "count         199.000000           199.000000\n",
              "mean          173.089045           160.942915\n",
              "std             4.949832             4.076377\n",
              "min           160.130000           150.910000\n",
              "25%           169.490000           158.240000\n",
              "50%           173.530000           160.620000\n",
              "75%           176.510000           163.870000\n",
              "max           183.780000           170.360000"
            ],
            "text/html": [
              "\n",
              "  <div id=\"df-bcdd94db-c7de-46e1-8fb3-76f8bf857055\">\n",
              "    <div class=\"colab-df-container\">\n",
              "      <div>\n",
              "<style scoped>\n",
              "    .dataframe tbody tr th:only-of-type {\n",
              "        vertical-align: middle;\n",
              "    }\n",
              "\n",
              "    .dataframe tbody tr th {\n",
              "        vertical-align: top;\n",
              "    }\n",
              "\n",
              "    .dataframe thead th {\n",
              "        text-align: right;\n",
              "    }\n",
              "</style>\n",
              "<table border=\"1\" class=\"dataframe\">\n",
              "  <thead>\n",
              "    <tr style=\"text-align: right;\">\n",
              "      <th></th>\n",
              "      <th>Male Height in Cm</th>\n",
              "      <th>Female Height in Cm</th>\n",
              "    </tr>\n",
              "  </thead>\n",
              "  <tbody>\n",
              "    <tr>\n",
              "      <th>count</th>\n",
              "      <td>199.000000</td>\n",
              "      <td>199.000000</td>\n",
              "    </tr>\n",
              "    <tr>\n",
              "      <th>mean</th>\n",
              "      <td>173.089045</td>\n",
              "      <td>160.942915</td>\n",
              "    </tr>\n",
              "    <tr>\n",
              "      <th>std</th>\n",
              "      <td>4.949832</td>\n",
              "      <td>4.076377</td>\n",
              "    </tr>\n",
              "    <tr>\n",
              "      <th>min</th>\n",
              "      <td>160.130000</td>\n",
              "      <td>150.910000</td>\n",
              "    </tr>\n",
              "    <tr>\n",
              "      <th>25%</th>\n",
              "      <td>169.490000</td>\n",
              "      <td>158.240000</td>\n",
              "    </tr>\n",
              "    <tr>\n",
              "      <th>50%</th>\n",
              "      <td>173.530000</td>\n",
              "      <td>160.620000</td>\n",
              "    </tr>\n",
              "    <tr>\n",
              "      <th>75%</th>\n",
              "      <td>176.510000</td>\n",
              "      <td>163.870000</td>\n",
              "    </tr>\n",
              "    <tr>\n",
              "      <th>max</th>\n",
              "      <td>183.780000</td>\n",
              "      <td>170.360000</td>\n",
              "    </tr>\n",
              "  </tbody>\n",
              "</table>\n",
              "</div>\n",
              "      <button class=\"colab-df-convert\" onclick=\"convertToInteractive('df-bcdd94db-c7de-46e1-8fb3-76f8bf857055')\"\n",
              "              title=\"Convert this dataframe to an interactive table.\"\n",
              "              style=\"display:none;\">\n",
              "        \n",
              "  <svg xmlns=\"http://www.w3.org/2000/svg\" height=\"24px\"viewBox=\"0 0 24 24\"\n",
              "       width=\"24px\">\n",
              "    <path d=\"M0 0h24v24H0V0z\" fill=\"none\"/>\n",
              "    <path d=\"M18.56 5.44l.94 2.06.94-2.06 2.06-.94-2.06-.94-.94-2.06-.94 2.06-2.06.94zm-11 1L8.5 8.5l.94-2.06 2.06-.94-2.06-.94L8.5 2.5l-.94 2.06-2.06.94zm10 10l.94 2.06.94-2.06 2.06-.94-2.06-.94-.94-2.06-.94 2.06-2.06.94z\"/><path d=\"M17.41 7.96l-1.37-1.37c-.4-.4-.92-.59-1.43-.59-.52 0-1.04.2-1.43.59L10.3 9.45l-7.72 7.72c-.78.78-.78 2.05 0 2.83L4 21.41c.39.39.9.59 1.41.59.51 0 1.02-.2 1.41-.59l7.78-7.78 2.81-2.81c.8-.78.8-2.07 0-2.86zM5.41 20L4 18.59l7.72-7.72 1.47 1.35L5.41 20z\"/>\n",
              "  </svg>\n",
              "      </button>\n",
              "      \n",
              "  <style>\n",
              "    .colab-df-container {\n",
              "      display:flex;\n",
              "      flex-wrap:wrap;\n",
              "      gap: 12px;\n",
              "    }\n",
              "\n",
              "    .colab-df-convert {\n",
              "      background-color: #E8F0FE;\n",
              "      border: none;\n",
              "      border-radius: 50%;\n",
              "      cursor: pointer;\n",
              "      display: none;\n",
              "      fill: #1967D2;\n",
              "      height: 32px;\n",
              "      padding: 0 0 0 0;\n",
              "      width: 32px;\n",
              "    }\n",
              "\n",
              "    .colab-df-convert:hover {\n",
              "      background-color: #E2EBFA;\n",
              "      box-shadow: 0px 1px 2px rgba(60, 64, 67, 0.3), 0px 1px 3px 1px rgba(60, 64, 67, 0.15);\n",
              "      fill: #174EA6;\n",
              "    }\n",
              "\n",
              "    [theme=dark] .colab-df-convert {\n",
              "      background-color: #3B4455;\n",
              "      fill: #D2E3FC;\n",
              "    }\n",
              "\n",
              "    [theme=dark] .colab-df-convert:hover {\n",
              "      background-color: #434B5C;\n",
              "      box-shadow: 0px 1px 3px 1px rgba(0, 0, 0, 0.15);\n",
              "      filter: drop-shadow(0px 1px 2px rgba(0, 0, 0, 0.3));\n",
              "      fill: #FFFFFF;\n",
              "    }\n",
              "  </style>\n",
              "\n",
              "      <script>\n",
              "        const buttonEl =\n",
              "          document.querySelector('#df-bcdd94db-c7de-46e1-8fb3-76f8bf857055 button.colab-df-convert');\n",
              "        buttonEl.style.display =\n",
              "          google.colab.kernel.accessAllowed ? 'block' : 'none';\n",
              "\n",
              "        async function convertToInteractive(key) {\n",
              "          const element = document.querySelector('#df-bcdd94db-c7de-46e1-8fb3-76f8bf857055');\n",
              "          const dataTable =\n",
              "            await google.colab.kernel.invokeFunction('convertToInteractive',\n",
              "                                                     [key], {});\n",
              "          if (!dataTable) return;\n",
              "\n",
              "          const docLinkHtml = 'Like what you see? Visit the ' +\n",
              "            '<a target=\"_blank\" href=https://colab.research.google.com/notebooks/data_table.ipynb>data table notebook</a>'\n",
              "            + ' to learn more about interactive tables.';\n",
              "          element.innerHTML = '';\n",
              "          dataTable['output_type'] = 'display_data';\n",
              "          await google.colab.output.renderOutput(dataTable, element);\n",
              "          const docLink = document.createElement('div');\n",
              "          docLink.innerHTML = docLinkHtml;\n",
              "          element.appendChild(docLink);\n",
              "        }\n",
              "      </script>\n",
              "    </div>\n",
              "  </div>\n",
              "  "
            ]
          },
          "metadata": {},
          "execution_count": 10
        }
      ]
    },
    {
      "cell_type": "markdown",
      "source": [
        "### Descriptive Statistics"
      ],
      "metadata": {
        "id": "i2yN573rk8i-"
      }
    },
    {
      "cell_type": "code",
      "source": [
        "describe = pd.DataFrame({\"mode\": df.mode().iloc[0,:],\"median\": df.median(), \"variance\": df.var()})\n",
        "statistics = describe.T\n",
        "statistics.rename(columns = {0:'Male Height in Cm', 1:'Female Height in Cm', 2:'Male Height in Ft', 3:'Female Height in Ft'}, inplace = True)\n",
        "statistics.append(df.describe())"
      ],
      "metadata": {
        "colab": {
          "base_uri": "https://localhost:8080/",
          "height": 394
        },
        "id": "EMG9xQM7jl_p",
        "outputId": "05c2d3d1-e417-4987-a45f-99814e149dec"
      },
      "execution_count": 22,
      "outputs": [
        {
          "output_type": "execute_result",
          "data": {
            "text/plain": [
              "          Male Height in Cm  Female Height in Cm\n",
              "mode             170.670000           154.760000\n",
              "median           173.530000           160.620000\n",
              "variance          24.500839            16.616847\n",
              "count            199.000000           199.000000\n",
              "mean             173.089045           160.942915\n",
              "std                4.949832             4.076377\n",
              "min              160.130000           150.910000\n",
              "25%              169.490000           158.240000\n",
              "50%              173.530000           160.620000\n",
              "75%              176.510000           163.870000\n",
              "max              183.780000           170.360000"
            ],
            "text/html": [
              "\n",
              "  <div id=\"df-dbd80cd2-d6c6-4482-af69-6d8eb6378560\">\n",
              "    <div class=\"colab-df-container\">\n",
              "      <div>\n",
              "<style scoped>\n",
              "    .dataframe tbody tr th:only-of-type {\n",
              "        vertical-align: middle;\n",
              "    }\n",
              "\n",
              "    .dataframe tbody tr th {\n",
              "        vertical-align: top;\n",
              "    }\n",
              "\n",
              "    .dataframe thead th {\n",
              "        text-align: right;\n",
              "    }\n",
              "</style>\n",
              "<table border=\"1\" class=\"dataframe\">\n",
              "  <thead>\n",
              "    <tr style=\"text-align: right;\">\n",
              "      <th></th>\n",
              "      <th>Male Height in Cm</th>\n",
              "      <th>Female Height in Cm</th>\n",
              "    </tr>\n",
              "  </thead>\n",
              "  <tbody>\n",
              "    <tr>\n",
              "      <th>mode</th>\n",
              "      <td>170.670000</td>\n",
              "      <td>154.760000</td>\n",
              "    </tr>\n",
              "    <tr>\n",
              "      <th>median</th>\n",
              "      <td>173.530000</td>\n",
              "      <td>160.620000</td>\n",
              "    </tr>\n",
              "    <tr>\n",
              "      <th>variance</th>\n",
              "      <td>24.500839</td>\n",
              "      <td>16.616847</td>\n",
              "    </tr>\n",
              "    <tr>\n",
              "      <th>count</th>\n",
              "      <td>199.000000</td>\n",
              "      <td>199.000000</td>\n",
              "    </tr>\n",
              "    <tr>\n",
              "      <th>mean</th>\n",
              "      <td>173.089045</td>\n",
              "      <td>160.942915</td>\n",
              "    </tr>\n",
              "    <tr>\n",
              "      <th>std</th>\n",
              "      <td>4.949832</td>\n",
              "      <td>4.076377</td>\n",
              "    </tr>\n",
              "    <tr>\n",
              "      <th>min</th>\n",
              "      <td>160.130000</td>\n",
              "      <td>150.910000</td>\n",
              "    </tr>\n",
              "    <tr>\n",
              "      <th>25%</th>\n",
              "      <td>169.490000</td>\n",
              "      <td>158.240000</td>\n",
              "    </tr>\n",
              "    <tr>\n",
              "      <th>50%</th>\n",
              "      <td>173.530000</td>\n",
              "      <td>160.620000</td>\n",
              "    </tr>\n",
              "    <tr>\n",
              "      <th>75%</th>\n",
              "      <td>176.510000</td>\n",
              "      <td>163.870000</td>\n",
              "    </tr>\n",
              "    <tr>\n",
              "      <th>max</th>\n",
              "      <td>183.780000</td>\n",
              "      <td>170.360000</td>\n",
              "    </tr>\n",
              "  </tbody>\n",
              "</table>\n",
              "</div>\n",
              "      <button class=\"colab-df-convert\" onclick=\"convertToInteractive('df-dbd80cd2-d6c6-4482-af69-6d8eb6378560')\"\n",
              "              title=\"Convert this dataframe to an interactive table.\"\n",
              "              style=\"display:none;\">\n",
              "        \n",
              "  <svg xmlns=\"http://www.w3.org/2000/svg\" height=\"24px\"viewBox=\"0 0 24 24\"\n",
              "       width=\"24px\">\n",
              "    <path d=\"M0 0h24v24H0V0z\" fill=\"none\"/>\n",
              "    <path d=\"M18.56 5.44l.94 2.06.94-2.06 2.06-.94-2.06-.94-.94-2.06-.94 2.06-2.06.94zm-11 1L8.5 8.5l.94-2.06 2.06-.94-2.06-.94L8.5 2.5l-.94 2.06-2.06.94zm10 10l.94 2.06.94-2.06 2.06-.94-2.06-.94-.94-2.06-.94 2.06-2.06.94z\"/><path d=\"M17.41 7.96l-1.37-1.37c-.4-.4-.92-.59-1.43-.59-.52 0-1.04.2-1.43.59L10.3 9.45l-7.72 7.72c-.78.78-.78 2.05 0 2.83L4 21.41c.39.39.9.59 1.41.59.51 0 1.02-.2 1.41-.59l7.78-7.78 2.81-2.81c.8-.78.8-2.07 0-2.86zM5.41 20L4 18.59l7.72-7.72 1.47 1.35L5.41 20z\"/>\n",
              "  </svg>\n",
              "      </button>\n",
              "      \n",
              "  <style>\n",
              "    .colab-df-container {\n",
              "      display:flex;\n",
              "      flex-wrap:wrap;\n",
              "      gap: 12px;\n",
              "    }\n",
              "\n",
              "    .colab-df-convert {\n",
              "      background-color: #E8F0FE;\n",
              "      border: none;\n",
              "      border-radius: 50%;\n",
              "      cursor: pointer;\n",
              "      display: none;\n",
              "      fill: #1967D2;\n",
              "      height: 32px;\n",
              "      padding: 0 0 0 0;\n",
              "      width: 32px;\n",
              "    }\n",
              "\n",
              "    .colab-df-convert:hover {\n",
              "      background-color: #E2EBFA;\n",
              "      box-shadow: 0px 1px 2px rgba(60, 64, 67, 0.3), 0px 1px 3px 1px rgba(60, 64, 67, 0.15);\n",
              "      fill: #174EA6;\n",
              "    }\n",
              "\n",
              "    [theme=dark] .colab-df-convert {\n",
              "      background-color: #3B4455;\n",
              "      fill: #D2E3FC;\n",
              "    }\n",
              "\n",
              "    [theme=dark] .colab-df-convert:hover {\n",
              "      background-color: #434B5C;\n",
              "      box-shadow: 0px 1px 3px 1px rgba(0, 0, 0, 0.15);\n",
              "      filter: drop-shadow(0px 1px 2px rgba(0, 0, 0, 0.3));\n",
              "      fill: #FFFFFF;\n",
              "    }\n",
              "  </style>\n",
              "\n",
              "      <script>\n",
              "        const buttonEl =\n",
              "          document.querySelector('#df-dbd80cd2-d6c6-4482-af69-6d8eb6378560 button.colab-df-convert');\n",
              "        buttonEl.style.display =\n",
              "          google.colab.kernel.accessAllowed ? 'block' : 'none';\n",
              "\n",
              "        async function convertToInteractive(key) {\n",
              "          const element = document.querySelector('#df-dbd80cd2-d6c6-4482-af69-6d8eb6378560');\n",
              "          const dataTable =\n",
              "            await google.colab.kernel.invokeFunction('convertToInteractive',\n",
              "                                                     [key], {});\n",
              "          if (!dataTable) return;\n",
              "\n",
              "          const docLinkHtml = 'Like what you see? Visit the ' +\n",
              "            '<a target=\"_blank\" href=https://colab.research.google.com/notebooks/data_table.ipynb>data table notebook</a>'\n",
              "            + ' to learn more about interactive tables.';\n",
              "          element.innerHTML = '';\n",
              "          dataTable['output_type'] = 'display_data';\n",
              "          await google.colab.output.renderOutput(dataTable, element);\n",
              "          const docLink = document.createElement('div');\n",
              "          docLink.innerHTML = docLinkHtml;\n",
              "          element.appendChild(docLink);\n",
              "        }\n",
              "      </script>\n",
              "    </div>\n",
              "  </div>\n",
              "  "
            ]
          },
          "metadata": {},
          "execution_count": 22
        }
      ]
    },
    {
      "cell_type": "markdown",
      "source": [
        "#### Correlation Matrix"
      ],
      "metadata": {
        "id": "bEbC0QLIvzYV"
      }
    },
    {
      "cell_type": "code",
      "source": [
        "sns.heatmap(df.corr(), annot=True)"
      ],
      "metadata": {
        "colab": {
          "base_uri": "https://localhost:8080/",
          "height": 286
        },
        "id": "QOJWQHNpusg2",
        "outputId": "49118f4e-288d-4bd1-ecd0-900fba6729b6"
      },
      "execution_count": 23,
      "outputs": [
        {
          "output_type": "execute_result",
          "data": {
            "text/plain": [
              "<matplotlib.axes._subplots.AxesSubplot at 0x7f7f8392a150>"
            ]
          },
          "metadata": {},
          "execution_count": 23
        },
        {
          "output_type": "display_data",
          "data": {
            "text/plain": [
              "<Figure size 432x288 with 2 Axes>"
            ],
            "image/png": "[encoded data removed]"
          },
          "metadata": {
            "needs_background": "light"
          }
        }
      ]
    },
    {
      "cell_type": "markdown",
      "source": [
        "We note that there is a correlation between the female height and male height"
      ],
      "metadata": {
        "id": "jAEHB9T7vCPi"
      }
    },
    {
      "cell_type": "code",
      "source": [
        "df.boxplot(grid=False)"
      ],
      "metadata": {
        "colab": {
          "base_uri": "https://localhost:8080/",
          "height": 284
        },
        "id": "d0DiIatl9qF5",
        "outputId": "fd9bdc56-e222-4415-bfc7-ca7820fec4c8"
      },
      "execution_count": 60,
      "outputs": [
        {
          "output_type": "execute_result",
          "data": {
            "text/plain": [
              "<matplotlib.axes._subplots.AxesSubplot at 0x7f7f7f3d5e10>"
            ]
          },
          "metadata": {},
          "execution_count": 60
        },
        {
          "output_type": "display_data",
          "data": {
            "text/plain": [
              "<Figure size 432x288 with 1 Axes>"
            ],
            "image/png": "[encoded data removed]"
          },
          "metadata": {
            "needs_background": "light"
          }
        }
      ]
    },
    {
      "cell_type": "markdown",
      "source": [
        "We note that there's no outliers in the dataset"
      ],
      "metadata": {
        "id": "QNbn8ow4-jDQ"
      }
    },
    {
      "cell_type": "markdown",
      "source": [
        "#### Covariance Matrix"
      ],
      "metadata": {
        "id": "91LLOR3GwkTJ"
      }
    },
    {
      "cell_type": "code",
      "source": [
        "df.cov()"
      ],
      "metadata": {
        "colab": {
          "base_uri": "https://localhost:8080/",
          "height": 112
        },
        "id": "66UYl9cwwHoh",
        "outputId": "a9c4eb0d-461b-449e-8ac6-9890ca170fc9"
      },
      "execution_count": 34,
      "outputs": [
        {
          "output_type": "execute_result",
          "data": {
            "text/plain": [
              "                     Male Height in Cm  Female Height in Cm\n",
              "Male Height in Cm            24.500839            18.740491\n",
              "Female Height in Cm          18.740491            16.616847"
            ],
            "text/html": [
              "\n",
              "  <div id=\"df-a6595d70-25f8-4f77-bcef-416c23fa76ad\">\n",
              "    <div class=\"colab-df-container\">\n",
              "      <div>\n",
              "<style scoped>\n",
              "    .dataframe tbody tr th:only-of-type {\n",
              "        vertical-align: middle;\n",
              "    }\n",
              "\n",
              "    .dataframe tbody tr th {\n",
              "        vertical-align: top;\n",
              "    }\n",
              "\n",
              "    .dataframe thead th {\n",
              "        text-align: right;\n",
              "    }\n",
              "</style>\n",
              "<table border=\"1\" class=\"dataframe\">\n",
              "  <thead>\n",
              "    <tr style=\"text-align: right;\">\n",
              "      <th></th>\n",
              "      <th>Male Height in Cm</th>\n",
              "      <th>Female Height in Cm</th>\n",
              "    </tr>\n",
              "  </thead>\n",
              "  <tbody>\n",
              "    <tr>\n",
              "      <th>Male Height in Cm</th>\n",
              "      <td>24.500839</td>\n",
              "      <td>18.740491</td>\n",
              "    </tr>\n",
              "    <tr>\n",
              "      <th>Female Height in Cm</th>\n",
              "      <td>18.740491</td>\n",
              "      <td>16.616847</td>\n",
              "    </tr>\n",
              "  </tbody>\n",
              "</table>\n",
              "</div>\n",
              "      <button class=\"colab-df-convert\" onclick=\"convertToInteractive('df-a6595d70-25f8-4f77-bcef-416c23fa76ad')\"\n",
              "              title=\"Convert this dataframe to an interactive table.\"\n",
              "              style=\"display:none;\">\n",
              "        \n",
              "  <svg xmlns=\"http://www.w3.org/2000/svg\" height=\"24px\"viewBox=\"0 0 24 24\"\n",
              "       width=\"24px\">\n",
              "    <path d=\"M0 0h24v24H0V0z\" fill=\"none\"/>\n",
              "    <path d=\"M18.56 5.44l.94 2.06.94-2.06 2.06-.94-2.06-.94-.94-2.06-.94 2.06-2.06.94zm-11 1L8.5 8.5l.94-2.06 2.06-.94-2.06-.94L8.5 2.5l-.94 2.06-2.06.94zm10 10l.94 2.06.94-2.06 2.06-.94-2.06-.94-.94-2.06-.94 2.06-2.06.94z\"/><path d=\"M17.41 7.96l-1.37-1.37c-.4-.4-.92-.59-1.43-.59-.52 0-1.04.2-1.43.59L10.3 9.45l-7.72 7.72c-.78.78-.78 2.05 0 2.83L4 21.41c.39.39.9.59 1.41.59.51 0 1.02-.2 1.41-.59l7.78-7.78 2.81-2.81c.8-.78.8-2.07 0-2.86zM5.41 20L4 18.59l7.72-7.72 1.47 1.35L5.41 20z\"/>\n",
              "  </svg>\n",
              "      </button>\n",
              "      \n",
              "  <style>\n",
              "    .colab-df-container {\n",
              "      display:flex;\n",
              "      flex-wrap:wrap;\n",
              "      gap: 12px;\n",
              "    }\n",
              "\n",
              "    .colab-df-convert {\n",
              "      background-color: #E8F0FE;\n",
              "      border: none;\n",
              "      border-radius: 50%;\n",
              "      cursor: pointer;\n",
              "      display: none;\n",
              "      fill: #1967D2;\n",
              "      height: 32px;\n",
              "      padding: 0 0 0 0;\n",
              "      width: 32px;\n",
              "    }\n",
              "\n",
              "    .colab-df-convert:hover {\n",
              "      background-color: #E2EBFA;\n",
              "      box-shadow: 0px 1px 2px rgba(60, 64, 67, 0.3), 0px 1px 3px 1px rgba(60, 64, 67, 0.15);\n",
              "      fill: #174EA6;\n",
              "    }\n",
              "\n",
              "    [theme=dark] .colab-df-convert {\n",
              "      background-color: #3B4455;\n",
              "      fill: #D2E3FC;\n",
              "    }\n",
              "\n",
              "    [theme=dark] .colab-df-convert:hover {\n",
              "      background-color: #434B5C;\n",
              "      box-shadow: 0px 1px 3px 1px rgba(0, 0, 0, 0.15);\n",
              "      filter: drop-shadow(0px 1px 2px rgba(0, 0, 0, 0.3));\n",
              "      fill: #FFFFFF;\n",
              "    }\n",
              "  </style>\n",
              "\n",
              "      <script>\n",
              "        const buttonEl =\n",
              "          document.querySelector('#df-a6595d70-25f8-4f77-bcef-416c23fa76ad button.colab-df-convert');\n",
              "        buttonEl.style.display =\n",
              "          google.colab.kernel.accessAllowed ? 'block' : 'none';\n",
              "\n",
              "        async function convertToInteractive(key) {\n",
              "          const element = document.querySelector('#df-a6595d70-25f8-4f77-bcef-416c23fa76ad');\n",
              "          const dataTable =\n",
              "            await google.colab.kernel.invokeFunction('convertToInteractive',\n",
              "                                                     [key], {});\n",
              "          if (!dataTable) return;\n",
              "\n",
              "          const docLinkHtml = 'Like what you see? Visit the ' +\n",
              "            '<a target=\"_blank\" href=https://colab.research.google.com/notebooks/data_table.ipynb>data table notebook</a>'\n",
              "            + ' to learn more about interactive tables.';\n",
              "          element.innerHTML = '';\n",
              "          dataTable['output_type'] = 'display_data';\n",
              "          await google.colab.output.renderOutput(dataTable, element);\n",
              "          const docLink = document.createElement('div');\n",
              "          docLink.innerHTML = docLinkHtml;\n",
              "          element.appendChild(docLink);\n",
              "        }\n",
              "      </script>\n",
              "    </div>\n",
              "  </div>\n",
              "  "
            ]
          },
          "metadata": {},
          "execution_count": 34
        }
      ]
    },
    {
      "cell_type": "markdown",
      "source": [
        "### Histogram plot"
      ],
      "metadata": {
        "id": "XgbM31rewFd7"
      }
    },
    {
      "cell_type": "code",
      "source": [
        "import warnings\n",
        "warnings.filterwarnings(\"ignore\")\n",
        "\n",
        "fig, axes = plt.subplots(1, 2, figsize=(15,7))\n",
        "fig.suptitle('Histogram plot of all the columns')\n",
        "axes[0].set_title('Histplot - Male(cm)')\n",
        "axes[1].set_title('Histplot - female(cm)')\n",
        "\n",
        "sns.distplot(df[\"Male Height in Cm\"], ax=axes[0])\n",
        "sns.distplot(df[\"Female Height in Cm\"], ax=axes[1])\n",
        "plt.show()"
      ],
      "metadata": {
        "colab": {
          "base_uri": "https://localhost:8080/",
          "height": 493
        },
        "id": "cPj_7Uv3hmZs",
        "outputId": "1906b7fd-be34-4722-c136-7a00524f6eff"
      },
      "execution_count": 25,
      "outputs": [
        {
          "output_type": "display_data",
          "data": {
            "text/plain": [
              "<Figure size 1080x504 with 2 Axes>"
            ],
            "image/png": "[encoded data removed]"
          },
          "metadata": {
            "needs_background": "light"
          }
        }
      ]
    },
    {
      "cell_type": "markdown",
      "source": [
        "Skewness"
      ],
      "metadata": {
        "id": "zwWmY1oPlwyD"
      }
    },
    {
      "cell_type": "code",
      "source": [
        "df.skew(axis = 0, skipna = True)"
      ],
      "metadata": {
        "colab": {
          "base_uri": "https://localhost:8080/"
        },
        "id": "Se4u3YYSlp9Y",
        "outputId": "910815b2-baa5-4180-ab62-03a4817f82d7"
      },
      "execution_count": 26,
      "outputs": [
        {
          "output_type": "execute_result",
          "data": {
            "text/plain": [
              "Male Height in Cm     -0.046390\n",
              "Female Height in Cm    0.044913\n",
              "dtype: float64"
            ]
          },
          "metadata": {},
          "execution_count": 26
        }
      ]
    },
    {
      "cell_type": "markdown",
      "source": [
        "Kurtosis"
      ],
      "metadata": {
        "id": "UKHIA8RSlywg"
      }
    },
    {
      "cell_type": "code",
      "source": [
        "df.kurt(axis = 0, skipna = True)"
      ],
      "metadata": {
        "colab": {
          "base_uri": "https://localhost:8080/"
        },
        "id": "qKrOiwf_lvQg",
        "outputId": "d1040edb-d8a0-4ccf-eb30-2a9e1ada8dc2"
      },
      "execution_count": 27,
      "outputs": [
        {
          "output_type": "execute_result",
          "data": {
            "text/plain": [
              "Male Height in Cm     -0.694627\n",
              "Female Height in Cm   -0.547154\n",
              "dtype: float64"
            ]
          },
          "metadata": {},
          "execution_count": 27
        }
      ]
    },
    {
      "cell_type": "markdown",
      "source": [
        "As observed in the plots above, female height is having a lesser magnitude of skewness, and is more normal than male height"
      ],
      "metadata": {
        "id": "CW5dzj6OwNRu"
      }
    },
    {
      "cell_type": "code",
      "source": [
        "df.plot.kde()"
      ],
      "metadata": {
        "colab": {
          "base_uri": "https://localhost:8080/",
          "height": 282
        },
        "id": "GEJH9IjgrVa6",
        "outputId": "0a3b06bd-ea97-408b-c211-2bf95ae1e1d9"
      },
      "execution_count": 28,
      "outputs": [
        {
          "output_type": "execute_result",
          "data": {
            "text/plain": [
              "<matplotlib.axes._subplots.AxesSubplot at 0x7f7f80d54fd0>"
            ]
          },
          "metadata": {},
          "execution_count": 28
        },
        {
          "output_type": "display_data",
          "data": {
            "text/plain": [
              "<Figure size 432x288 with 1 Axes>"
            ],
            "image/png": "[encoded data removed]"
          },
          "metadata": {
            "needs_background": "light"
          }
        }
      ]
    },
    {
      "cell_type": "markdown",
      "source": [
        "### Normality Testing"
      ],
      "metadata": {
        "id": "Mkw1nGkTzNSJ"
      }
    },
    {
      "cell_type": "code",
      "source": [
        "probplot(df['Female Height in Cm'].to_numpy(), dist=\"norm\", plot=pylab)\n",
        "pylab.show()"
      ],
      "metadata": {
        "colab": {
          "base_uri": "https://localhost:8080/",
          "height": 295
        },
        "id": "IPwcpZRUzMSV",
        "outputId": "1d921820-8d60-4615-c2c3-c4963a4a3ace"
      },
      "execution_count": 39,
      "outputs": [
        {
          "output_type": "display_data",
          "data": {
            "text/plain": [
              "<Figure size 432x288 with 1 Axes>"
            ],
            "image/png": "[encoded data removed]"
          },
          "metadata": {
            "needs_background": "light"
          }
        }
      ]
    },
    {
      "cell_type": "code",
      "source": [
        "probplot(df['Male Height in Cm'].to_numpy(), dist=\"norm\", plot=pylab)\n",
        "pylab.show()"
      ],
      "metadata": {
        "colab": {
          "base_uri": "https://localhost:8080/",
          "height": 295
        },
        "id": "IrWDA0Y0z2mU",
        "outputId": "988797b8-3438-409d-d2c2-4d142388b147"
      },
      "execution_count": 40,
      "outputs": [
        {
          "output_type": "display_data",
          "data": {
            "text/plain": [
              "<Figure size 432x288 with 1 Axes>"
            ],
            "image/png": "[encoded data removed]"
          },
          "metadata": {
            "needs_background": "light"
          }
        }
      ]
    },
    {
      "cell_type": "markdown",
      "source": [
        "Therefore, by the two Normality tests, both our columns are more or less having a normal distribution"
      ],
      "metadata": {
        "id": "pb49X-vt0BlC"
      }
    },
    {
      "cell_type": "markdown",
      "source": [
        "### Chi squared test for independence of variables\n",
        "assumption : level of significance = 0.05"
      ],
      "metadata": {
        "id": "tA8WkCdx12Ip"
      }
    },
    {
      "cell_type": "code",
      "source": [
        "alpha = 0.05"
      ],
      "metadata": {
        "id": "54yRTBpi2NIx"
      },
      "execution_count": 43,
      "outputs": []
    },
    {
      "cell_type": "code",
      "source": [
        "stat, p, dof, expected = chi2_contingency(df)\n",
        "# Hypothesis: Variables are independent\n",
        "\n",
        "# interpret p-value\n",
        "print(\"p value is \" + str(p))\n",
        "if p <= alpha:\n",
        "    print('Dependent (reject H0)')\n",
        "else:\n",
        "    print('Independent (H0 holds true)')"
      ],
      "metadata": {
        "colab": {
          "base_uri": "https://localhost:8080/"
        },
        "id": "M0risvCr1IbL",
        "outputId": "2ca9e5fa-05dd-41c7-fda6-103c6e658243"
      },
      "execution_count": 44,
      "outputs": [
        {
          "output_type": "stream",
          "name": "stdout",
          "text": [
            "p value is 1.0\n",
            "Independent (H0 holds true)\n"
          ]
        }
      ]
    },
    {
      "cell_type": "markdown",
      "source": [
        "Hence the two columns are independent"
      ],
      "metadata": {
        "id": "JcgLDCfs4n1-"
      }
    },
    {
      "cell_type": "markdown",
      "source": [
        "### Pearson Correlation test"
      ],
      "metadata": {
        "id": "H_7jL7_t6kDS"
      }
    },
    {
      "cell_type": "code",
      "source": [
        "corr, _ = pearsonr(df['Female Height in Cm'], df['Male Height in Cm'])\n",
        "print(f'Pearsons correlation: {corr}' )"
      ],
      "metadata": {
        "colab": {
          "base_uri": "https://localhost:8080/"
        },
        "id": "qa23DZ-_6ity",
        "outputId": "be22db5c-a22f-4908-a0a1-8396c94475d4"
      },
      "execution_count": 49,
      "outputs": [
        {
          "output_type": "stream",
          "name": "stdout",
          "text": [
            "Pearsons correlation: 0.9287870871295011\n"
          ]
        }
      ]
    },
    {
      "cell_type": "markdown",
      "source": [
        "This shows that the male and female height variables are higly correlated (92.87%)"
      ],
      "metadata": {
        "id": "TME1UV-O651n"
      }
    },
    {
      "cell_type": "markdown",
      "source": [
        "### Spearman Correlation test"
      ],
      "metadata": {
        "id": "bPCGxy-r7qky"
      }
    },
    {
      "cell_type": "code",
      "source": [
        "rho, p = spearmanr(df['Female Height in Cm'], df['Male Height in Cm'])\n",
        "print(f'Spearman correlation: {rho}, with p value: {p}')"
      ],
      "metadata": {
        "colab": {
          "base_uri": "https://localhost:8080/"
        },
        "id": "wvOxfqKK7tVa",
        "outputId": "0533ed74-52cc-4bcf-c783-7b4874a6e31d"
      },
      "execution_count": 51,
      "outputs": [
        {
          "output_type": "stream",
          "name": "stdout",
          "text": [
            "Spearman correlation: 0.9316471801098678, with p value: 1.4858353024204657e-88\n"
          ]
        }
      ]
    },
    {
      "cell_type": "markdown",
      "source": [
        "This also shows that the 2 variables are highly correlated (93%) with a very small p-value of the order of 10^(-88) "
      ],
      "metadata": {
        "id": "nHaa9SIo8AJm"
      }
    },
    {
      "cell_type": "markdown",
      "source": [
        "## Hypothesis Testing\n",
        "\n",
        "### Test: Females are as tall as the Males\n",
        "Null Hypothesis\n",
        "\n",
        "* H0: μ1=μ2 (Females are as tall as Males)\n",
        "* H1: μ1≠μ2 (Females are not as tall as Males)"
      ],
      "metadata": {
        "id": "me9RVI4cxLUG"
      }
    },
    {
      "cell_type": "markdown",
      "source": [
        "### 2 samples T-Test\n",
        "Following are the assumptions on which the T-test can be applied:\n",
        "1. Independence of the observations: Each subject should belong to only one group. There is no relationship between the observations in each group.\n",
        "2. No significant outliers in the two groups\n",
        "3. Normality: the data for each group should be approximately normally distributed.\n",
        "4. Homogeneity of variances: the variance of the outcome variable should be equal in each group."
      ],
      "metadata": {
        "id": "EC0tgjw780Vp"
      }
    },
    {
      "cell_type": "code",
      "source": [
        "statistic, p_value = ttest_ind(df['Female Height in Cm'], df['Male Height in Cm'], equal_var=False)\n",
        "\n",
        "if p_value <= alpha:\n",
        "  print(f\"H1: Females are not as tall as Males, p: {p_value}\")\n",
        "else:\n",
        "  print(f\"H0: Females are as tall as Males, p: {p_value}\")"
      ],
      "metadata": {
        "colab": {
          "base_uri": "https://localhost:8080/"
        },
        "id": "Wd1X8I832yQZ",
        "outputId": "4f36d59d-a659-4d15-bd7b-e6683f410fcd"
      },
      "execution_count": 48,
      "outputs": [
        {
          "output_type": "stream",
          "name": "stdout",
          "text": [
            "H1: Females are not as tall as Males, p: 1.8916856132584915e-89\n"
          ]
        }
      ]
    },
    {
      "cell_type": "markdown",
      "source": [
        "Since the p value is very very small, we say reject the Null Hypothesis, and accept H1"
      ],
      "metadata": {
        "id": "wnEW9aUD5h5r"
      }
    },
    {
      "cell_type": "markdown",
      "source": [
        "### ANOVA test\n",
        "\n",
        "Thre are certain assumptions we need to make before performing ANOVA:\n",
        "\n",
        "1. The observations are obtained independently and randomly from the population defined by the factor levels\n",
        "2. The data for each factor level is normally distributed\n",
        "3. Independence of cases: the sample cases should be independent of each other\n",
        "4. Homogeneity of variance: Homogeneity means that the variance among the groups should be approximately equal\n"
      ],
      "metadata": {
        "id": "31XON0fa2BQb"
      }
    },
    {
      "cell_type": "markdown",
      "source": [
        "Null Hypothesis\n",
        "\n",
        "H0: μ1=μ2 (Females are as tall as Males)\n",
        "\n",
        "H1: μ1≠μ2 (Females are not as tall as Males)"
      ],
      "metadata": {
        "id": "MpQ0tE5T-ydz"
      }
    },
    {
      "cell_type": "code",
      "source": [
        "statistic, p_value = f_oneway(df['Female Height in Cm'], df['Male Height in Cm'])\n",
        "\n",
        "if p_value <= alpha:\n",
        "  print(f\"H1: Females are not as tall as Males, p: {p_value}\")\n",
        "else:\n",
        "  print(f\"H0: Females are as tall as Males, p: {p_value}\")"
      ],
      "metadata": {
        "colab": {
          "base_uri": "https://localhost:8080/"
        },
        "id": "C7d8UXKN-xs2",
        "outputId": "e49a3949-374d-43bc-8a4a-db103ebbe4d0"
      },
      "execution_count": 70,
      "outputs": [
        {
          "output_type": "stream",
          "name": "stdout",
          "text": [
            "H1: Females are not as tall as Males, p: 1.1680388181100532e-90\n"
          ]
        }
      ]
    },
    {
      "cell_type": "markdown",
      "source": [
        "### Conclusion:\n",
        "1. Explored the heights dataset, with male and female heights. Assumed that females are as tall as the males, and got a very small p value using multiple methods reinforcing the fact that females are shorter on average than males.\n",
        "2. Checked the data for normality and found both the male and female height distributions to be more or less normal. Further, applied the chi square test on independence of variables and found both of the columns to be independent.\n",
        "3. In spite of being independent, found that both the columns are much highly correlated, as found by spearman and pearson coefficients almost reaching 1. \n",
        "4. After establishing the normality, and showing that it has no outliers, etc. checking all the pre-requisites for applying hypothesis testing; applied two different techniques to further prove beyond doubt that the null hypothesis is wrong, using both ANOVA and T-test, and got an extremely small p-value."
      ],
      "metadata": {
        "id": "qKwvNYlYBGa_"
      }
    }
  ]
}