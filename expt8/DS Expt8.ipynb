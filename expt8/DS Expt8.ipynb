{
 "cells": [
  {
   "cell_type": "code",
   "execution_count": 2,
   "metadata": {
    "executionInfo": {
     "elapsed": 2520,
     "status": "ok",
     "timestamp": 1649787705388,
     "user": {
      "displayName": "Arka -h",
      "userId": "01873960014260766132"
     },
     "user_tz": -330
    },
    "id": "EH5-d_8vca7B"
   },
   "outputs": [],
   "source": [
    "import pandas as pd \n",
    "import numpy as np \n",
    "import matplotlib as mpl\n",
    "import matplotlib.pyplot as plt\n",
    "from sklearn.svm import SVC\n",
    "from sklearn.model_selection import GridSearchCV, train_test_split\n",
    "from sklearn.metrics import confusion_matrix, roc_curve, roc_auc_score\n",
    "%matplotlib inline"
   ]
  },
  {
   "cell_type": "code",
   "execution_count": null,
   "metadata": {
    "id": "OgR-hwIdd-8O"
   },
   "outputs": [],
   "source": [
    "# We'll define a function to draw a nice plot of an SVM\n",
    "\n",
    "def plot_svc(svc, X, y, h=0.02, pad=0.25):\n",
    "    x_min, x_max = X[:, 0].min()-pad, X[:, 0].max()+pad\n",
    "    y_min, y_max = X[:, 1].min()-pad, X[:, 1].max()+pad\n",
    "    xx, yy = np.meshgrid(np.arange(x_min, x_max, h), np.arange(y_min, y_max))\n",
    "    Z=svc.predict(np.c_[xx.ravel(), yy.ravel()])\n",
    "    Z=Z.reshape(xx.shape)\n",
    "    plt.contourf(xx, yy, Z, cmap=plt.cm.Paired, alpha=0.2)\n",
    "    plt.scatter(X[:, 0], X[:, 1], s=70, c=y, cmap=mpl.cm.Paired)\n",
    "    # Support vectors indicated in plot by vertical lines\n",
    "    sv=svc.support_vectors_\n",
    "    plt.scatter(sv[:, 0], sv[:, 1], c='k', marker='x', s=100, linewidths='1') \n",
    "    plt.xlim(x_min, x_max)\n",
    "    plt.ylim(y_min, y_max) \n",
    "    plt.xlabel('X1')\n",
    "    plt.ylabel('X2')\n",
    "    plt.show()\n",
    "    print('Number of support vectors: ', svc.support_.size)"
   ]
  },
  {
   "cell_type": "code",
   "execution_count": null,
   "metadata": {
    "id": "-iNFfgfHeBzC"
   },
   "outputs": [],
   "source": [
    "np.random.seed(5)\n",
    "X = np.random.randn(20,2) \n",
    "y = np.repeat([1,-1], 10)\n",
    "X[y == -1] = X[y == -1] +1"
   ]
  },
  {
   "cell_type": "markdown",
   "metadata": {
    "id": "ZKdNqWCafsaO"
   },
   "source": [
    "Testing wether the data is linear or non-linear"
   ]
  },
  {
   "cell_type": "code",
   "execution_count": null,
   "metadata": {
    "colab": {
     "base_uri": "https://localhost:8080/",
     "height": 296
    },
    "executionInfo": {
     "elapsed": 14,
     "status": "ok",
     "timestamp": 1649229631187,
     "user": {
      "displayName": "Arka -h",
      "userId": "01873960014260766132"
     },
     "user_tz": -330
    },
    "id": "83WO2ZM1eQRz",
    "outputId": "46b7d1df-8cf6-4d6e-9e9b-76cf2e400837"
   },
   "outputs": [
    {
     "data": {
      "text/plain": [
       "Text(0, 0.5, 'X2')"
      ]
     },
     "execution_count": 4,
     "metadata": {},
     "output_type": "execute_result"
    },
    {
     "data": {
      "image/png": "[encoded data removed]",
      "text/plain": [
       "<Figure size 432x288 with 1 Axes>"
      ]
     },
     "metadata": {
      "needs_background": "light"
     },
     "output_type": "display_data"
    }
   ],
   "source": [
    "plt.scatter(X[:,0], X[:,1], s=70, c=y, cmap=mpl.cm.Paired) \n",
    "plt.xlabel('X1')\n",
    "plt.ylabel('X2')"
   ]
  },
  {
   "cell_type": "markdown",
   "metadata": {
    "id": "6NxTeKVpfz9S"
   },
   "source": [
    "Clearly the data is not linearly seperable"
   ]
  },
  {
   "cell_type": "code",
   "execution_count": null,
   "metadata": {
    "colab": {
     "base_uri": "https://localhost:8080/"
    },
    "executionInfo": {
     "elapsed": 11,
     "status": "ok",
     "timestamp": 1649229631187,
     "user": {
      "displayName": "Arka -h",
      "userId": "01873960014260766132"
     },
     "user_tz": -330
    },
    "id": "9D6hgBjwfYli",
    "outputId": "7aedf3e8-77cd-4f8b-ed56-2a3a3584dd39"
   },
   "outputs": [
    {
     "data": {
      "text/plain": [
       "SVC(C=1, kernel='linear', probability=True)"
      ]
     },
     "execution_count": 5,
     "metadata": {},
     "output_type": "execute_result"
    }
   ],
   "source": [
    "svc = SVC(C=1, kernel='linear', probability=True) \n",
    "svc.fit(X, y)"
   ]
  },
  {
   "cell_type": "code",
   "execution_count": null,
   "metadata": {
    "colab": {
     "base_uri": "https://localhost:8080/",
     "height": 296
    },
    "executionInfo": {
     "elapsed": 10,
     "status": "ok",
     "timestamp": 1649229631188,
     "user": {
      "displayName": "Arka -h",
      "userId": "01873960014260766132"
     },
     "user_tz": -330
    },
    "id": "xK6yrVzLgQkF",
    "outputId": "02d8978f-670d-4be2-aa20-d0606d299642"
   },
   "outputs": [
    {
     "data": {
      "image/png": "[encoded data removed]",
      "text/plain": [
       "<Figure size 432x288 with 1 Axes>"
      ]
     },
     "metadata": {
      "needs_background": "light"
     },
     "output_type": "display_data"
    },
    {
     "name": "stdout",
     "output_type": "stream",
     "text": [
      "Number of support vectors:  13\n"
     ]
    }
   ],
   "source": [
    "plot_svc(svc, X, y)"
   ]
  },
  {
   "cell_type": "code",
   "execution_count": null,
   "metadata": {
    "colab": {
     "base_uri": "https://localhost:8080/"
    },
    "executionInfo": {
     "elapsed": 10,
     "status": "ok",
     "timestamp": 1649229631189,
     "user": {
      "displayName": "Arka -h",
      "userId": "01873960014260766132"
     },
     "user_tz": -330
    },
    "id": "9iZsSp5jhHJX",
    "outputId": "3968181e-1f7d-41b8-8540-7a0116bed168"
   },
   "outputs": [
    {
     "data": {
      "text/plain": [
       "array([10, 11, 13, 14, 15, 16, 17,  0,  1,  2,  4,  6,  8], dtype=int32)"
      ]
     },
     "execution_count": 7,
     "metadata": {},
     "output_type": "execute_result"
    }
   ],
   "source": [
    "svc.support_"
   ]
  },
  {
   "cell_type": "markdown",
   "metadata": {
    "id": "RhGRDNtzhhWj"
   },
   "source": [
    "Using a smaller cost"
   ]
  },
  {
   "cell_type": "code",
   "execution_count": null,
   "metadata": {
    "colab": {
     "base_uri": "https://localhost:8080/",
     "height": 296
    },
    "executionInfo": {
     "elapsed": 978,
     "status": "ok",
     "timestamp": 1649229632159,
     "user": {
      "displayName": "Arka -h",
      "userId": "01873960014260766132"
     },
     "user_tz": -330
    },
    "id": "QJzGEK5Lhgm2",
    "outputId": "28be70c1-aa81-4ee7-db55-8390146afb15"
   },
   "outputs": [
    {
     "data": {
      "image/png": "[encoded data removed]",
      "text/plain": [
       "<Figure size 432x288 with 1 Axes>"
      ]
     },
     "metadata": {
      "needs_background": "light"
     },
     "output_type": "display_data"
    },
    {
     "name": "stdout",
     "output_type": "stream",
     "text": [
      "Number of support vectors:  16\n"
     ]
    }
   ],
   "source": [
    "svc2 = SVC(C=0.1, kernel='linear', probability=True) \n",
    "svc2.fit(X, y)\n",
    "plot_svc(svc2, X, y)"
   ]
  },
  {
   "cell_type": "markdown",
   "metadata": {
    "id": "yVVzET9wht5p"
   },
   "source": [
    "Cost reduction leads to wider margin and more number of support vectors"
   ]
  },
  {
   "cell_type": "code",
   "execution_count": null,
   "metadata": {
    "id": "z3h9vhddhmKf"
   },
   "outputs": [],
   "source": [
    "tuned_parameters = [{'C': [0.001, 0.01, 0.1, 1, 5, 10, 100]}]\n",
    "clf = GridSearchCV(SVC(kernel='linear'), tuned_parameters, cv=10)\n",
    "scoring = clf.fit(X, y)"
   ]
  },
  {
   "cell_type": "code",
   "execution_count": null,
   "metadata": {
    "colab": {
     "base_uri": "https://localhost:8080/"
    },
    "executionInfo": {
     "elapsed": 22,
     "status": "ok",
     "timestamp": 1649229632161,
     "user": {
      "displayName": "Arka -h",
      "userId": "01873960014260766132"
     },
     "user_tz": -330
    },
    "id": "lCnlCaB7jLZR",
    "outputId": "027e28d5-575e-42be-ae4c-7645cc43b451"
   },
   "outputs": [
    {
     "data": {
      "text/plain": [
       "{'mean_fit_time': array([0.00116172, 0.00070658, 0.00071342, 0.00079772, 0.00061936,\n",
       "        0.00066161, 0.00079846]),\n",
       " 'mean_score_time': array([0.00129724, 0.00035436, 0.00038383, 0.0004148 , 0.00034714,\n",
       "        0.00035508, 0.00036435]),\n",
       " 'mean_test_score': array([0.8 , 0.8 , 0.8 , 0.75, 0.75, 0.75, 0.75]),\n",
       " 'param_C': masked_array(data=[0.001, 0.01, 0.1, 1, 5, 10, 100],\n",
       "              mask=[False, False, False, False, False, False, False],\n",
       "        fill_value='?',\n",
       "             dtype=object),\n",
       " 'params': [{'C': 0.001},\n",
       "  {'C': 0.01},\n",
       "  {'C': 0.1},\n",
       "  {'C': 1},\n",
       "  {'C': 5},\n",
       "  {'C': 10},\n",
       "  {'C': 100}],\n",
       " 'rank_test_score': array([1, 1, 1, 4, 4, 4, 4], dtype=int32),\n",
       " 'split0_test_score': array([0.5, 0.5, 0.5, 0.5, 0.5, 0.5, 0.5]),\n",
       " 'split1_test_score': array([0.5, 0.5, 0.5, 0. , 0. , 0. , 0. ]),\n",
       " 'split2_test_score': array([0.5, 0.5, 0.5, 0.5, 0.5, 0.5, 0.5]),\n",
       " 'split3_test_score': array([1., 1., 1., 1., 1., 1., 1.]),\n",
       " 'split4_test_score': array([1., 1., 1., 1., 1., 1., 1.]),\n",
       " 'split5_test_score': array([1., 1., 1., 1., 1., 1., 1.]),\n",
       " 'split6_test_score': array([1., 1., 1., 1., 1., 1., 1.]),\n",
       " 'split7_test_score': array([1., 1., 1., 1., 1., 1., 1.]),\n",
       " 'split8_test_score': array([0.5, 0.5, 0.5, 0.5, 0.5, 0.5, 0.5]),\n",
       " 'split9_test_score': array([1., 1., 1., 1., 1., 1., 1.]),\n",
       " 'std_fit_time': array([8.85126175e-04, 2.15143837e-04, 1.82832234e-04, 2.06881791e-04,\n",
       "        2.89587411e-05, 1.10911288e-04, 6.10528488e-05]),\n",
       " 'std_score_time': array([2.65397361e-03, 3.47412850e-05, 9.04305327e-05, 1.06156407e-04,\n",
       "        2.97603311e-05, 4.91936803e-05, 2.60738378e-05]),\n",
       " 'std_test_score': array([0.24494897, 0.24494897, 0.24494897, 0.3354102 , 0.3354102 ,\n",
       "        0.3354102 , 0.3354102 ])}"
      ]
     },
     "execution_count": 10,
     "metadata": {},
     "output_type": "execute_result"
    }
   ],
   "source": [
    "clf.cv_results_"
   ]
  },
  {
   "cell_type": "code",
   "execution_count": null,
   "metadata": {
    "colab": {
     "base_uri": "https://localhost:8080/"
    },
    "executionInfo": {
     "elapsed": 20,
     "status": "ok",
     "timestamp": 1649229632162,
     "user": {
      "displayName": "Arka -h",
      "userId": "01873960014260766132"
     },
     "user_tz": -330
    },
    "id": "2cEyjMU8jMA3",
    "outputId": "d511020c-6c2e-4640-e293-7e5b4a45288d"
   },
   "outputs": [
    {
     "data": {
      "text/plain": [
       "{'C': 0.001}"
      ]
     },
     "execution_count": 11,
     "metadata": {},
     "output_type": "execute_result"
    }
   ],
   "source": [
    "clf.best_params_"
   ]
  },
  {
   "cell_type": "code",
   "execution_count": null,
   "metadata": {
    "colab": {
     "base_uri": "https://localhost:8080/"
    },
    "executionInfo": {
     "elapsed": 18,
     "status": "ok",
     "timestamp": 1649229632162,
     "user": {
      "displayName": "Arka -h",
      "userId": "01873960014260766132"
     },
     "user_tz": -330
    },
    "id": "zz75iQoxtHoC",
    "outputId": "ae589804-246a-48b4-811a-64ba47c7417f"
   },
   "outputs": [
    {
     "data": {
      "text/plain": [
       "SVC(C=0.001, kernel='linear')"
      ]
     },
     "execution_count": 12,
     "metadata": {},
     "output_type": "execute_result"
    }
   ],
   "source": [
    "clf.best_estimator_"
   ]
  },
  {
   "cell_type": "markdown",
   "metadata": {
    "id": "cGQ7s5xLkKMF"
   },
   "source": [
    "Best parameter value is 0.001"
   ]
  },
  {
   "cell_type": "markdown",
   "metadata": {
    "id": "NPrzzVzQkVA9"
   },
   "source": [
    "Using a randomly generated test dataset to test model predictions"
   ]
  },
  {
   "cell_type": "code",
   "execution_count": null,
   "metadata": {
    "id": "WLbnpZmrj1SW"
   },
   "outputs": [],
   "source": [
    "np.random.seed(1)\n",
    "X_test = np.random.randn(20, 2)\n",
    "y_test = np.random.choice([-1,1], 20)\n",
    "X_test[y_test == 1] = X_test[y_test == 1] -1"
   ]
  },
  {
   "cell_type": "code",
   "execution_count": null,
   "metadata": {
    "id": "3V8wxSMdkpab"
   },
   "outputs": [],
   "source": [
    "svc2 = SVC(C=0.001, kernel='linear', probability=True)\n",
    "svc2.fit(X, y)\n",
    "y_pred = svc2.predict(X_test)"
   ]
  },
  {
   "cell_type": "code",
   "execution_count": null,
   "metadata": {
    "colab": {
     "base_uri": "https://localhost:8080/",
     "height": 112
    },
    "executionInfo": {
     "elapsed": 18,
     "status": "ok",
     "timestamp": 1649229632164,
     "user": {
      "displayName": "Arka -h",
      "userId": "01873960014260766132"
     },
     "user_tz": -330
    },
    "id": "hirNsLd4kyoT",
    "outputId": "69e6da01-b266-452c-be43-7f5f1ce1cec5"
   },
   "outputs": [
    {
     "data": {
      "text/html": [
       "\n",
       "  <div id=\"df-84e19371-d08e-4747-a07d-0a24dbcd5385\">\n",
       "    <div class=\"colab-df-container\">\n",
       "      <div>\n",
       "<style scoped>\n",
       "    .dataframe tbody tr th:only-of-type {\n",
       "        vertical-align: middle;\n",
       "    }\n",
       "\n",
       "    .dataframe tbody tr th {\n",
       "        vertical-align: top;\n",
       "    }\n",
       "\n",
       "    .dataframe thead th {\n",
       "        text-align: right;\n",
       "    }\n",
       "</style>\n",
       "<table border=\"1\" class=\"dataframe\">\n",
       "  <thead>\n",
       "    <tr style=\"text-align: right;\">\n",
       "      <th></th>\n",
       "      <th>-1</th>\n",
       "      <th>1</th>\n",
       "    </tr>\n",
       "  </thead>\n",
       "  <tbody>\n",
       "    <tr>\n",
       "      <th>-1</th>\n",
       "      <td>2</td>\n",
       "      <td>6</td>\n",
       "    </tr>\n",
       "    <tr>\n",
       "      <th>1</th>\n",
       "      <td>0</td>\n",
       "      <td>12</td>\n",
       "    </tr>\n",
       "  </tbody>\n",
       "</table>\n",
       "</div>\n",
       "      <button class=\"colab-df-convert\" onclick=\"convertToInteractive('df-84e19371-d08e-4747-a07d-0a24dbcd5385')\"\n",
       "              title=\"Convert this dataframe to an interactive table.\"\n",
       "              style=\"display:none;\">\n",
       "        \n",
       "  <svg xmlns=\"http://www.w3.org/2000/svg\" height=\"24px\"viewBox=\"0 0 24 24\"\n",
       "       width=\"24px\">\n",
       "    <path d=\"M0 0h24v24H0V0z\" fill=\"none\"/>\n",
       "    <path d=\"M18.56 5.44l.94 2.06.94-2.06 2.06-.94-2.06-.94-.94-2.06-.94 2.06-2.06.94zm-11 1L8.5 8.5l.94-2.06 2.06-.94-2.06-.94L8.5 2.5l-.94 2.06-2.06.94zm10 10l.94 2.06.94-2.06 2.06-.94-2.06-.94-.94-2.06-.94 2.06-2.06.94z\"/><path d=\"M17.41 7.96l-1.37-1.37c-.4-.4-.92-.59-1.43-.59-.52 0-1.04.2-1.43.59L10.3 9.45l-7.72 7.72c-.78.78-.78 2.05 0 2.83L4 21.41c.39.39.9.59 1.41.59.51 0 1.02-.2 1.41-.59l7.78-7.78 2.81-2.81c.8-.78.8-2.07 0-2.86zM5.41 20L4 18.59l7.72-7.72 1.47 1.35L5.41 20z\"/>\n",
       "  </svg>\n",
       "      </button>\n",
       "      \n",
       "  <style>\n",
       "    .colab-df-container {\n",
       "      display:flex;\n",
       "      flex-wrap:wrap;\n",
       "      gap: 12px;\n",
       "    }\n",
       "\n",
       "    .colab-df-convert {\n",
       "      background-color: #E8F0FE;\n",
       "      border: none;\n",
       "      border-radius: 50%;\n",
       "      cursor: pointer;\n",
       "      display: none;\n",
       "      fill: #1967D2;\n",
       "      height: 32px;\n",
       "      padding: 0 0 0 0;\n",
       "      width: 32px;\n",
       "    }\n",
       "\n",
       "    .colab-df-convert:hover {\n",
       "      background-color: #E2EBFA;\n",
       "      box-shadow: 0px 1px 2px rgba(60, 64, 67, 0.3), 0px 1px 3px 1px rgba(60, 64, 67, 0.15);\n",
       "      fill: #174EA6;\n",
       "    }\n",
       "\n",
       "    [theme=dark] .colab-df-convert {\n",
       "      background-color: #3B4455;\n",
       "      fill: #D2E3FC;\n",
       "    }\n",
       "\n",
       "    [theme=dark] .colab-df-convert:hover {\n",
       "      background-color: #434B5C;\n",
       "      box-shadow: 0px 1px 3px 1px rgba(0, 0, 0, 0.15);\n",
       "      filter: drop-shadow(0px 1px 2px rgba(0, 0, 0, 0.3));\n",
       "      fill: #FFFFFF;\n",
       "    }\n",
       "  </style>\n",
       "\n",
       "      <script>\n",
       "        const buttonEl =\n",
       "          document.querySelector('#df-84e19371-d08e-4747-a07d-0a24dbcd5385 button.colab-df-convert');\n",
       "        buttonEl.style.display =\n",
       "          google.colab.kernel.accessAllowed ? 'block' : 'none';\n",
       "\n",
       "        async function convertToInteractive(key) {\n",
       "          const element = document.querySelector('#df-84e19371-d08e-4747-a07d-0a24dbcd5385');\n",
       "          const dataTable =\n",
       "            await google.colab.kernel.invokeFunction('convertToInteractive',\n",
       "                                                     [key], {});\n",
       "          if (!dataTable) return;\n",
       "\n",
       "          const docLinkHtml = 'Like what you see? Visit the ' +\n",
       "            '<a target=\"_blank\" href=https://colab.research.google.com/notebooks/data_table.ipynb>data table notebook</a>'\n",
       "            + ' to learn more about interactive tables.';\n",
       "          element.innerHTML = '';\n",
       "          dataTable['output_type'] = 'display_data';\n",
       "          await google.colab.output.renderOutput(dataTable, element);\n",
       "          const docLink = document.createElement('div');\n",
       "          docLink.innerHTML = docLinkHtml;\n",
       "          element.appendChild(docLink);\n",
       "        }\n",
       "      </script>\n",
       "    </div>\n",
       "  </div>\n",
       "  "
      ],
      "text/plain": [
       "    -1   1\n",
       "-1   2   6\n",
       " 1   0  12"
      ]
     },
     "execution_count": 15,
     "metadata": {},
     "output_type": "execute_result"
    }
   ],
   "source": [
    "without_kernel = confusion_matrix(y_test, y_pred)\n",
    "pd.DataFrame(without_kernel, index=svc2.classes_, columns=svc2.classes_)"
   ]
  },
  {
   "cell_type": "markdown",
   "metadata": {
    "id": "0yyKjWqemeOW"
   },
   "source": [
    "With this value of c, 14 of the test observations are correctly classified"
   ]
  },
  {
   "cell_type": "markdown",
   "metadata": {
    "id": "NivldxjwmmIv"
   },
   "source": [
    "## Generating Linearly Seperable data"
   ]
  },
  {
   "cell_type": "code",
   "execution_count": null,
   "metadata": {
    "id": "Hao_IW23p37y"
   },
   "outputs": [],
   "source": [
    "X_test[y_test == 1] = X_test[y_test == 1] -1"
   ]
  },
  {
   "cell_type": "code",
   "execution_count": null,
   "metadata": {
    "colab": {
     "base_uri": "https://localhost:8080/",
     "height": 296
    },
    "executionInfo": {
     "elapsed": 18,
     "status": "ok",
     "timestamp": 1649229632166,
     "user": {
      "displayName": "Arka -h",
      "userId": "01873960014260766132"
     },
     "user_tz": -330
    },
    "id": "HnlCrLG-mY16",
    "outputId": "edfc2348-e7ca-4cc9-9412-cec8fe469a56"
   },
   "outputs": [
    {
     "data": {
      "text/plain": [
       "Text(0, 0.5, 'X2')"
      ]
     },
     "execution_count": 17,
     "metadata": {},
     "output_type": "execute_result"
    },
    {
     "data": {
      "image/png": "[encoded data removed]",
      "text/plain": [
       "<Figure size 432x288 with 1 Axes>"
      ]
     },
     "metadata": {
      "needs_background": "light"
     },
     "output_type": "display_data"
    }
   ],
   "source": [
    "plt.scatter(X_test[:,0], X_test[:,1], s=70, c=y_test, cmap=mpl.cm.Paired) \n",
    "plt.xlabel('X1')\n",
    "plt.ylabel('X2')"
   ]
  },
  {
   "cell_type": "markdown",
   "metadata": {
    "id": "9Lx0lb8Rm30L"
   },
   "source": [
    "We fit the support vector classifier and plot the resulting hyperplane, using a very large value of cost so that no observations are misclassified"
   ]
  },
  {
   "cell_type": "code",
   "execution_count": null,
   "metadata": {
    "colab": {
     "base_uri": "https://localhost:8080/",
     "height": 296
    },
    "executionInfo": {
     "elapsed": 1230,
     "status": "ok",
     "timestamp": 1649229633380,
     "user": {
      "displayName": "Arka -h",
      "userId": "01873960014260766132"
     },
     "user_tz": -330
    },
    "id": "3a4XG9URmzB4",
    "outputId": "9990c625-f3cc-4407-e2d2-1bf45d66167e"
   },
   "outputs": [
    {
     "data": {
      "image/png": "[encoded data removed]",
      "text/plain": [
       "<Figure size 432x288 with 1 Axes>"
      ]
     },
     "metadata": {
      "needs_background": "light"
     },
     "output_type": "display_data"
    },
    {
     "name": "stdout",
     "output_type": "stream",
     "text": [
      "Number of support vectors:  3\n"
     ]
    }
   ],
   "source": [
    "svc3 = SVC(C=1e5, kernel='linear', probability=True) \n",
    "svc3.fit(X_test, y_test) \n",
    "plot_svc(svc3, X_test, y_test)"
   ]
  },
  {
   "cell_type": "markdown",
   "metadata": {
    "id": "rGnh0HTpnFMd"
   },
   "source": [
    "We observe that the margin is very narrow and the number of SV required are 3"
   ]
  },
  {
   "cell_type": "markdown",
   "metadata": {
    "id": "4XQcrEVvnQ8q"
   },
   "source": [
    "It seems likely that this model will perform poorly on test data.\n",
    "\n",
    "Trying a smaller value of cost:"
   ]
  },
  {
   "cell_type": "code",
   "execution_count": null,
   "metadata": {
    "colab": {
     "base_uri": "https://localhost:8080/",
     "height": 296
    },
    "executionInfo": {
     "elapsed": 13,
     "status": "ok",
     "timestamp": 1649229633381,
     "user": {
      "displayName": "Arka -h",
      "userId": "01873960014260766132"
     },
     "user_tz": -330
    },
    "id": "wWzM4prvnQcM",
    "outputId": "5512bfbd-7791-470d-a78e-ed764184db6f"
   },
   "outputs": [
    {
     "data": {
      "image/png": "[encoded data removed]",
      "text/plain": [
       "<Figure size 432x288 with 1 Axes>"
      ]
     },
     "metadata": {
      "needs_background": "light"
     },
     "output_type": "display_data"
    },
    {
     "name": "stdout",
     "output_type": "stream",
     "text": [
      "Number of support vectors:  5\n"
     ]
    }
   ],
   "source": [
    "svc4 = SVC(C=1, kernel='linear', probability=True) \n",
    "svc4.fit(X_test, y_test) \n",
    "plot_svc(svc4, X_test, y_test)"
   ]
  },
  {
   "cell_type": "markdown",
   "metadata": {
    "id": "y6pSO8YbnkCb"
   },
   "source": [
    "We obtain a much wider margin and make use of 5 SVs\n",
    "\n",
    "There's a much better possibility of getting better test accuracy"
   ]
  },
  {
   "cell_type": "markdown",
   "metadata": {
    "id": "C_d0HAfNqUYa"
   },
   "source": [
    "## Using Kernels in SVM"
   ]
  },
  {
   "cell_type": "code",
   "execution_count": null,
   "metadata": {
    "colab": {
     "base_uri": "https://localhost:8080/",
     "height": 296
    },
    "executionInfo": {
     "elapsed": 12,
     "status": "ok",
     "timestamp": 1649229633382,
     "user": {
      "displayName": "Arka -h",
      "userId": "01873960014260766132"
     },
     "user_tz": -330
    },
    "id": "TX37I-c1ncKr",
    "outputId": "34bad358-a1d0-4411-b09f-17498de0d7e5"
   },
   "outputs": [
    {
     "data": {
      "text/plain": [
       "Text(0, 0.5, 'X2')"
      ]
     },
     "execution_count": 20,
     "metadata": {},
     "output_type": "execute_result"
    },
    {
     "data": {
      "image/png": "[encoded data removed]",
      "text/plain": [
       "<Figure size 432x288 with 1 Axes>"
      ]
     },
     "metadata": {
      "needs_background": "light"
     },
     "output_type": "display_data"
    }
   ],
   "source": [
    "np.random.seed(8)\n",
    "X = np.random.randn(200,2)\n",
    "X[:100] = X[:100] +2\n",
    "X[101:150] = X[101:150] -2\n",
    "y = np.concatenate([np.repeat(-1, 150), np.repeat(1,50)])\n",
    "X_train, X_test, y_train, y_test = train_test_split(X, y, train_size=0.5,random_state=1)\n",
    "plt.scatter(X[:,0], X[:,1], s=70, c=y, cmap=mpl.cm.Paired) \n",
    "plt.xlabel('X1')\n",
    "plt.ylabel('X2')"
   ]
  },
  {
   "cell_type": "markdown",
   "metadata": {
    "id": "fCBUjacyqzbO"
   },
   "source": [
    "Looking at the data distribution, we try using Radial kernel with γ=1"
   ]
  },
  {
   "cell_type": "code",
   "execution_count": null,
   "metadata": {
    "colab": {
     "base_uri": "https://localhost:8080/",
     "height": 296
    },
    "executionInfo": {
     "elapsed": 9,
     "status": "ok",
     "timestamp": 1649229633382,
     "user": {
      "displayName": "Arka -h",
      "userId": "01873960014260766132"
     },
     "user_tz": -330
    },
    "id": "w3tjnkzzqpot",
    "outputId": "aa91b0af-b64f-4c83-8d91-fd0366a1b3a0"
   },
   "outputs": [
    {
     "data": {
      "image/png": "[encoded data removed]",
      "text/plain": [
       "<Figure size 432x288 with 1 Axes>"
      ]
     },
     "metadata": {
      "needs_background": "light"
     },
     "output_type": "display_data"
    },
    {
     "name": "stdout",
     "output_type": "stream",
     "text": [
      "Number of support vectors:  57\n"
     ]
    }
   ],
   "source": [
    "svm = SVC(C=1.0, kernel='rbf', gamma=1, probability=True) \n",
    "svm.fit(X_train, y_train)\n",
    "plot_svc(svm, X_test, y_test)"
   ]
  },
  {
   "cell_type": "markdown",
   "metadata": {
    "id": "XW-EYwporOOZ"
   },
   "source": [
    "If we increase the value of cost, we can reduce the number of training errors"
   ]
  },
  {
   "cell_type": "code",
   "execution_count": null,
   "metadata": {
    "colab": {
     "base_uri": "https://localhost:8080/",
     "height": 296
    },
    "executionInfo": {
     "elapsed": 1294,
     "status": "ok",
     "timestamp": 1649229634668,
     "user": {
      "displayName": "Arka -h",
      "userId": "01873960014260766132"
     },
     "user_tz": -330
    },
    "id": "SfwGwg5xrF1y",
    "outputId": "9145d3af-bcce-4b4b-a185-28ae3b5fc1c0"
   },
   "outputs": [
    {
     "data": {
      "image/png": "[encoded data removed]",
      "text/plain": [
       "<Figure size 432x288 with 1 Axes>"
      ]
     },
     "metadata": {
      "needs_background": "light"
     },
     "output_type": "display_data"
    },
    {
     "name": "stdout",
     "output_type": "stream",
     "text": [
      "Number of support vectors:  30\n"
     ]
    }
   ],
   "source": [
    "svm2 = SVC(C=100, kernel='rbf', gamma=1.0, probability=True) \n",
    "svm2.fit(X_train, y_train)\n",
    "plot_svc(svm2, X_test, y_test)"
   ]
  },
  {
   "cell_type": "markdown",
   "metadata": {
    "id": "57Qoz8EcrauO"
   },
   "source": [
    "We see that there's now an irregular decision boundary that seems to be at risk of overfitting the data"
   ]
  },
  {
   "cell_type": "markdown",
   "metadata": {
    "id": "fhsJWdFiriMa"
   },
   "source": [
    "We  perform cross-validation using GridSearchCV() to select the best choice of γ and cost for an SVM with a radial kerne"
   ]
  },
  {
   "cell_type": "code",
   "execution_count": null,
   "metadata": {
    "colab": {
     "base_uri": "https://localhost:8080/"
    },
    "executionInfo": {
     "elapsed": 1033,
     "status": "ok",
     "timestamp": 1649229671870,
     "user": {
      "displayName": "Arka -h",
      "userId": "01873960014260766132"
     },
     "user_tz": -330
    },
    "id": "HLndp5hLrSvD",
    "outputId": "c0325f2e-f5dc-466d-98d3-02898d6457e1"
   },
   "outputs": [
    {
     "data": {
      "text/plain": [
       "{'C': 10, 'gamma': 4}"
      ]
     },
     "execution_count": 27,
     "metadata": {},
     "output_type": "execute_result"
    }
   ],
   "source": [
    "tuned_parameters = [{'C': [0.01, 0.1, 1, 10, 100],\n",
    "'gamma': [0.5, 1,2,3,4]}]\n",
    "\n",
    "clf = GridSearchCV(SVC(kernel='rbf', probability=True), tuned_parameters, cv=10)\n",
    "clf.fit(X_train, y_train)\n",
    "\n",
    "clf.best_params_"
   ]
  },
  {
   "cell_type": "code",
   "execution_count": null,
   "metadata": {
    "colab": {
     "base_uri": "https://localhost:8080/",
     "height": 314
    },
    "executionInfo": {
     "elapsed": 1181,
     "status": "ok",
     "timestamp": 1649229673568,
     "user": {
      "displayName": "Arka -h",
      "userId": "01873960014260766132"
     },
     "user_tz": -330
    },
    "id": "6RFeF9iQr-K0",
    "outputId": "10a2e995-dce2-4691-a65c-838a82a1846e"
   },
   "outputs": [
    {
     "data": {
      "image/png": "[encoded data removed]",
      "text/plain": [
       "<Figure size 432x288 with 1 Axes>"
      ]
     },
     "metadata": {
      "needs_background": "light"
     },
     "output_type": "display_data"
    },
    {
     "name": "stdout",
     "output_type": "stream",
     "text": [
      "Number of support vectors:  77\n",
      "Score: 0.82\n"
     ]
    }
   ],
   "source": [
    "plot_svc(clf.best_estimator_, X_test, y_test) \n",
    "print(f\"Score: {clf.best_estimator_.score(X_test, y_test)}\")"
   ]
  },
  {
   "cell_type": "code",
   "execution_count": null,
   "metadata": {
    "colab": {
     "base_uri": "https://localhost:8080/",
     "height": 130
    },
    "executionInfo": {
     "elapsed": 4,
     "status": "ok",
     "timestamp": 1649229675274,
     "user": {
      "displayName": "Arka -h",
      "userId": "01873960014260766132"
     },
     "user_tz": -330
    },
    "id": "2CYO8kK1sr1E",
    "outputId": "a3b43ebf-12b2-4f4f-e134-6ff75d8370a7"
   },
   "outputs": [
    {
     "name": "stdout",
     "output_type": "stream",
     "text": [
      "Confusion Matrix\n"
     ]
    },
    {
     "data": {
      "text/html": [
       "\n",
       "  <div id=\"df-087a57e7-0033-4efb-8be7-925bc0257170\">\n",
       "    <div class=\"colab-df-container\">\n",
       "      <div>\n",
       "<style scoped>\n",
       "    .dataframe tbody tr th:only-of-type {\n",
       "        vertical-align: middle;\n",
       "    }\n",
       "\n",
       "    .dataframe tbody tr th {\n",
       "        vertical-align: top;\n",
       "    }\n",
       "\n",
       "    .dataframe thead th {\n",
       "        text-align: right;\n",
       "    }\n",
       "</style>\n",
       "<table border=\"1\" class=\"dataframe\">\n",
       "  <thead>\n",
       "    <tr style=\"text-align: right;\">\n",
       "      <th></th>\n",
       "      <th>-1</th>\n",
       "      <th>1</th>\n",
       "    </tr>\n",
       "  </thead>\n",
       "  <tbody>\n",
       "    <tr>\n",
       "      <th>-1</th>\n",
       "      <td>67</td>\n",
       "      <td>3</td>\n",
       "    </tr>\n",
       "    <tr>\n",
       "      <th>1</th>\n",
       "      <td>15</td>\n",
       "      <td>15</td>\n",
       "    </tr>\n",
       "  </tbody>\n",
       "</table>\n",
       "</div>\n",
       "      <button class=\"colab-df-convert\" onclick=\"convertToInteractive('df-087a57e7-0033-4efb-8be7-925bc0257170')\"\n",
       "              title=\"Convert this dataframe to an interactive table.\"\n",
       "              style=\"display:none;\">\n",
       "        \n",
       "  <svg xmlns=\"http://www.w3.org/2000/svg\" height=\"24px\"viewBox=\"0 0 24 24\"\n",
       "       width=\"24px\">\n",
       "    <path d=\"M0 0h24v24H0V0z\" fill=\"none\"/>\n",
       "    <path d=\"M18.56 5.44l.94 2.06.94-2.06 2.06-.94-2.06-.94-.94-2.06-.94 2.06-2.06.94zm-11 1L8.5 8.5l.94-2.06 2.06-.94-2.06-.94L8.5 2.5l-.94 2.06-2.06.94zm10 10l.94 2.06.94-2.06 2.06-.94-2.06-.94-.94-2.06-.94 2.06-2.06.94z\"/><path d=\"M17.41 7.96l-1.37-1.37c-.4-.4-.92-.59-1.43-.59-.52 0-1.04.2-1.43.59L10.3 9.45l-7.72 7.72c-.78.78-.78 2.05 0 2.83L4 21.41c.39.39.9.59 1.41.59.51 0 1.02-.2 1.41-.59l7.78-7.78 2.81-2.81c.8-.78.8-2.07 0-2.86zM5.41 20L4 18.59l7.72-7.72 1.47 1.35L5.41 20z\"/>\n",
       "  </svg>\n",
       "      </button>\n",
       "      \n",
       "  <style>\n",
       "    .colab-df-container {\n",
       "      display:flex;\n",
       "      flex-wrap:wrap;\n",
       "      gap: 12px;\n",
       "    }\n",
       "\n",
       "    .colab-df-convert {\n",
       "      background-color: #E8F0FE;\n",
       "      border: none;\n",
       "      border-radius: 50%;\n",
       "      cursor: pointer;\n",
       "      display: none;\n",
       "      fill: #1967D2;\n",
       "      height: 32px;\n",
       "      padding: 0 0 0 0;\n",
       "      width: 32px;\n",
       "    }\n",
       "\n",
       "    .colab-df-convert:hover {\n",
       "      background-color: #E2EBFA;\n",
       "      box-shadow: 0px 1px 2px rgba(60, 64, 67, 0.3), 0px 1px 3px 1px rgba(60, 64, 67, 0.15);\n",
       "      fill: #174EA6;\n",
       "    }\n",
       "\n",
       "    [theme=dark] .colab-df-convert {\n",
       "      background-color: #3B4455;\n",
       "      fill: #D2E3FC;\n",
       "    }\n",
       "\n",
       "    [theme=dark] .colab-df-convert:hover {\n",
       "      background-color: #434B5C;\n",
       "      box-shadow: 0px 1px 3px 1px rgba(0, 0, 0, 0.15);\n",
       "      filter: drop-shadow(0px 1px 2px rgba(0, 0, 0, 0.3));\n",
       "      fill: #FFFFFF;\n",
       "    }\n",
       "  </style>\n",
       "\n",
       "      <script>\n",
       "        const buttonEl =\n",
       "          document.querySelector('#df-087a57e7-0033-4efb-8be7-925bc0257170 button.colab-df-convert');\n",
       "        buttonEl.style.display =\n",
       "          google.colab.kernel.accessAllowed ? 'block' : 'none';\n",
       "\n",
       "        async function convertToInteractive(key) {\n",
       "          const element = document.querySelector('#df-087a57e7-0033-4efb-8be7-925bc0257170');\n",
       "          const dataTable =\n",
       "            await google.colab.kernel.invokeFunction('convertToInteractive',\n",
       "                                                     [key], {});\n",
       "          if (!dataTable) return;\n",
       "\n",
       "          const docLinkHtml = 'Like what you see? Visit the ' +\n",
       "            '<a target=\"_blank\" href=https://colab.research.google.com/notebooks/data_table.ipynb>data table notebook</a>'\n",
       "            + ' to learn more about interactive tables.';\n",
       "          element.innerHTML = '';\n",
       "          dataTable['output_type'] = 'display_data';\n",
       "          await google.colab.output.renderOutput(dataTable, element);\n",
       "          const docLink = document.createElement('div');\n",
       "          docLink.innerHTML = docLinkHtml;\n",
       "          element.appendChild(docLink);\n",
       "        }\n",
       "      </script>\n",
       "    </div>\n",
       "  </div>\n",
       "  "
      ],
      "text/plain": [
       "    -1   1\n",
       "-1  67   3\n",
       " 1  15  15"
      ]
     },
     "execution_count": 29,
     "metadata": {},
     "output_type": "execute_result"
    }
   ],
   "source": [
    "print(\"Confusion Matrix\")\n",
    "with_kernel = confusion_matrix(y_test, clf.best_estimator_.predict(X_test))\n",
    "pd.DataFrame(with_kernel, index=svc2.classes_, columns=svc2.classes_)"
   ]
  },
  {
   "cell_type": "code",
   "execution_count": null,
   "metadata": {
    "colab": {
     "base_uri": "https://localhost:8080/",
     "height": 279
    },
    "executionInfo": {
     "elapsed": 472,
     "status": "ok",
     "timestamp": 1649229886516,
     "user": {
      "displayName": "Arka -h",
      "userId": "01873960014260766132"
     },
     "user_tz": -330
    },
    "id": "y9Qu025Ctks9",
    "outputId": "6531220b-ce32-478b-fbac-ada121772435"
   },
   "outputs": [
    {
     "data": {
      "image/png": "[encoded data removed]",
      "text/plain": [
       "<Figure size 432x288 with 1 Axes>"
      ]
     },
     "metadata": {
      "needs_background": "light"
     },
     "output_type": "display_data"
    }
   ],
   "source": [
    "y_pred_proba = clf.predict_proba(X_test)[:,1]\n",
    "fpr, tpr, _ = roc_curve(y_test,  y_pred_proba)\n",
    "auc = roc_auc_score(y_test, y_pred_proba)\n",
    "\n",
    "# plot ROC curve\n",
    "plt.plot(fpr,tpr,label=\"AUC=\"+str(auc))\n",
    "plt.ylabel('True Positive Rate')\n",
    "plt.xlabel('False Positive Rate')\n",
    "plt.legend(loc=4)\n",
    "plt.show()"
   ]
  },
  {
   "cell_type": "code",
   "execution_count": 3,
   "metadata": {
    "colab": {
     "base_uri": "https://localhost:8080/",
     "height": 302
    },
    "executionInfo": {
     "elapsed": 387,
     "status": "ok",
     "timestamp": 1649787708608,
     "user": {
      "displayName": "Arka -h",
      "userId": "01873960014260766132"
     },
     "user_tz": -330
    },
    "id": "Qu2sZ0oPw0dH",
    "outputId": "9d02ce50-4b2f-4943-cff3-35b8b2c6ed60"
   },
   "outputs": [
    {
     "data": {
      "text/html": [
       "\n",
       "  <div id=\"df-dc1368a3-e4fa-4511-97b6-30739acc655a\">\n",
       "    <div class=\"colab-df-container\">\n",
       "      <div>\n",
       "<style scoped>\n",
       "    .dataframe tbody tr th:only-of-type {\n",
       "        vertical-align: middle;\n",
       "    }\n",
       "\n",
       "    .dataframe tbody tr th {\n",
       "        vertical-align: top;\n",
       "    }\n",
       "\n",
       "    .dataframe thead th {\n",
       "        text-align: right;\n",
       "    }\n",
       "</style>\n",
       "<table border=\"1\" class=\"dataframe\">\n",
       "  <thead>\n",
       "    <tr style=\"text-align: right;\">\n",
       "      <th></th>\n",
       "      <th>Mean of the integrated profile</th>\n",
       "      <th>Standard deviation of the integrated profile</th>\n",
       "      <th>Excess kurtosis of the integrated profile</th>\n",
       "      <th>Skewness of the integrated profile</th>\n",
       "      <th>Mean of the DM-SNR curve</th>\n",
       "      <th>Standard deviation of the DM-SNR curve</th>\n",
       "      <th>Excess kurtosis of the DM-SNR curve</th>\n",
       "      <th>Skewness of the DM-SNR curve</th>\n",
       "      <th>target_class</th>\n",
       "    </tr>\n",
       "  </thead>\n",
       "  <tbody>\n",
       "    <tr>\n",
       "      <th>0</th>\n",
       "      <td>121.156250</td>\n",
       "      <td>48.372971</td>\n",
       "      <td>0.375485</td>\n",
       "      <td>-0.013165</td>\n",
       "      <td>3.168896</td>\n",
       "      <td>18.399367</td>\n",
       "      <td>7.449874</td>\n",
       "      <td>65.159298</td>\n",
       "      <td>0.0</td>\n",
       "    </tr>\n",
       "    <tr>\n",
       "      <th>1</th>\n",
       "      <td>76.968750</td>\n",
       "      <td>36.175557</td>\n",
       "      <td>0.712898</td>\n",
       "      <td>3.388719</td>\n",
       "      <td>2.399666</td>\n",
       "      <td>17.570997</td>\n",
       "      <td>9.414652</td>\n",
       "      <td>102.722975</td>\n",
       "      <td>0.0</td>\n",
       "    </tr>\n",
       "    <tr>\n",
       "      <th>2</th>\n",
       "      <td>130.585938</td>\n",
       "      <td>53.229534</td>\n",
       "      <td>0.133408</td>\n",
       "      <td>-0.297242</td>\n",
       "      <td>2.743311</td>\n",
       "      <td>22.362553</td>\n",
       "      <td>8.508364</td>\n",
       "      <td>74.031324</td>\n",
       "      <td>0.0</td>\n",
       "    </tr>\n",
       "    <tr>\n",
       "      <th>3</th>\n",
       "      <td>156.398438</td>\n",
       "      <td>48.865942</td>\n",
       "      <td>-0.215989</td>\n",
       "      <td>-0.171294</td>\n",
       "      <td>17.471572</td>\n",
       "      <td>NaN</td>\n",
       "      <td>2.958066</td>\n",
       "      <td>7.197842</td>\n",
       "      <td>0.0</td>\n",
       "    </tr>\n",
       "    <tr>\n",
       "      <th>4</th>\n",
       "      <td>84.804688</td>\n",
       "      <td>36.117659</td>\n",
       "      <td>0.825013</td>\n",
       "      <td>3.274125</td>\n",
       "      <td>2.790134</td>\n",
       "      <td>20.618009</td>\n",
       "      <td>8.405008</td>\n",
       "      <td>76.291128</td>\n",
       "      <td>0.0</td>\n",
       "    </tr>\n",
       "  </tbody>\n",
       "</table>\n",
       "</div>\n",
       "      <button class=\"colab-df-convert\" onclick=\"convertToInteractive('df-dc1368a3-e4fa-4511-97b6-30739acc655a')\"\n",
       "              title=\"Convert this dataframe to an interactive table.\"\n",
       "              style=\"display:none;\">\n",
       "        \n",
       "  <svg xmlns=\"http://www.w3.org/2000/svg\" height=\"24px\"viewBox=\"0 0 24 24\"\n",
       "       width=\"24px\">\n",
       "    <path d=\"M0 0h24v24H0V0z\" fill=\"none\"/>\n",
       "    <path d=\"M18.56 5.44l.94 2.06.94-2.06 2.06-.94-2.06-.94-.94-2.06-.94 2.06-2.06.94zm-11 1L8.5 8.5l.94-2.06 2.06-.94-2.06-.94L8.5 2.5l-.94 2.06-2.06.94zm10 10l.94 2.06.94-2.06 2.06-.94-2.06-.94-.94-2.06-.94 2.06-2.06.94z\"/><path d=\"M17.41 7.96l-1.37-1.37c-.4-.4-.92-.59-1.43-.59-.52 0-1.04.2-1.43.59L10.3 9.45l-7.72 7.72c-.78.78-.78 2.05 0 2.83L4 21.41c.39.39.9.59 1.41.59.51 0 1.02-.2 1.41-.59l7.78-7.78 2.81-2.81c.8-.78.8-2.07 0-2.86zM5.41 20L4 18.59l7.72-7.72 1.47 1.35L5.41 20z\"/>\n",
       "  </svg>\n",
       "      </button>\n",
       "      \n",
       "  <style>\n",
       "    .colab-df-container {\n",
       "      display:flex;\n",
       "      flex-wrap:wrap;\n",
       "      gap: 12px;\n",
       "    }\n",
       "\n",
       "    .colab-df-convert {\n",
       "      background-color: #E8F0FE;\n",
       "      border: none;\n",
       "      border-radius: 50%;\n",
       "      cursor: pointer;\n",
       "      display: none;\n",
       "      fill: #1967D2;\n",
       "      height: 32px;\n",
       "      padding: 0 0 0 0;\n",
       "      width: 32px;\n",
       "    }\n",
       "\n",
       "    .colab-df-convert:hover {\n",
       "      background-color: #E2EBFA;\n",
       "      box-shadow: 0px 1px 2px rgba(60, 64, 67, 0.3), 0px 1px 3px 1px rgba(60, 64, 67, 0.15);\n",
       "      fill: #174EA6;\n",
       "    }\n",
       "\n",
       "    [theme=dark] .colab-df-convert {\n",
       "      background-color: #3B4455;\n",
       "      fill: #D2E3FC;\n",
       "    }\n",
       "\n",
       "    [theme=dark] .colab-df-convert:hover {\n",
       "      background-color: #434B5C;\n",
       "      box-shadow: 0px 1px 3px 1px rgba(0, 0, 0, 0.15);\n",
       "      filter: drop-shadow(0px 1px 2px rgba(0, 0, 0, 0.3));\n",
       "      fill: #FFFFFF;\n",
       "    }\n",
       "  </style>\n",
       "\n",
       "      <script>\n",
       "        const buttonEl =\n",
       "          document.querySelector('#df-dc1368a3-e4fa-4511-97b6-30739acc655a button.colab-df-convert');\n",
       "        buttonEl.style.display =\n",
       "          google.colab.kernel.accessAllowed ? 'block' : 'none';\n",
       "\n",
       "        async function convertToInteractive(key) {\n",
       "          const element = document.querySelector('#df-dc1368a3-e4fa-4511-97b6-30739acc655a');\n",
       "          const dataTable =\n",
       "            await google.colab.kernel.invokeFunction('convertToInteractive',\n",
       "                                                     [key], {});\n",
       "          if (!dataTable) return;\n",
       "\n",
       "          const docLinkHtml = 'Like what you see? Visit the ' +\n",
       "            '<a target=\"_blank\" href=https://colab.research.google.com/notebooks/data_table.ipynb>data table notebook</a>'\n",
       "            + ' to learn more about interactive tables.';\n",
       "          element.innerHTML = '';\n",
       "          dataTable['output_type'] = 'display_data';\n",
       "          await google.colab.output.renderOutput(dataTable, element);\n",
       "          const docLink = document.createElement('div');\n",
       "          docLink.innerHTML = docLinkHtml;\n",
       "          element.appendChild(docLink);\n",
       "        }\n",
       "      </script>\n",
       "    </div>\n",
       "  </div>\n",
       "  "
      ],
      "text/plain": [
       "    Mean of the integrated profile  \\\n",
       "0                       121.156250   \n",
       "1                        76.968750   \n",
       "2                       130.585938   \n",
       "3                       156.398438   \n",
       "4                        84.804688   \n",
       "\n",
       "    Standard deviation of the integrated profile  \\\n",
       "0                                      48.372971   \n",
       "1                                      36.175557   \n",
       "2                                      53.229534   \n",
       "3                                      48.865942   \n",
       "4                                      36.117659   \n",
       "\n",
       "    Excess kurtosis of the integrated profile  \\\n",
       "0                                    0.375485   \n",
       "1                                    0.712898   \n",
       "2                                    0.133408   \n",
       "3                                   -0.215989   \n",
       "4                                    0.825013   \n",
       "\n",
       "    Skewness of the integrated profile   Mean of the DM-SNR curve  \\\n",
       "0                            -0.013165                   3.168896   \n",
       "1                             3.388719                   2.399666   \n",
       "2                            -0.297242                   2.743311   \n",
       "3                            -0.171294                  17.471572   \n",
       "4                             3.274125                   2.790134   \n",
       "\n",
       "    Standard deviation of the DM-SNR curve  \\\n",
       "0                                18.399367   \n",
       "1                                17.570997   \n",
       "2                                22.362553   \n",
       "3                                      NaN   \n",
       "4                                20.618009   \n",
       "\n",
       "    Excess kurtosis of the DM-SNR curve   Skewness of the DM-SNR curve  \\\n",
       "0                              7.449874                      65.159298   \n",
       "1                              9.414652                     102.722975   \n",
       "2                              8.508364                      74.031324   \n",
       "3                              2.958066                       7.197842   \n",
       "4                              8.405008                      76.291128   \n",
       "\n",
       "   target_class  \n",
       "0           0.0  \n",
       "1           0.0  \n",
       "2           0.0  \n",
       "3           0.0  \n",
       "4           0.0  "
      ]
     },
     "execution_count": 3,
     "metadata": {},
     "output_type": "execute_result"
    }
   ],
   "source": [
    "df = pd.read_csv('/content/pulsar_data_train.csv')\n",
    "df.head()"
   ]
  }
 ],
 "metadata": {
  "colab": {
   "authorship_tag": "ABX9TyP47pPFTfmnvnAUu2vL7SJE",
   "name": "DS Expt8.ipynb",
   "provenance": []
  },
  "kernelspec": {
   "display_name": "Python 3",
   "language": "python",
   "name": "python3"
  },
  "language_info": {
   "codemirror_mode": {
    "name": "ipython",
    "version": 3
   },
   "file_extension": ".py",
   "mimetype": "text/x-python",
   "name": "python",
   "nbconvert_exporter": "python",
   "pygments_lexer": "ipython3",
   "version": "3.8.3"
  }
 },
 "nbformat": 4,
 "nbformat_minor": 1
}
